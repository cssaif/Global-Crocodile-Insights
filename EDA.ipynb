{
 "cells": [
  {
   "cell_type": "code",
   "execution_count": 2,
   "id": "d4631cac",
   "metadata": {},
   "outputs": [
    {
     "name": "stderr",
     "output_type": "stream",
     "text": [
      "/Library/Frameworks/Python.framework/Versions/3.13/lib/python3.13/site-packages/tqdm/auto.py:21: TqdmWarning: IProgress not found. Please update jupyter and ipywidgets. See https://ipywidgets.readthedocs.io/en/stable/user_install.html\n",
      "  from .autonotebook import tqdm as notebook_tqdm\n"
     ]
    }
   ],
   "source": [
    "import pandas as pd\n",
    "import numpy as np\n",
    "import kagglehub\n",
    "import os\n",
    "import plotly.express as px"
   ]
  },
  {
   "cell_type": "code",
   "execution_count": 3,
   "id": "144b7911",
   "metadata": {},
   "outputs": [
    {
     "name": "stdout",
     "output_type": "stream",
     "text": [
      "Path to dataset files: /Users/saif/.cache/kagglehub/datasets/zadafiyabhrami/global-crocodile-species-dataset/versions/1\n",
      "['crocodile_dataset.csv']\n"
     ]
    }
   ],
   "source": [
    "# Download the \"Global Crocodile Species\" dataset from Kaggle\n",
    "\n",
    "path = kagglehub.dataset_download(\"zadafiyabhrami/global-crocodile-species-dataset\")\n",
    "\n",
    "print(\"Path to dataset files:\", path)   # Print the local path where the dataset is saved\n",
    "print(os.listdir(path))"
   ]
  },
  {
   "cell_type": "code",
   "execution_count": 4,
   "id": "01e09efa",
   "metadata": {},
   "outputs": [],
   "source": [
    "\n",
    "# Load the CSV file into a DataFrame\n",
    "path = os.path.join(path, \"crocodile_dataset.csv\")\n",
    "df = pd.read_csv(path)"
   ]
  },
  {
   "cell_type": "code",
   "execution_count": 5,
   "id": "d6fe90de",
   "metadata": {},
   "outputs": [
    {
     "name": "stdout",
     "output_type": "stream",
     "text": [
      "\n",
      "First 5 rows: \n"
     ]
    },
    {
     "data": {
      "application/vnd.microsoft.datawrangler.viewer.v0+json": {
       "columns": [
        {
         "name": "index",
         "rawType": "int64",
         "type": "integer"
        },
        {
         "name": "Observation ID",
         "rawType": "int64",
         "type": "integer"
        },
        {
         "name": "Common Name",
         "rawType": "object",
         "type": "string"
        },
        {
         "name": "Scientific Name",
         "rawType": "object",
         "type": "string"
        },
        {
         "name": "Family",
         "rawType": "object",
         "type": "string"
        },
        {
         "name": "Genus",
         "rawType": "object",
         "type": "string"
        },
        {
         "name": "Observed Length (m)",
         "rawType": "float64",
         "type": "float"
        },
        {
         "name": "Observed Weight (kg)",
         "rawType": "float64",
         "type": "float"
        },
        {
         "name": "Age Class",
         "rawType": "object",
         "type": "string"
        },
        {
         "name": "Sex",
         "rawType": "object",
         "type": "string"
        },
        {
         "name": "Date of Observation",
         "rawType": "object",
         "type": "string"
        },
        {
         "name": "Country/Region",
         "rawType": "object",
         "type": "string"
        },
        {
         "name": "Habitat Type",
         "rawType": "object",
         "type": "string"
        },
        {
         "name": "Conservation Status",
         "rawType": "object",
         "type": "string"
        },
        {
         "name": "Observer Name",
         "rawType": "object",
         "type": "string"
        },
        {
         "name": "Notes",
         "rawType": "object",
         "type": "string"
        }
       ],
       "ref": "c922b703-7edc-47a8-9460-ec116f7f6c91",
       "rows": [
        [
         "0",
         "1",
         "Morelet's Crocodile",
         "Crocodylus moreletii",
         "Crocodylidae",
         "Crocodylus",
         "1.9",
         "62.0",
         "Adult",
         "Male",
         "31-03-2018",
         "Belize",
         "Swamps",
         "Least Concern",
         "Allison Hill",
         "Cause bill scientist nation opportunity."
        ],
        [
         "1",
         "2",
         "American Crocodile",
         "Crocodylus acutus",
         "Crocodylidae",
         "Crocodylus",
         "4.09",
         "334.5",
         "Adult",
         "Male",
         "28-01-2015",
         "Venezuela",
         "Mangroves",
         "Vulnerable",
         "Brandon Hall",
         "Ago current practice nation determine operation speak according."
        ],
        [
         "2",
         "3",
         "Orinoco Crocodile",
         "Crocodylus intermedius",
         "Crocodylidae",
         "Crocodylus",
         "1.08",
         "118.2",
         "Juvenile",
         "Unknown",
         "07-12-2010",
         "Venezuela",
         "Flooded Savannas",
         "Critically Endangered",
         "Melissa Peterson",
         "Democratic shake bill here grow gas enough analysis least by two."
        ],
        [
         "3",
         "4",
         "Morelet's Crocodile",
         "Crocodylus moreletii",
         "Crocodylidae",
         "Crocodylus",
         "2.42",
         "90.4",
         "Adult",
         "Male",
         "01-11-2019",
         "Mexico",
         "Rivers",
         "Least Concern",
         "Edward Fuller",
         "Officer relate animal direction eye bag do."
        ],
        [
         "4",
         "5",
         "Mugger Crocodile (Marsh Crocodile)",
         "Crocodylus palustris",
         "Crocodylidae",
         "Crocodylus",
         "3.75",
         "269.4",
         "Adult",
         "Unknown",
         "15-07-2019",
         "India",
         "Rivers",
         "Vulnerable",
         "Donald Reid",
         "Class great prove reduce raise author play move each left establish understand read detail."
        ]
       ],
       "shape": {
        "columns": 15,
        "rows": 5
       }
      },
      "text/html": [
       "<div>\n",
       "<style scoped>\n",
       "    .dataframe tbody tr th:only-of-type {\n",
       "        vertical-align: middle;\n",
       "    }\n",
       "\n",
       "    .dataframe tbody tr th {\n",
       "        vertical-align: top;\n",
       "    }\n",
       "\n",
       "    .dataframe thead th {\n",
       "        text-align: right;\n",
       "    }\n",
       "</style>\n",
       "<table border=\"1\" class=\"dataframe\">\n",
       "  <thead>\n",
       "    <tr style=\"text-align: right;\">\n",
       "      <th></th>\n",
       "      <th>Observation ID</th>\n",
       "      <th>Common Name</th>\n",
       "      <th>Scientific Name</th>\n",
       "      <th>Family</th>\n",
       "      <th>Genus</th>\n",
       "      <th>Observed Length (m)</th>\n",
       "      <th>Observed Weight (kg)</th>\n",
       "      <th>Age Class</th>\n",
       "      <th>Sex</th>\n",
       "      <th>Date of Observation</th>\n",
       "      <th>Country/Region</th>\n",
       "      <th>Habitat Type</th>\n",
       "      <th>Conservation Status</th>\n",
       "      <th>Observer Name</th>\n",
       "      <th>Notes</th>\n",
       "    </tr>\n",
       "  </thead>\n",
       "  <tbody>\n",
       "    <tr>\n",
       "      <th>0</th>\n",
       "      <td>1</td>\n",
       "      <td>Morelet's Crocodile</td>\n",
       "      <td>Crocodylus moreletii</td>\n",
       "      <td>Crocodylidae</td>\n",
       "      <td>Crocodylus</td>\n",
       "      <td>1.90</td>\n",
       "      <td>62.0</td>\n",
       "      <td>Adult</td>\n",
       "      <td>Male</td>\n",
       "      <td>31-03-2018</td>\n",
       "      <td>Belize</td>\n",
       "      <td>Swamps</td>\n",
       "      <td>Least Concern</td>\n",
       "      <td>Allison Hill</td>\n",
       "      <td>Cause bill scientist nation opportunity.</td>\n",
       "    </tr>\n",
       "    <tr>\n",
       "      <th>1</th>\n",
       "      <td>2</td>\n",
       "      <td>American Crocodile</td>\n",
       "      <td>Crocodylus acutus</td>\n",
       "      <td>Crocodylidae</td>\n",
       "      <td>Crocodylus</td>\n",
       "      <td>4.09</td>\n",
       "      <td>334.5</td>\n",
       "      <td>Adult</td>\n",
       "      <td>Male</td>\n",
       "      <td>28-01-2015</td>\n",
       "      <td>Venezuela</td>\n",
       "      <td>Mangroves</td>\n",
       "      <td>Vulnerable</td>\n",
       "      <td>Brandon Hall</td>\n",
       "      <td>Ago current practice nation determine operatio...</td>\n",
       "    </tr>\n",
       "    <tr>\n",
       "      <th>2</th>\n",
       "      <td>3</td>\n",
       "      <td>Orinoco Crocodile</td>\n",
       "      <td>Crocodylus intermedius</td>\n",
       "      <td>Crocodylidae</td>\n",
       "      <td>Crocodylus</td>\n",
       "      <td>1.08</td>\n",
       "      <td>118.2</td>\n",
       "      <td>Juvenile</td>\n",
       "      <td>Unknown</td>\n",
       "      <td>07-12-2010</td>\n",
       "      <td>Venezuela</td>\n",
       "      <td>Flooded Savannas</td>\n",
       "      <td>Critically Endangered</td>\n",
       "      <td>Melissa Peterson</td>\n",
       "      <td>Democratic shake bill here grow gas enough ana...</td>\n",
       "    </tr>\n",
       "    <tr>\n",
       "      <th>3</th>\n",
       "      <td>4</td>\n",
       "      <td>Morelet's Crocodile</td>\n",
       "      <td>Crocodylus moreletii</td>\n",
       "      <td>Crocodylidae</td>\n",
       "      <td>Crocodylus</td>\n",
       "      <td>2.42</td>\n",
       "      <td>90.4</td>\n",
       "      <td>Adult</td>\n",
       "      <td>Male</td>\n",
       "      <td>01-11-2019</td>\n",
       "      <td>Mexico</td>\n",
       "      <td>Rivers</td>\n",
       "      <td>Least Concern</td>\n",
       "      <td>Edward Fuller</td>\n",
       "      <td>Officer relate animal direction eye bag do.</td>\n",
       "    </tr>\n",
       "    <tr>\n",
       "      <th>4</th>\n",
       "      <td>5</td>\n",
       "      <td>Mugger Crocodile (Marsh Crocodile)</td>\n",
       "      <td>Crocodylus palustris</td>\n",
       "      <td>Crocodylidae</td>\n",
       "      <td>Crocodylus</td>\n",
       "      <td>3.75</td>\n",
       "      <td>269.4</td>\n",
       "      <td>Adult</td>\n",
       "      <td>Unknown</td>\n",
       "      <td>15-07-2019</td>\n",
       "      <td>India</td>\n",
       "      <td>Rivers</td>\n",
       "      <td>Vulnerable</td>\n",
       "      <td>Donald Reid</td>\n",
       "      <td>Class great prove reduce raise author play mov...</td>\n",
       "    </tr>\n",
       "  </tbody>\n",
       "</table>\n",
       "</div>"
      ],
      "text/plain": [
       "   Observation ID                         Common Name         Scientific Name  \\\n",
       "0               1                 Morelet's Crocodile    Crocodylus moreletii   \n",
       "1               2                  American Crocodile       Crocodylus acutus   \n",
       "2               3                   Orinoco Crocodile  Crocodylus intermedius   \n",
       "3               4                 Morelet's Crocodile    Crocodylus moreletii   \n",
       "4               5  Mugger Crocodile (Marsh Crocodile)    Crocodylus palustris   \n",
       "\n",
       "         Family       Genus  Observed Length (m)  Observed Weight (kg)  \\\n",
       "0  Crocodylidae  Crocodylus                 1.90                  62.0   \n",
       "1  Crocodylidae  Crocodylus                 4.09                 334.5   \n",
       "2  Crocodylidae  Crocodylus                 1.08                 118.2   \n",
       "3  Crocodylidae  Crocodylus                 2.42                  90.4   \n",
       "4  Crocodylidae  Crocodylus                 3.75                 269.4   \n",
       "\n",
       "  Age Class      Sex Date of Observation Country/Region      Habitat Type  \\\n",
       "0     Adult     Male          31-03-2018         Belize            Swamps   \n",
       "1     Adult     Male          28-01-2015      Venezuela         Mangroves   \n",
       "2  Juvenile  Unknown          07-12-2010      Venezuela  Flooded Savannas   \n",
       "3     Adult     Male          01-11-2019         Mexico            Rivers   \n",
       "4     Adult  Unknown          15-07-2019          India            Rivers   \n",
       "\n",
       "     Conservation Status     Observer Name  \\\n",
       "0          Least Concern      Allison Hill   \n",
       "1             Vulnerable      Brandon Hall   \n",
       "2  Critically Endangered  Melissa Peterson   \n",
       "3          Least Concern     Edward Fuller   \n",
       "4             Vulnerable       Donald Reid   \n",
       "\n",
       "                                               Notes  \n",
       "0           Cause bill scientist nation opportunity.  \n",
       "1  Ago current practice nation determine operatio...  \n",
       "2  Democratic shake bill here grow gas enough ana...  \n",
       "3        Officer relate animal direction eye bag do.  \n",
       "4  Class great prove reduce raise author play mov...  "
      ]
     },
     "metadata": {},
     "output_type": "display_data"
    },
    {
     "name": "stdout",
     "output_type": "stream",
     "text": [
      "\n",
      "Last 5 rows: \n"
     ]
    },
    {
     "data": {
      "application/vnd.microsoft.datawrangler.viewer.v0+json": {
       "columns": [
        {
         "name": "index",
         "rawType": "int64",
         "type": "integer"
        },
        {
         "name": "Observation ID",
         "rawType": "int64",
         "type": "integer"
        },
        {
         "name": "Common Name",
         "rawType": "object",
         "type": "string"
        },
        {
         "name": "Scientific Name",
         "rawType": "object",
         "type": "string"
        },
        {
         "name": "Family",
         "rawType": "object",
         "type": "string"
        },
        {
         "name": "Genus",
         "rawType": "object",
         "type": "string"
        },
        {
         "name": "Observed Length (m)",
         "rawType": "float64",
         "type": "float"
        },
        {
         "name": "Observed Weight (kg)",
         "rawType": "float64",
         "type": "float"
        },
        {
         "name": "Age Class",
         "rawType": "object",
         "type": "string"
        },
        {
         "name": "Sex",
         "rawType": "object",
         "type": "string"
        },
        {
         "name": "Date of Observation",
         "rawType": "object",
         "type": "string"
        },
        {
         "name": "Country/Region",
         "rawType": "object",
         "type": "string"
        },
        {
         "name": "Habitat Type",
         "rawType": "object",
         "type": "string"
        },
        {
         "name": "Conservation Status",
         "rawType": "object",
         "type": "string"
        },
        {
         "name": "Observer Name",
         "rawType": "object",
         "type": "string"
        },
        {
         "name": "Notes",
         "rawType": "object",
         "type": "string"
        }
       ],
       "ref": "60188506-efe5-4ed2-bc2b-99eac14ddebf",
       "rows": [
        [
         "995",
         "996",
         "West African Crocodile",
         "Crocodylus suchus",
         "Crocodylidae",
         "Crocodylus",
         "2.55",
         "112.3",
         "Adult",
         "Female",
         "01-10-2015",
         "Mauritania",
         "Lakes",
         "Least Concern",
         "Karen Avery",
         "Thousand position sense church out explain significant item all at be through certainly political hard hotel let."
        ],
        [
         "996",
         "997",
         "Hall's New Guinea Crocodile",
         "Crocodylus halli",
         "Crocodylidae",
         "Crocodylus",
         "2.27",
         "80.3",
         "Subadult",
         "Female",
         "25-01-2023",
         "Papua New Guinea",
         "Freshwater Wetlands",
         "Least Concern",
         "Sylvia Turner",
         "Painting try talk like maintain serious style."
        ],
        [
         "997",
         "998",
         "West African Slender-snouted Crocodile",
         "Mecistops cataphractus",
         "Crocodylidae",
         "Mecistops",
         "2.34",
         "93.5",
         "Adult",
         "Male",
         "07-02-2014",
         "Côte d'Ivoire",
         "Swamps",
         "Critically Endangered",
         "Kristin Fleming",
         "Produce off light before majority garden military place edge environmental even eye message fine town trade not."
        ],
        [
         "998",
         "999",
         "West African Slender-snouted Crocodile",
         "Mecistops cataphractus",
         "Crocodylidae",
         "Mecistops",
         "2.82",
         "147.6",
         "Adult",
         "Male",
         "09-07-2010",
         "Sierra Leone",
         "Shaded Forest Rivers",
         "Critically Endangered",
         "Eric Petersen",
         "Put everything our prove could party skin soon read couple rather."
        ],
        [
         "999",
         "1000",
         "Hall's New Guinea Crocodile",
         "Crocodylus halli",
         "Crocodylidae",
         "Crocodylus",
         "1.73",
         "47.4",
         "Juvenile",
         "Unknown",
         "31-03-2014",
         "Papua New Guinea",
         "Freshwater Wetlands",
         "Least Concern",
         "Kristen Harris",
         "Ok community right then police day so store consumer positive."
        ]
       ],
       "shape": {
        "columns": 15,
        "rows": 5
       }
      },
      "text/html": [
       "<div>\n",
       "<style scoped>\n",
       "    .dataframe tbody tr th:only-of-type {\n",
       "        vertical-align: middle;\n",
       "    }\n",
       "\n",
       "    .dataframe tbody tr th {\n",
       "        vertical-align: top;\n",
       "    }\n",
       "\n",
       "    .dataframe thead th {\n",
       "        text-align: right;\n",
       "    }\n",
       "</style>\n",
       "<table border=\"1\" class=\"dataframe\">\n",
       "  <thead>\n",
       "    <tr style=\"text-align: right;\">\n",
       "      <th></th>\n",
       "      <th>Observation ID</th>\n",
       "      <th>Common Name</th>\n",
       "      <th>Scientific Name</th>\n",
       "      <th>Family</th>\n",
       "      <th>Genus</th>\n",
       "      <th>Observed Length (m)</th>\n",
       "      <th>Observed Weight (kg)</th>\n",
       "      <th>Age Class</th>\n",
       "      <th>Sex</th>\n",
       "      <th>Date of Observation</th>\n",
       "      <th>Country/Region</th>\n",
       "      <th>Habitat Type</th>\n",
       "      <th>Conservation Status</th>\n",
       "      <th>Observer Name</th>\n",
       "      <th>Notes</th>\n",
       "    </tr>\n",
       "  </thead>\n",
       "  <tbody>\n",
       "    <tr>\n",
       "      <th>995</th>\n",
       "      <td>996</td>\n",
       "      <td>West African Crocodile</td>\n",
       "      <td>Crocodylus suchus</td>\n",
       "      <td>Crocodylidae</td>\n",
       "      <td>Crocodylus</td>\n",
       "      <td>2.55</td>\n",
       "      <td>112.3</td>\n",
       "      <td>Adult</td>\n",
       "      <td>Female</td>\n",
       "      <td>01-10-2015</td>\n",
       "      <td>Mauritania</td>\n",
       "      <td>Lakes</td>\n",
       "      <td>Least Concern</td>\n",
       "      <td>Karen Avery</td>\n",
       "      <td>Thousand position sense church out explain sig...</td>\n",
       "    </tr>\n",
       "    <tr>\n",
       "      <th>996</th>\n",
       "      <td>997</td>\n",
       "      <td>Hall's New Guinea Crocodile</td>\n",
       "      <td>Crocodylus halli</td>\n",
       "      <td>Crocodylidae</td>\n",
       "      <td>Crocodylus</td>\n",
       "      <td>2.27</td>\n",
       "      <td>80.3</td>\n",
       "      <td>Subadult</td>\n",
       "      <td>Female</td>\n",
       "      <td>25-01-2023</td>\n",
       "      <td>Papua New Guinea</td>\n",
       "      <td>Freshwater Wetlands</td>\n",
       "      <td>Least Concern</td>\n",
       "      <td>Sylvia Turner</td>\n",
       "      <td>Painting try talk like maintain serious style.</td>\n",
       "    </tr>\n",
       "    <tr>\n",
       "      <th>997</th>\n",
       "      <td>998</td>\n",
       "      <td>West African Slender-snouted Crocodile</td>\n",
       "      <td>Mecistops cataphractus</td>\n",
       "      <td>Crocodylidae</td>\n",
       "      <td>Mecistops</td>\n",
       "      <td>2.34</td>\n",
       "      <td>93.5</td>\n",
       "      <td>Adult</td>\n",
       "      <td>Male</td>\n",
       "      <td>07-02-2014</td>\n",
       "      <td>Côte d'Ivoire</td>\n",
       "      <td>Swamps</td>\n",
       "      <td>Critically Endangered</td>\n",
       "      <td>Kristin Fleming</td>\n",
       "      <td>Produce off light before majority garden milit...</td>\n",
       "    </tr>\n",
       "    <tr>\n",
       "      <th>998</th>\n",
       "      <td>999</td>\n",
       "      <td>West African Slender-snouted Crocodile</td>\n",
       "      <td>Mecistops cataphractus</td>\n",
       "      <td>Crocodylidae</td>\n",
       "      <td>Mecistops</td>\n",
       "      <td>2.82</td>\n",
       "      <td>147.6</td>\n",
       "      <td>Adult</td>\n",
       "      <td>Male</td>\n",
       "      <td>09-07-2010</td>\n",
       "      <td>Sierra Leone</td>\n",
       "      <td>Shaded Forest Rivers</td>\n",
       "      <td>Critically Endangered</td>\n",
       "      <td>Eric Petersen</td>\n",
       "      <td>Put everything our prove could party skin soon...</td>\n",
       "    </tr>\n",
       "    <tr>\n",
       "      <th>999</th>\n",
       "      <td>1000</td>\n",
       "      <td>Hall's New Guinea Crocodile</td>\n",
       "      <td>Crocodylus halli</td>\n",
       "      <td>Crocodylidae</td>\n",
       "      <td>Crocodylus</td>\n",
       "      <td>1.73</td>\n",
       "      <td>47.4</td>\n",
       "      <td>Juvenile</td>\n",
       "      <td>Unknown</td>\n",
       "      <td>31-03-2014</td>\n",
       "      <td>Papua New Guinea</td>\n",
       "      <td>Freshwater Wetlands</td>\n",
       "      <td>Least Concern</td>\n",
       "      <td>Kristen Harris</td>\n",
       "      <td>Ok community right then police day so store co...</td>\n",
       "    </tr>\n",
       "  </tbody>\n",
       "</table>\n",
       "</div>"
      ],
      "text/plain": [
       "     Observation ID                             Common Name  \\\n",
       "995             996                  West African Crocodile   \n",
       "996             997             Hall's New Guinea Crocodile   \n",
       "997             998  West African Slender-snouted Crocodile   \n",
       "998             999  West African Slender-snouted Crocodile   \n",
       "999            1000             Hall's New Guinea Crocodile   \n",
       "\n",
       "            Scientific Name        Family       Genus  Observed Length (m)  \\\n",
       "995       Crocodylus suchus  Crocodylidae  Crocodylus                 2.55   \n",
       "996        Crocodylus halli  Crocodylidae  Crocodylus                 2.27   \n",
       "997  Mecistops cataphractus  Crocodylidae   Mecistops                 2.34   \n",
       "998  Mecistops cataphractus  Crocodylidae   Mecistops                 2.82   \n",
       "999        Crocodylus halli  Crocodylidae  Crocodylus                 1.73   \n",
       "\n",
       "     Observed Weight (kg) Age Class      Sex Date of Observation  \\\n",
       "995                 112.3     Adult   Female          01-10-2015   \n",
       "996                  80.3  Subadult   Female          25-01-2023   \n",
       "997                  93.5     Adult     Male          07-02-2014   \n",
       "998                 147.6     Adult     Male          09-07-2010   \n",
       "999                  47.4  Juvenile  Unknown          31-03-2014   \n",
       "\n",
       "       Country/Region          Habitat Type    Conservation Status  \\\n",
       "995        Mauritania                 Lakes          Least Concern   \n",
       "996  Papua New Guinea   Freshwater Wetlands          Least Concern   \n",
       "997     Côte d'Ivoire                Swamps  Critically Endangered   \n",
       "998      Sierra Leone  Shaded Forest Rivers  Critically Endangered   \n",
       "999  Papua New Guinea   Freshwater Wetlands          Least Concern   \n",
       "\n",
       "       Observer Name                                              Notes  \n",
       "995      Karen Avery  Thousand position sense church out explain sig...  \n",
       "996    Sylvia Turner     Painting try talk like maintain serious style.  \n",
       "997  Kristin Fleming  Produce off light before majority garden milit...  \n",
       "998    Eric Petersen  Put everything our prove could party skin soon...  \n",
       "999   Kristen Harris  Ok community right then police day so store co...  "
      ]
     },
     "metadata": {},
     "output_type": "display_data"
    },
    {
     "name": "stdout",
     "output_type": "stream",
     "text": [
      "Dataset rows: 1000, Columns: 15\n",
      "\n",
      "Columns:\n",
      "   1. Observation ID      Type: int64   | Missing: 0    ( 0.00%) | Unique: 1000    | duplicates: 0\n",
      "   2. Common Name         Type: object  | Missing: 0    ( 0.00%) | Unique: 18      | duplicates: 0\n",
      "   3. Scientific Name     Type: object  | Missing: 0    ( 0.00%) | Unique: 18      | duplicates: 0\n",
      "   4. Family              Type: object  | Missing: 0    ( 0.00%) | Unique: 1       | duplicates: 0\n",
      "   5. Genus               Type: object  | Missing: 0    ( 0.00%) | Unique: 3       | duplicates: 0\n",
      "   6. Observed Length (m) Type: float64 | Missing: 0    ( 0.00%) | Unique: 390     | duplicates: 0\n",
      "   7. Observed Weight (kg)Type: float64 | Missing: 0    ( 0.00%) | Unique: 837     | duplicates: 0\n",
      "   8. Age Class           Type: object  | Missing: 0    ( 0.00%) | Unique: 4       | duplicates: 0\n",
      "   9. Sex                 Type: object  | Missing: 0    ( 0.00%) | Unique: 3       | duplicates: 0\n",
      "  10. Date of Observation Type: object  | Missing: 0    ( 0.00%) | Unique: 936     | duplicates: 0\n",
      "  11. Country/Region      Type: object  | Missing: 0    ( 0.00%) | Unique: 47      | duplicates: 0\n",
      "  12. Habitat Type        Type: object  | Missing: 0    ( 0.00%) | Unique: 29      | duplicates: 0\n",
      "  13. Conservation Status Type: object  | Missing: 0    ( 0.00%) | Unique: 5       | duplicates: 0\n",
      "  14. Observer Name       Type: object  | Missing: 0    ( 0.00%) | Unique: 989     | duplicates: 0\n",
      "  15. Notes               Type: object  | Missing: 0    ( 0.00%) | Unique: 1000    | duplicates: 0\n"
     ]
    }
   ],
   "source": [
    "print(\"\\nFirst 5 rows: \")\n",
    "display(df.head())\n",
    "print(\"\\nLast 5 rows: \")\n",
    "display(df.tail())\n",
    "\n",
    "print(f\"Dataset rows: {df.shape[0]}, Columns: {df.shape[1]}\\n\")\n",
    "\n",
    "# Loop through each column and display details\n",
    "print(\"Columns:\")\n",
    "for i, col in enumerate(df.columns, 1):\n",
    "    print(f\"  {i:2}. {col:<20}\"\n",
    "          f\"Type: {str(df[col].dtype):<7}\"\n",
    "          f\" | Missing: {df[col].isna().sum():<4} \"\n",
    "          f\"({df[col].isnull().sum()/df.shape[0]*100:5.2f}%)\"\n",
    "          f\" | Unique: {df[col].nunique():<7}\"\n",
    "          f\" | duplicates: {df.duplicated().sum()}\")\n",
    "\n",
    "\n",
    "# Drop the 'Family' column as it has only one unique value\n",
    "df.drop([\"Family\"], axis=1, inplace=True)"
   ]
  },
  {
   "cell_type": "code",
   "execution_count": 6,
   "id": "c01bdcfe",
   "metadata": {},
   "outputs": [
    {
     "name": "stdout",
     "output_type": "stream",
     "text": [
      "No missing values in the dataset.\n",
      "\n",
      "No duplicate rows in the dataset.\n"
     ]
    }
   ],
   "source": [
    "# Count total missing values in the dataset\n",
    "\n",
    "missing_count = df.isna().sum().sum()\n",
    "if missing_count == 0:\n",
    "    print(\"No missing values in the dataset.\")\n",
    "else:\n",
    "    print(f\"\\n  Number of missing values in the dataset: {missing_count} in following columns:\")\n",
    "    for col in df.columns:\n",
    "        if df[col].isna().sum() > 0:\n",
    "            print(f\"    {col}\")\n",
    "\n",
    "# Count duplicate rows in the dataset\n",
    "\n",
    "duplicate_count = df.duplicated().sum()\n",
    "if duplicate_count == 0:\n",
    "    print(\"\\nNo duplicate rows in the dataset.\")\n",
    "else:\n",
    "    print(f\"\\n  Number of duplicate rows in the dataset: {duplicate_count} in following rows:\")\n",
    "    duplicated_df = df[df.duplicated()]\n",
    "    for col in duplicated_df.columns:\n",
    "        print(f\"    {col}\")"
   ]
  },
  {
   "cell_type": "code",
   "execution_count": 7,
   "id": "ec6a43e4",
   "metadata": {},
   "outputs": [
    {
     "name": "stdout",
     "output_type": "stream",
     "text": [
      "Index(['observation_ID', 'common_name', 'scientific_name', 'genus', 'length_m',\n",
      "       'weight_kg', 'age_class', 'sex', 'observation_date', 'country',\n",
      "       'habitat_type', 'conservation_status', 'observer_name', 'notes'],\n",
      "      dtype='object')\n"
     ]
    },
    {
     "name": "stderr",
     "output_type": "stream",
     "text": [
      "/var/folders/8d/cbtkm7jj6zx2f7tj9clxr4w00000gn/T/ipykernel_7963/524464482.py:25: UserWarning: Parsing dates in %d-%m-%Y format when dayfirst=False (the default) was specified. Pass `dayfirst=True` or specify a format to silence this warning.\n",
      "  df[\"observation_date\"] = pd.to_datetime(df[\"observation_date\"])\n"
     ]
    }
   ],
   "source": [
    "# Rename columns for easier access in analysis\n",
    "\n",
    "df = df.rename(\n",
    "    columns={\n",
    "        \"Observed Length (m)\": \"length_m\",\n",
    "        \"Observed Weight (kg)\": \"weight_kg\",\n",
    "        \"Observation ID\": \"observation_ID\",\n",
    "        \"Scientific Name\": \"scientific_name\",\n",
    "        \"Age Class\": \"age_class\",\n",
    "        \"Date of Observation\": \"observation_date\",\n",
    "        \"Location\": \"location\",\n",
    "        \"Country/Region\": \"country\",\n",
    "        \"Common Name\": \"common_name\",\n",
    "        \"Genus\": \"genus\",\n",
    "        \"Habitat Type\": \"habitat_type\",\n",
    "        \"Conservation Status\": \"conservation_status\",\n",
    "        \"Observer Name\": \"observer_name\",\n",
    "        \"Sex\": \"sex\",\n",
    "        \"Notes\": \"notes\"\n",
    "\n",
    "    }\n",
    ")\n",
    "\n",
    "# Convert observation_date column from string to datetime\n",
    "df[\"observation_date\"] = pd.to_datetime(df[\"observation_date\"])\n",
    "\n",
    "print(df.columns)"
   ]
  },
  {
   "cell_type": "code",
   "execution_count": 8,
   "id": "dbb1699d",
   "metadata": {},
   "outputs": [
    {
     "name": "stdout",
     "output_type": "stream",
     "text": [
      "Categorical column value counts:\n",
      "\n",
      "Value counts for column common_name\n",
      "New Guinea Crocodile                         68\n",
      "Borneo Crocodile (disputed)                  67\n",
      "American Crocodile                           66\n",
      "Morelet's Crocodile                          64\n",
      "Cuban Crocodile                              59\n",
      "Orinoco Crocodile                            58\n",
      "Philippine Crocodile                         58\n",
      "Saltwater Crocodile                          58\n",
      "West African Dwarf Crocodile                 57\n",
      "Central African Slender-snouted Crocodile    56\n",
      "West African Slender-snouted Crocodile       55\n",
      "West African Crocodile                       52\n",
      "Hall's New Guinea Crocodile                  49\n",
      "Congo Dwarf Crocodile                        48\n",
      "Nile Crocodile                               48\n",
      "Mugger Crocodile (Marsh Crocodile)           47\n",
      "Siamese Crocodile                            45\n",
      "Freshwater Crocodile (Johnstone's)           45\n",
      "Name: count, dtype: int64:\n",
      "\n",
      "Value counts for column scientific_name\n",
      "Crocodylus novaeguineae    68\n",
      "Crocodylus raninus         67\n",
      "Crocodylus acutus          66\n",
      "Crocodylus moreletii       64\n",
      "Crocodylus rhombifer       59\n",
      "Crocodylus intermedius     58\n",
      "Crocodylus mindorensis     58\n",
      "Crocodylus porosus         58\n",
      "Osteolaemus tetraspis      57\n",
      "Mecistops leptorhynchus    56\n",
      "Mecistops cataphractus     55\n",
      "Crocodylus suchus          52\n",
      "Crocodylus halli           49\n",
      "Osteolaemus osborni        48\n",
      "Crocodylus niloticus       48\n",
      "Crocodylus palustris       47\n",
      "Crocodylus siamensis       45\n",
      "Crocodylus johnstoni       45\n",
      "Name: count, dtype: int64:\n",
      "\n",
      "Value counts for column genus\n",
      "Crocodylus     784\n",
      "Mecistops      111\n",
      "Osteolaemus    105\n",
      "Name: count, dtype: int64:\n",
      "\n",
      "Value counts for column age_class\n",
      "Adult        510\n",
      "Subadult     247\n",
      "Juvenile     194\n",
      "Hatchling     49\n",
      "Name: count, dtype: int64:\n",
      "\n",
      "Value counts for column sex\n",
      "Unknown    354\n",
      "Male       325\n",
      "Female     321\n",
      "Name: count, dtype: int64:\n",
      "\n",
      "Value counts for column country\n",
      "Papua New Guinea            97\n",
      "Cuba                        77\n",
      "Philippines                 68\n",
      "Australia                   54\n",
      "Venezuela                   47\n",
      "Malaysia (Borneo)           38\n",
      "Mexico                      35\n",
      "Congo (DRC)                 34\n",
      "Colombia                    32\n",
      "Indonesia (Papua)           32\n",
      "Indonesia (Borneo)          29\n",
      "Cameroon                    28\n",
      "Congo Basin Countries       27\n",
      "Côte d'Ivoire               22\n",
      "Guatemala                   21\n",
      "Liberia                     20\n",
      "Belize                      20\n",
      "Sierra Leone                17\n",
      "Guinea                      17\n",
      "India                       17\n",
      "Nigeria                     16\n",
      "Ghana                       16\n",
      "Central African Republic    14\n",
      "Pakistan                    14\n",
      "Cambodia                    13\n",
      "Tanzania                    12\n",
      "Mali                        12\n",
      "Niger                       11\n",
      "Laos                        11\n",
      "Vietnam                     11\n",
      "Iran (historic)             11\n",
      "Thailand                    10\n",
      "Sudan                       10\n",
      "Gabon                       10\n",
      "Malaysia                     9\n",
      "Senegal                      9\n",
      "Kenya                        8\n",
      "USA (Florida)                8\n",
      "South Africa                 8\n",
      "Indonesia                    8\n",
      "Chad                         8\n",
      "Sri Lanka                    8\n",
      "Costa Rica                   7\n",
      "Uganda                       7\n",
      "Mauritania                   7\n",
      "Nepal                        7\n",
      "Egypt                        3\n",
      "Name: count, dtype: int64:\n",
      "\n",
      "Value counts for column habitat_type\n",
      "Rivers                  165\n",
      "Swamps                  156\n",
      "Forest Swamps            57\n",
      "Lakes                    54\n",
      "Freshwater Wetlands      47\n",
      "Estuarine Systems        37\n",
      "Estuaries                34\n",
      "Mangroves                32\n",
      "Flooded Savannas         31\n",
      "Forest Rivers            30\n",
      "Reservoirs               29\n",
      "Small Streams            28\n",
      "Shaded Forest Rivers     28\n",
      "Large Rivers             27\n",
      "Marshes                  24\n",
      "Freshwater Marshes       23\n",
      "Slow Streams             20\n",
      "Coastal Lagoons          19\n",
      "Oases                    17\n",
      "Billabongs               17\n",
      "Lagoons                  16\n",
      "Coastal Wetlands         16\n",
      "Slow Rivers              15\n",
      "Gorges                   14\n",
      "Freshwater Rivers        14\n",
      "Ponds                    14\n",
      "Brackish Rivers          13\n",
      "Oxbow Lakes              13\n",
      "Tidal Rivers             10\n",
      "Name: count, dtype: int64:\n",
      "\n",
      "Value counts for column conservation_status\n",
      "Least Concern            384\n",
      "Critically Endangered    275\n",
      "Vulnerable               170\n",
      "Data Deficient           115\n",
      "Endangered                56\n",
      "Name: count, dtype: int64:\n",
      "\n",
      "Value counts for column observer_name\n",
      "Christina Davis    2\n",
      "David Smith        2\n",
      "Shannon Clark      2\n",
      "Jennifer Ortiz     2\n",
      "Michael Miller     2\n",
      "                  ..\n",
      "Karen Avery        1\n",
      "Sylvia Turner      1\n",
      "Kristin Fleming    1\n",
      "Eric Petersen      1\n",
      "Allison Hill       1\n",
      "Name: count, Length: 989, dtype: int64:\n",
      "\n",
      "Value counts for column notes\n",
      "Cause bill scientist nation opportunity.                                                                             1\n",
      "Ago current practice nation determine operation speak according.                                                     1\n",
      "Democratic shake bill here grow gas enough analysis least by two.                                                    1\n",
      "Officer relate animal direction eye bag do.                                                                          1\n",
      "Class great prove reduce raise author play move each left establish understand read detail.                          1\n",
      "                                                                                                                    ..\n",
      "Thousand position sense church out explain significant item all at be through certainly political hard hotel let.    1\n",
      "Painting try talk like maintain serious style.                                                                       1\n",
      "Produce off light before majority garden military place edge environmental even eye message fine town trade not.     1\n",
      "Put everything our prove could party skin soon read couple rather.                                                   1\n",
      "Ok community right then police day so store consumer positive.                                                       1\n",
      "Name: count, Length: 1000, dtype: int64:\n",
      "**************************************\n"
     ]
    },
    {
     "data": {
      "application/vnd.microsoft.datawrangler.viewer.v0+json": {
       "columns": [
        {
         "name": "index",
         "rawType": "object",
         "type": "string"
        },
        {
         "name": "length_m",
         "rawType": "float64",
         "type": "float"
        },
        {
         "name": "weight_kg",
         "rawType": "float64",
         "type": "float"
        }
       ],
       "ref": "eb4a5ad4-b8b0-43a8-b651-a9972bd7d6e0",
       "rows": [
        [
         "count",
         "1000.0",
         "1000.0"
        ],
        [
         "mean",
         "2.41511",
         "155.7719"
        ],
        [
         "std",
         "1.0975422483380248",
         "175.1867880609183"
        ],
        [
         "min",
         "0.14",
         "4.4"
        ],
        [
         "25%",
         "1.6375",
         "53.225"
        ],
        [
         "50%",
         "2.43",
         "100.6"
        ],
        [
         "75%",
         "3.01",
         "168.875"
        ],
        [
         "max",
         "6.12",
         "1139.7"
        ]
       ],
       "shape": {
        "columns": 2,
        "rows": 8
       }
      },
      "text/html": [
       "<div>\n",
       "<style scoped>\n",
       "    .dataframe tbody tr th:only-of-type {\n",
       "        vertical-align: middle;\n",
       "    }\n",
       "\n",
       "    .dataframe tbody tr th {\n",
       "        vertical-align: top;\n",
       "    }\n",
       "\n",
       "    .dataframe thead th {\n",
       "        text-align: right;\n",
       "    }\n",
       "</style>\n",
       "<table border=\"1\" class=\"dataframe\">\n",
       "  <thead>\n",
       "    <tr style=\"text-align: right;\">\n",
       "      <th></th>\n",
       "      <th>length_m</th>\n",
       "      <th>weight_kg</th>\n",
       "    </tr>\n",
       "  </thead>\n",
       "  <tbody>\n",
       "    <tr>\n",
       "      <th>count</th>\n",
       "      <td>1000.000000</td>\n",
       "      <td>1000.000000</td>\n",
       "    </tr>\n",
       "    <tr>\n",
       "      <th>mean</th>\n",
       "      <td>2.415110</td>\n",
       "      <td>155.771900</td>\n",
       "    </tr>\n",
       "    <tr>\n",
       "      <th>std</th>\n",
       "      <td>1.097542</td>\n",
       "      <td>175.186788</td>\n",
       "    </tr>\n",
       "    <tr>\n",
       "      <th>min</th>\n",
       "      <td>0.140000</td>\n",
       "      <td>4.400000</td>\n",
       "    </tr>\n",
       "    <tr>\n",
       "      <th>25%</th>\n",
       "      <td>1.637500</td>\n",
       "      <td>53.225000</td>\n",
       "    </tr>\n",
       "    <tr>\n",
       "      <th>50%</th>\n",
       "      <td>2.430000</td>\n",
       "      <td>100.600000</td>\n",
       "    </tr>\n",
       "    <tr>\n",
       "      <th>75%</th>\n",
       "      <td>3.010000</td>\n",
       "      <td>168.875000</td>\n",
       "    </tr>\n",
       "    <tr>\n",
       "      <th>max</th>\n",
       "      <td>6.120000</td>\n",
       "      <td>1139.700000</td>\n",
       "    </tr>\n",
       "  </tbody>\n",
       "</table>\n",
       "</div>"
      ],
      "text/plain": [
       "          length_m    weight_kg\n",
       "count  1000.000000  1000.000000\n",
       "mean      2.415110   155.771900\n",
       "std       1.097542   175.186788\n",
       "min       0.140000     4.400000\n",
       "25%       1.637500    53.225000\n",
       "50%       2.430000   100.600000\n",
       "75%       3.010000   168.875000\n",
       "max       6.120000  1139.700000"
      ]
     },
     "metadata": {},
     "output_type": "display_data"
    }
   ],
   "source": [
    "# Print value counts for each categorical column\n",
    "print(\"Categorical column value counts:\")\n",
    "cat_columns = df.select_dtypes(include=['object'])\n",
    "for col in cat_columns:\n",
    "    print(f\"\\nValue counts for column {df[col].value_counts(dropna=False)}:\")\n",
    "\n",
    "# Display summary statistics for numerical columns: length_m and weight_kg\n",
    "\n",
    "print(\"**************************************\")\n",
    "display(df[[\"length_m\", \"weight_kg\"]].describe())"
   ]
  },
  {
   "cell_type": "code",
   "execution_count": 9,
   "id": "9722bd84",
   "metadata": {},
   "outputs": [
    {
     "data": {
      "application/vnd.plotly.v1+json": {
       "config": {
        "plotlyServerURL": "https://plot.ly"
       },
       "data": [
        {
         "alignmentgroup": "True",
         "boxpoints": "outliers",
         "hovertemplate": "length_m=%{y}<extra></extra>",
         "legendgroup": "",
         "marker": {
          "color": "indianred"
         },
         "name": "",
         "notched": false,
         "offsetgroup": "",
         "orientation": "v",
         "showlegend": false,
         "type": "box",
         "x0": " ",
         "xaxis": "x",
         "y": {
          "bdata": "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",
          "dtype": "f8"
         },
         "y0": " ",
         "yaxis": "y"
        }
       ],
       "layout": {
        "boxmode": "group",
        "legend": {
         "tracegroupgap": 0
        },
        "template": {
         "data": {
          "bar": [
           {
            "error_x": {
             "color": "#2a3f5f"
            },
            "error_y": {
             "color": "#2a3f5f"
            },
            "marker": {
             "line": {
              "color": "#E5ECF6",
              "width": 0.5
             },
             "pattern": {
              "fillmode": "overlay",
              "size": 10,
              "solidity": 0.2
             }
            },
            "type": "bar"
           }
          ],
          "barpolar": [
           {
            "marker": {
             "line": {
              "color": "#E5ECF6",
              "width": 0.5
             },
             "pattern": {
              "fillmode": "overlay",
              "size": 10,
              "solidity": 0.2
             }
            },
            "type": "barpolar"
           }
          ],
          "carpet": [
           {
            "aaxis": {
             "endlinecolor": "#2a3f5f",
             "gridcolor": "white",
             "linecolor": "white",
             "minorgridcolor": "white",
             "startlinecolor": "#2a3f5f"
            },
            "baxis": {
             "endlinecolor": "#2a3f5f",
             "gridcolor": "white",
             "linecolor": "white",
             "minorgridcolor": "white",
             "startlinecolor": "#2a3f5f"
            },
            "type": "carpet"
           }
          ],
          "choropleth": [
           {
            "colorbar": {
             "outlinewidth": 0,
             "ticks": ""
            },
            "type": "choropleth"
           }
          ],
          "contour": [
           {
            "colorbar": {
             "outlinewidth": 0,
             "ticks": ""
            },
            "colorscale": [
             [
              0,
              "#0d0887"
             ],
             [
              0.1111111111111111,
              "#46039f"
             ],
             [
              0.2222222222222222,
              "#7201a8"
             ],
             [
              0.3333333333333333,
              "#9c179e"
             ],
             [
              0.4444444444444444,
              "#bd3786"
             ],
             [
              0.5555555555555556,
              "#d8576b"
             ],
             [
              0.6666666666666666,
              "#ed7953"
             ],
             [
              0.7777777777777778,
              "#fb9f3a"
             ],
             [
              0.8888888888888888,
              "#fdca26"
             ],
             [
              1,
              "#f0f921"
             ]
            ],
            "type": "contour"
           }
          ],
          "contourcarpet": [
           {
            "colorbar": {
             "outlinewidth": 0,
             "ticks": ""
            },
            "type": "contourcarpet"
           }
          ],
          "heatmap": [
           {
            "colorbar": {
             "outlinewidth": 0,
             "ticks": ""
            },
            "colorscale": [
             [
              0,
              "#0d0887"
             ],
             [
              0.1111111111111111,
              "#46039f"
             ],
             [
              0.2222222222222222,
              "#7201a8"
             ],
             [
              0.3333333333333333,
              "#9c179e"
             ],
             [
              0.4444444444444444,
              "#bd3786"
             ],
             [
              0.5555555555555556,
              "#d8576b"
             ],
             [
              0.6666666666666666,
              "#ed7953"
             ],
             [
              0.7777777777777778,
              "#fb9f3a"
             ],
             [
              0.8888888888888888,
              "#fdca26"
             ],
             [
              1,
              "#f0f921"
             ]
            ],
            "type": "heatmap"
           }
          ],
          "histogram": [
           {
            "marker": {
             "pattern": {
              "fillmode": "overlay",
              "size": 10,
              "solidity": 0.2
             }
            },
            "type": "histogram"
           }
          ],
          "histogram2d": [
           {
            "colorbar": {
             "outlinewidth": 0,
             "ticks": ""
            },
            "colorscale": [
             [
              0,
              "#0d0887"
             ],
             [
              0.1111111111111111,
              "#46039f"
             ],
             [
              0.2222222222222222,
              "#7201a8"
             ],
             [
              0.3333333333333333,
              "#9c179e"
             ],
             [
              0.4444444444444444,
              "#bd3786"
             ],
             [
              0.5555555555555556,
              "#d8576b"
             ],
             [
              0.6666666666666666,
              "#ed7953"
             ],
             [
              0.7777777777777778,
              "#fb9f3a"
             ],
             [
              0.8888888888888888,
              "#fdca26"
             ],
             [
              1,
              "#f0f921"
             ]
            ],
            "type": "histogram2d"
           }
          ],
          "histogram2dcontour": [
           {
            "colorbar": {
             "outlinewidth": 0,
             "ticks": ""
            },
            "colorscale": [
             [
              0,
              "#0d0887"
             ],
             [
              0.1111111111111111,
              "#46039f"
             ],
             [
              0.2222222222222222,
              "#7201a8"
             ],
             [
              0.3333333333333333,
              "#9c179e"
             ],
             [
              0.4444444444444444,
              "#bd3786"
             ],
             [
              0.5555555555555556,
              "#d8576b"
             ],
             [
              0.6666666666666666,
              "#ed7953"
             ],
             [
              0.7777777777777778,
              "#fb9f3a"
             ],
             [
              0.8888888888888888,
              "#fdca26"
             ],
             [
              1,
              "#f0f921"
             ]
            ],
            "type": "histogram2dcontour"
           }
          ],
          "mesh3d": [
           {
            "colorbar": {
             "outlinewidth": 0,
             "ticks": ""
            },
            "type": "mesh3d"
           }
          ],
          "parcoords": [
           {
            "line": {
             "colorbar": {
              "outlinewidth": 0,
              "ticks": ""
             }
            },
            "type": "parcoords"
           }
          ],
          "pie": [
           {
            "automargin": true,
            "type": "pie"
           }
          ],
          "scatter": [
           {
            "fillpattern": {
             "fillmode": "overlay",
             "size": 10,
             "solidity": 0.2
            },
            "type": "scatter"
           }
          ],
          "scatter3d": [
           {
            "line": {
             "colorbar": {
              "outlinewidth": 0,
              "ticks": ""
             }
            },
            "marker": {
             "colorbar": {
              "outlinewidth": 0,
              "ticks": ""
             }
            },
            "type": "scatter3d"
           }
          ],
          "scattercarpet": [
           {
            "marker": {
             "colorbar": {
              "outlinewidth": 0,
              "ticks": ""
             }
            },
            "type": "scattercarpet"
           }
          ],
          "scattergeo": [
           {
            "marker": {
             "colorbar": {
              "outlinewidth": 0,
              "ticks": ""
             }
            },
            "type": "scattergeo"
           }
          ],
          "scattergl": [
           {
            "marker": {
             "colorbar": {
              "outlinewidth": 0,
              "ticks": ""
             }
            },
            "type": "scattergl"
           }
          ],
          "scattermap": [
           {
            "marker": {
             "colorbar": {
              "outlinewidth": 0,
              "ticks": ""
             }
            },
            "type": "scattermap"
           }
          ],
          "scattermapbox": [
           {
            "marker": {
             "colorbar": {
              "outlinewidth": 0,
              "ticks": ""
             }
            },
            "type": "scattermapbox"
           }
          ],
          "scatterpolar": [
           {
            "marker": {
             "colorbar": {
              "outlinewidth": 0,
              "ticks": ""
             }
            },
            "type": "scatterpolar"
           }
          ],
          "scatterpolargl": [
           {
            "marker": {
             "colorbar": {
              "outlinewidth": 0,
              "ticks": ""
             }
            },
            "type": "scatterpolargl"
           }
          ],
          "scatterternary": [
           {
            "marker": {
             "colorbar": {
              "outlinewidth": 0,
              "ticks": ""
             }
            },
            "type": "scatterternary"
           }
          ],
          "surface": [
           {
            "colorbar": {
             "outlinewidth": 0,
             "ticks": ""
            },
            "colorscale": [
             [
              0,
              "#0d0887"
             ],
             [
              0.1111111111111111,
              "#46039f"
             ],
             [
              0.2222222222222222,
              "#7201a8"
             ],
             [
              0.3333333333333333,
              "#9c179e"
             ],
             [
              0.4444444444444444,
              "#bd3786"
             ],
             [
              0.5555555555555556,
              "#d8576b"
             ],
             [
              0.6666666666666666,
              "#ed7953"
             ],
             [
              0.7777777777777778,
              "#fb9f3a"
             ],
             [
              0.8888888888888888,
              "#fdca26"
             ],
             [
              1,
              "#f0f921"
             ]
            ],
            "type": "surface"
           }
          ],
          "table": [
           {
            "cells": {
             "fill": {
              "color": "#EBF0F8"
             },
             "line": {
              "color": "white"
             }
            },
            "header": {
             "fill": {
              "color": "#C8D4E3"
             },
             "line": {
              "color": "white"
             }
            },
            "type": "table"
           }
          ]
         },
         "layout": {
          "annotationdefaults": {
           "arrowcolor": "#2a3f5f",
           "arrowhead": 0,
           "arrowwidth": 1
          },
          "autotypenumbers": "strict",
          "coloraxis": {
           "colorbar": {
            "outlinewidth": 0,
            "ticks": ""
           }
          },
          "colorscale": {
           "diverging": [
            [
             0,
             "#8e0152"
            ],
            [
             0.1,
             "#c51b7d"
            ],
            [
             0.2,
             "#de77ae"
            ],
            [
             0.3,
             "#f1b6da"
            ],
            [
             0.4,
             "#fde0ef"
            ],
            [
             0.5,
             "#f7f7f7"
            ],
            [
             0.6,
             "#e6f5d0"
            ],
            [
             0.7,
             "#b8e186"
            ],
            [
             0.8,
             "#7fbc41"
            ],
            [
             0.9,
             "#4d9221"
            ],
            [
             1,
             "#276419"
            ]
           ],
           "sequential": [
            [
             0,
             "#0d0887"
            ],
            [
             0.1111111111111111,
             "#46039f"
            ],
            [
             0.2222222222222222,
             "#7201a8"
            ],
            [
             0.3333333333333333,
             "#9c179e"
            ],
            [
             0.4444444444444444,
             "#bd3786"
            ],
            [
             0.5555555555555556,
             "#d8576b"
            ],
            [
             0.6666666666666666,
             "#ed7953"
            ],
            [
             0.7777777777777778,
             "#fb9f3a"
            ],
            [
             0.8888888888888888,
             "#fdca26"
            ],
            [
             1,
             "#f0f921"
            ]
           ],
           "sequentialminus": [
            [
             0,
             "#0d0887"
            ],
            [
             0.1111111111111111,
             "#46039f"
            ],
            [
             0.2222222222222222,
             "#7201a8"
            ],
            [
             0.3333333333333333,
             "#9c179e"
            ],
            [
             0.4444444444444444,
             "#bd3786"
            ],
            [
             0.5555555555555556,
             "#d8576b"
            ],
            [
             0.6666666666666666,
             "#ed7953"
            ],
            [
             0.7777777777777778,
             "#fb9f3a"
            ],
            [
             0.8888888888888888,
             "#fdca26"
            ],
            [
             1,
             "#f0f921"
            ]
           ]
          },
          "colorway": [
           "#636efa",
           "#EF553B",
           "#00cc96",
           "#ab63fa",
           "#FFA15A",
           "#19d3f3",
           "#FF6692",
           "#B6E880",
           "#FF97FF",
           "#FECB52"
          ],
          "font": {
           "color": "#2a3f5f"
          },
          "geo": {
           "bgcolor": "white",
           "lakecolor": "white",
           "landcolor": "#E5ECF6",
           "showlakes": true,
           "showland": true,
           "subunitcolor": "white"
          },
          "hoverlabel": {
           "align": "left"
          },
          "hovermode": "closest",
          "mapbox": {
           "style": "light"
          },
          "paper_bgcolor": "white",
          "plot_bgcolor": "#E5ECF6",
          "polar": {
           "angularaxis": {
            "gridcolor": "white",
            "linecolor": "white",
            "ticks": ""
           },
           "bgcolor": "#E5ECF6",
           "radialaxis": {
            "gridcolor": "white",
            "linecolor": "white",
            "ticks": ""
           }
          },
          "scene": {
           "xaxis": {
            "backgroundcolor": "#E5ECF6",
            "gridcolor": "white",
            "gridwidth": 2,
            "linecolor": "white",
            "showbackground": true,
            "ticks": "",
            "zerolinecolor": "white"
           },
           "yaxis": {
            "backgroundcolor": "#E5ECF6",
            "gridcolor": "white",
            "gridwidth": 2,
            "linecolor": "white",
            "showbackground": true,
            "ticks": "",
            "zerolinecolor": "white"
           },
           "zaxis": {
            "backgroundcolor": "#E5ECF6",
            "gridcolor": "white",
            "gridwidth": 2,
            "linecolor": "white",
            "showbackground": true,
            "ticks": "",
            "zerolinecolor": "white"
           }
          },
          "shapedefaults": {
           "line": {
            "color": "#2a3f5f"
           }
          },
          "ternary": {
           "aaxis": {
            "gridcolor": "white",
            "linecolor": "white",
            "ticks": ""
           },
           "baxis": {
            "gridcolor": "white",
            "linecolor": "white",
            "ticks": ""
           },
           "bgcolor": "#E5ECF6",
           "caxis": {
            "gridcolor": "white",
            "linecolor": "white",
            "ticks": ""
           }
          },
          "title": {
           "x": 0.05
          },
          "xaxis": {
           "automargin": true,
           "gridcolor": "white",
           "linecolor": "white",
           "ticks": "",
           "title": {
            "standoff": 15
           },
           "zerolinecolor": "white",
           "zerolinewidth": 2
          },
          "yaxis": {
           "automargin": true,
           "gridcolor": "white",
           "linecolor": "white",
           "ticks": "",
           "title": {
            "standoff": 15
           },
           "zerolinecolor": "white",
           "zerolinewidth": 2
          }
         }
        },
        "title": {
         "text": "Crocodile Length Distribution (m)"
        },
        "xaxis": {
         "anchor": "y",
         "domain": [
          0,
          1
         ]
        },
        "yaxis": {
         "anchor": "x",
         "domain": [
          0,
          1
         ],
         "title": {
          "text": "length_m"
         }
        }
       }
      }
     },
     "metadata": {},
     "output_type": "display_data"
    }
   ],
   "source": [
    "# Create a box plot for crocodile lengths\n",
    "\n",
    "fig_length = px.box(\n",
    "    df, \n",
    "    y=\"length_m\", \n",
    "    points=\"outliers\",\n",
    "    color_discrete_sequence=[\"indianred\"], \n",
    "    title=\"Crocodile Length Distribution (m)\"\n",
    ")\n",
    "fig_length.show()"
   ]
  },
  {
   "cell_type": "code",
   "execution_count": 10,
   "id": "e45754eb",
   "metadata": {},
   "outputs": [
    {
     "data": {
      "application/vnd.plotly.v1+json": {
       "config": {
        "plotlyServerURL": "https://plot.ly"
       },
       "data": [
        {
         "alignmentgroup": "True",
         "boxpoints": "outliers",
         "hovertemplate": "weight_kg=%{y}<extra></extra>",
         "legendgroup": "",
         "marker": {
          "color": "indianred"
         },
         "name": "",
         "notched": false,
         "offsetgroup": "",
         "orientation": "v",
         "showlegend": false,
         "type": "box",
         "x0": " ",
         "xaxis": "x",
         "y": {
          "bdata": "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",
          "dtype": "f8"
         },
         "y0": " ",
         "yaxis": "y"
        }
       ],
       "layout": {
        "boxmode": "group",
        "legend": {
         "tracegroupgap": 0
        },
        "template": {
         "data": {
          "bar": [
           {
            "error_x": {
             "color": "#2a3f5f"
            },
            "error_y": {
             "color": "#2a3f5f"
            },
            "marker": {
             "line": {
              "color": "#E5ECF6",
              "width": 0.5
             },
             "pattern": {
              "fillmode": "overlay",
              "size": 10,
              "solidity": 0.2
             }
            },
            "type": "bar"
           }
          ],
          "barpolar": [
           {
            "marker": {
             "line": {
              "color": "#E5ECF6",
              "width": 0.5
             },
             "pattern": {
              "fillmode": "overlay",
              "size": 10,
              "solidity": 0.2
             }
            },
            "type": "barpolar"
           }
          ],
          "carpet": [
           {
            "aaxis": {
             "endlinecolor": "#2a3f5f",
             "gridcolor": "white",
             "linecolor": "white",
             "minorgridcolor": "white",
             "startlinecolor": "#2a3f5f"
            },
            "baxis": {
             "endlinecolor": "#2a3f5f",
             "gridcolor": "white",
             "linecolor": "white",
             "minorgridcolor": "white",
             "startlinecolor": "#2a3f5f"
            },
            "type": "carpet"
           }
          ],
          "choropleth": [
           {
            "colorbar": {
             "outlinewidth": 0,
             "ticks": ""
            },
            "type": "choropleth"
           }
          ],
          "contour": [
           {
            "colorbar": {
             "outlinewidth": 0,
             "ticks": ""
            },
            "colorscale": [
             [
              0,
              "#0d0887"
             ],
             [
              0.1111111111111111,
              "#46039f"
             ],
             [
              0.2222222222222222,
              "#7201a8"
             ],
             [
              0.3333333333333333,
              "#9c179e"
             ],
             [
              0.4444444444444444,
              "#bd3786"
             ],
             [
              0.5555555555555556,
              "#d8576b"
             ],
             [
              0.6666666666666666,
              "#ed7953"
             ],
             [
              0.7777777777777778,
              "#fb9f3a"
             ],
             [
              0.8888888888888888,
              "#fdca26"
             ],
             [
              1,
              "#f0f921"
             ]
            ],
            "type": "contour"
           }
          ],
          "contourcarpet": [
           {
            "colorbar": {
             "outlinewidth": 0,
             "ticks": ""
            },
            "type": "contourcarpet"
           }
          ],
          "heatmap": [
           {
            "colorbar": {
             "outlinewidth": 0,
             "ticks": ""
            },
            "colorscale": [
             [
              0,
              "#0d0887"
             ],
             [
              0.1111111111111111,
              "#46039f"
             ],
             [
              0.2222222222222222,
              "#7201a8"
             ],
             [
              0.3333333333333333,
              "#9c179e"
             ],
             [
              0.4444444444444444,
              "#bd3786"
             ],
             [
              0.5555555555555556,
              "#d8576b"
             ],
             [
              0.6666666666666666,
              "#ed7953"
             ],
             [
              0.7777777777777778,
              "#fb9f3a"
             ],
             [
              0.8888888888888888,
              "#fdca26"
             ],
             [
              1,
              "#f0f921"
             ]
            ],
            "type": "heatmap"
           }
          ],
          "histogram": [
           {
            "marker": {
             "pattern": {
              "fillmode": "overlay",
              "size": 10,
              "solidity": 0.2
             }
            },
            "type": "histogram"
           }
          ],
          "histogram2d": [
           {
            "colorbar": {
             "outlinewidth": 0,
             "ticks": ""
            },
            "colorscale": [
             [
              0,
              "#0d0887"
             ],
             [
              0.1111111111111111,
              "#46039f"
             ],
             [
              0.2222222222222222,
              "#7201a8"
             ],
             [
              0.3333333333333333,
              "#9c179e"
             ],
             [
              0.4444444444444444,
              "#bd3786"
             ],
             [
              0.5555555555555556,
              "#d8576b"
             ],
             [
              0.6666666666666666,
              "#ed7953"
             ],
             [
              0.7777777777777778,
              "#fb9f3a"
             ],
             [
              0.8888888888888888,
              "#fdca26"
             ],
             [
              1,
              "#f0f921"
             ]
            ],
            "type": "histogram2d"
           }
          ],
          "histogram2dcontour": [
           {
            "colorbar": {
             "outlinewidth": 0,
             "ticks": ""
            },
            "colorscale": [
             [
              0,
              "#0d0887"
             ],
             [
              0.1111111111111111,
              "#46039f"
             ],
             [
              0.2222222222222222,
              "#7201a8"
             ],
             [
              0.3333333333333333,
              "#9c179e"
             ],
             [
              0.4444444444444444,
              "#bd3786"
             ],
             [
              0.5555555555555556,
              "#d8576b"
             ],
             [
              0.6666666666666666,
              "#ed7953"
             ],
             [
              0.7777777777777778,
              "#fb9f3a"
             ],
             [
              0.8888888888888888,
              "#fdca26"
             ],
             [
              1,
              "#f0f921"
             ]
            ],
            "type": "histogram2dcontour"
           }
          ],
          "mesh3d": [
           {
            "colorbar": {
             "outlinewidth": 0,
             "ticks": ""
            },
            "type": "mesh3d"
           }
          ],
          "parcoords": [
           {
            "line": {
             "colorbar": {
              "outlinewidth": 0,
              "ticks": ""
             }
            },
            "type": "parcoords"
           }
          ],
          "pie": [
           {
            "automargin": true,
            "type": "pie"
           }
          ],
          "scatter": [
           {
            "fillpattern": {
             "fillmode": "overlay",
             "size": 10,
             "solidity": 0.2
            },
            "type": "scatter"
           }
          ],
          "scatter3d": [
           {
            "line": {
             "colorbar": {
              "outlinewidth": 0,
              "ticks": ""
             }
            },
            "marker": {
             "colorbar": {
              "outlinewidth": 0,
              "ticks": ""
             }
            },
            "type": "scatter3d"
           }
          ],
          "scattercarpet": [
           {
            "marker": {
             "colorbar": {
              "outlinewidth": 0,
              "ticks": ""
             }
            },
            "type": "scattercarpet"
           }
          ],
          "scattergeo": [
           {
            "marker": {
             "colorbar": {
              "outlinewidth": 0,
              "ticks": ""
             }
            },
            "type": "scattergeo"
           }
          ],
          "scattergl": [
           {
            "marker": {
             "colorbar": {
              "outlinewidth": 0,
              "ticks": ""
             }
            },
            "type": "scattergl"
           }
          ],
          "scattermap": [
           {
            "marker": {
             "colorbar": {
              "outlinewidth": 0,
              "ticks": ""
             }
            },
            "type": "scattermap"
           }
          ],
          "scattermapbox": [
           {
            "marker": {
             "colorbar": {
              "outlinewidth": 0,
              "ticks": ""
             }
            },
            "type": "scattermapbox"
           }
          ],
          "scatterpolar": [
           {
            "marker": {
             "colorbar": {
              "outlinewidth": 0,
              "ticks": ""
             }
            },
            "type": "scatterpolar"
           }
          ],
          "scatterpolargl": [
           {
            "marker": {
             "colorbar": {
              "outlinewidth": 0,
              "ticks": ""
             }
            },
            "type": "scatterpolargl"
           }
          ],
          "scatterternary": [
           {
            "marker": {
             "colorbar": {
              "outlinewidth": 0,
              "ticks": ""
             }
            },
            "type": "scatterternary"
           }
          ],
          "surface": [
           {
            "colorbar": {
             "outlinewidth": 0,
             "ticks": ""
            },
            "colorscale": [
             [
              0,
              "#0d0887"
             ],
             [
              0.1111111111111111,
              "#46039f"
             ],
             [
              0.2222222222222222,
              "#7201a8"
             ],
             [
              0.3333333333333333,
              "#9c179e"
             ],
             [
              0.4444444444444444,
              "#bd3786"
             ],
             [
              0.5555555555555556,
              "#d8576b"
             ],
             [
              0.6666666666666666,
              "#ed7953"
             ],
             [
              0.7777777777777778,
              "#fb9f3a"
             ],
             [
              0.8888888888888888,
              "#fdca26"
             ],
             [
              1,
              "#f0f921"
             ]
            ],
            "type": "surface"
           }
          ],
          "table": [
           {
            "cells": {
             "fill": {
              "color": "#EBF0F8"
             },
             "line": {
              "color": "white"
             }
            },
            "header": {
             "fill": {
              "color": "#C8D4E3"
             },
             "line": {
              "color": "white"
             }
            },
            "type": "table"
           }
          ]
         },
         "layout": {
          "annotationdefaults": {
           "arrowcolor": "#2a3f5f",
           "arrowhead": 0,
           "arrowwidth": 1
          },
          "autotypenumbers": "strict",
          "coloraxis": {
           "colorbar": {
            "outlinewidth": 0,
            "ticks": ""
           }
          },
          "colorscale": {
           "diverging": [
            [
             0,
             "#8e0152"
            ],
            [
             0.1,
             "#c51b7d"
            ],
            [
             0.2,
             "#de77ae"
            ],
            [
             0.3,
             "#f1b6da"
            ],
            [
             0.4,
             "#fde0ef"
            ],
            [
             0.5,
             "#f7f7f7"
            ],
            [
             0.6,
             "#e6f5d0"
            ],
            [
             0.7,
             "#b8e186"
            ],
            [
             0.8,
             "#7fbc41"
            ],
            [
             0.9,
             "#4d9221"
            ],
            [
             1,
             "#276419"
            ]
           ],
           "sequential": [
            [
             0,
             "#0d0887"
            ],
            [
             0.1111111111111111,
             "#46039f"
            ],
            [
             0.2222222222222222,
             "#7201a8"
            ],
            [
             0.3333333333333333,
             "#9c179e"
            ],
            [
             0.4444444444444444,
             "#bd3786"
            ],
            [
             0.5555555555555556,
             "#d8576b"
            ],
            [
             0.6666666666666666,
             "#ed7953"
            ],
            [
             0.7777777777777778,
             "#fb9f3a"
            ],
            [
             0.8888888888888888,
             "#fdca26"
            ],
            [
             1,
             "#f0f921"
            ]
           ],
           "sequentialminus": [
            [
             0,
             "#0d0887"
            ],
            [
             0.1111111111111111,
             "#46039f"
            ],
            [
             0.2222222222222222,
             "#7201a8"
            ],
            [
             0.3333333333333333,
             "#9c179e"
            ],
            [
             0.4444444444444444,
             "#bd3786"
            ],
            [
             0.5555555555555556,
             "#d8576b"
            ],
            [
             0.6666666666666666,
             "#ed7953"
            ],
            [
             0.7777777777777778,
             "#fb9f3a"
            ],
            [
             0.8888888888888888,
             "#fdca26"
            ],
            [
             1,
             "#f0f921"
            ]
           ]
          },
          "colorway": [
           "#636efa",
           "#EF553B",
           "#00cc96",
           "#ab63fa",
           "#FFA15A",
           "#19d3f3",
           "#FF6692",
           "#B6E880",
           "#FF97FF",
           "#FECB52"
          ],
          "font": {
           "color": "#2a3f5f"
          },
          "geo": {
           "bgcolor": "white",
           "lakecolor": "white",
           "landcolor": "#E5ECF6",
           "showlakes": true,
           "showland": true,
           "subunitcolor": "white"
          },
          "hoverlabel": {
           "align": "left"
          },
          "hovermode": "closest",
          "mapbox": {
           "style": "light"
          },
          "paper_bgcolor": "white",
          "plot_bgcolor": "#E5ECF6",
          "polar": {
           "angularaxis": {
            "gridcolor": "white",
            "linecolor": "white",
            "ticks": ""
           },
           "bgcolor": "#E5ECF6",
           "radialaxis": {
            "gridcolor": "white",
            "linecolor": "white",
            "ticks": ""
           }
          },
          "scene": {
           "xaxis": {
            "backgroundcolor": "#E5ECF6",
            "gridcolor": "white",
            "gridwidth": 2,
            "linecolor": "white",
            "showbackground": true,
            "ticks": "",
            "zerolinecolor": "white"
           },
           "yaxis": {
            "backgroundcolor": "#E5ECF6",
            "gridcolor": "white",
            "gridwidth": 2,
            "linecolor": "white",
            "showbackground": true,
            "ticks": "",
            "zerolinecolor": "white"
           },
           "zaxis": {
            "backgroundcolor": "#E5ECF6",
            "gridcolor": "white",
            "gridwidth": 2,
            "linecolor": "white",
            "showbackground": true,
            "ticks": "",
            "zerolinecolor": "white"
           }
          },
          "shapedefaults": {
           "line": {
            "color": "#2a3f5f"
           }
          },
          "ternary": {
           "aaxis": {
            "gridcolor": "white",
            "linecolor": "white",
            "ticks": ""
           },
           "baxis": {
            "gridcolor": "white",
            "linecolor": "white",
            "ticks": ""
           },
           "bgcolor": "#E5ECF6",
           "caxis": {
            "gridcolor": "white",
            "linecolor": "white",
            "ticks": ""
           }
          },
          "title": {
           "x": 0.05
          },
          "xaxis": {
           "automargin": true,
           "gridcolor": "white",
           "linecolor": "white",
           "ticks": "",
           "title": {
            "standoff": 15
           },
           "zerolinecolor": "white",
           "zerolinewidth": 2
          },
          "yaxis": {
           "automargin": true,
           "gridcolor": "white",
           "linecolor": "white",
           "ticks": "",
           "title": {
            "standoff": 15
           },
           "zerolinecolor": "white",
           "zerolinewidth": 2
          }
         }
        },
        "title": {
         "text": "Crocodile weight Distribution (kg)"
        },
        "xaxis": {
         "anchor": "y",
         "domain": [
          0,
          1
         ]
        },
        "yaxis": {
         "anchor": "x",
         "domain": [
          0,
          1
         ],
         "title": {
          "text": "weight_kg"
         }
        }
       }
      }
     },
     "metadata": {},
     "output_type": "display_data"
    }
   ],
   "source": [
    "# Create a box plot for crocodile weights\n",
    "\n",
    "fig_length = px.box(\n",
    "    df, \n",
    "    y=\"weight_kg\", \n",
    "    points=\"outliers\",\n",
    "    color_discrete_sequence=[\"indianred\"], \n",
    "    title=\"Crocodile weight Distribution (kg)\"\n",
    ")\n",
    "fig_length.show()"
   ]
  },
  {
   "cell_type": "code",
   "execution_count": 11,
   "id": "bed7bc17",
   "metadata": {},
   "outputs": [],
   "source": [
    "# Function to detect outliers in a given column using the IQR method\n",
    "\n",
    "def detect_outliers_iqr(df, column):\n",
    "    Q1 = df[column].quantile(0.25)\n",
    "    Q3 = df[column].quantile(0.75)\n",
    "    IQR = Q3 - Q1\n",
    "    lower = Q1 - 1.5 * IQR\n",
    "    upper = Q3 + 1.5 * IQR\n",
    "\n",
    "    outliers = df[(df[column] < lower) | (df[column] > upper)]      # Filter rows where the column value is outside the bounds\n",
    "    return outliers\n"
   ]
  },
  {
   "cell_type": "code",
   "execution_count": 12,
   "id": "8b9921e3",
   "metadata": {},
   "outputs": [
    {
     "name": "stdout",
     "output_type": "stream",
     "text": [
      "Length outlier Percentage: 1.90%\n",
      "Weight outlier Percentage: 11.50%\n"
     ]
    }
   ],
   "source": [
    "# Detect outliers in length and weight columns\n",
    "length_outliers = detect_outliers_iqr(df, \"length_m\")\n",
    "weight_outliers = detect_outliers_iqr(df, \"weight_kg\")\n",
    "\n",
    "# Print percentage of outliers relative to dataset size\n",
    "print(f\"Length outlier Percentage: {100 * length_outliers.shape[0] / df.shape[0]:.2f}%\")\n",
    "print(f\"Weight outlier Percentage: {100 * weight_outliers.shape[0] / df.shape[0]:.2f}%\")\n"
   ]
  },
  {
   "cell_type": "code",
   "execution_count": 13,
   "id": "8cd39057",
   "metadata": {},
   "outputs": [
    {
     "data": {
      "application/vnd.plotly.v1+json": {
       "config": {
        "plotlyServerURL": "https://plot.ly"
       },
       "data": [
        {
         "hovertemplate": "Giant Crocodile=False<br>length_m=%{x}<br>weight_kg=%{y}<extra></extra>",
         "legendgroup": "False",
         "marker": {
          "color": "#636efa",
          "symbol": "circle"
         },
         "mode": "markers",
         "name": "False",
         "orientation": "v",
         "showlegend": true,
         "type": "scatter",
         "x": {
          "bdata": "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",
          "dtype": "f8"
         },
         "xaxis": "x",
         "y": {
          "bdata": "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",
          "dtype": "f8"
         },
         "yaxis": "y"
        },
        {
         "hovertemplate": "Giant Crocodile=True<br>length_m=%{x}<br>weight_kg=%{y}<extra></extra>",
         "legendgroup": "True",
         "marker": {
          "color": "#EF553B",
          "symbol": "circle"
         },
         "mode": "markers",
         "name": "True",
         "orientation": "v",
         "showlegend": true,
         "type": "scatter",
         "x": {
          "bdata": "exSuR+F6EUCamZmZmZkSQNejcD0K1xJAUrgehetRF0C4HoXrUbgVQJqZmZmZmRNAXI/C9ShcEUBI4XoUrkcUQHE9CtejcBNAuB6F61G4EkBmZmZmZmYUQDMzMzMzMxJA4XoUrkfhFEAzMzMzMzMSQBSuR+F6FBhA7FG4HoXrFUBI4XoUrkcVQHsUrkfhehJApHA9CtejF0AUrkfhehQYQLgehetRuBRA16NwPQrXE0BSuB6F61ERQB+F61G4HhNAexSuR+F6GEBmZmZmZmYUQFK4HoXrURFAPQrXo3A9FUCkcD0K16MRQNejcD0K1xJAKVyPwvUoF0CamZmZmZkVQGZmZmZmZhFAexSuR+F6EUD2KFyPwvUTQD0K16NwPRFAw/UoXI/CEkDD9Shcj8IRQDMzMzMzMxRACtejcD0KEkAK16NwPQoTQGZmZmZmZhFAj8L1KFyPEUBSuB6F61ERQFK4HoXrURFACtejcD0KE0DsUbgehesRQD0K16NwPRNAzczMzMzMFEDsUbgehesVQClcj8L1KBNAKVyPwvUoEkBcj8L1KFwTQIXrUbgehRRAAAAAAAAAEkAAAAAAAAASQLgehetRuBJA",
          "dtype": "f8"
         },
         "xaxis": "x",
         "y": {
          "bdata": "AAAAAACogUBmZmZmZr6HQM3MzMzMBIJAMzMzMzPPjUCamZmZmZGJQJqZmZmZrYNAmpmZmZmhgkCamZmZmb2IQAAAAAAAxIdAMzMzMzOjhUCamZmZmdmJQM3MzMzMYIBAAAAAAABIiUAzMzMzM2uDQM3MzMzMIpBAzczMzMx0i0BmZmZmZiKLQAAAAAAAQIZAzczMzMxUjEBmZmZmZvaQQJqZmZmZgYpAmpmZmZnpg0BmZmZmZpKEQAAAAAAAwIVAzczMzMzOkUBmZmZmZtaFQAAAAAAAMIFAZmZmZmYyj0DNzMzMzDCEQAAAAAAAvIVAMzMzMzNDjECamZmZme2HQJqZmZmZuX9AZmZmZmbKgkAzMzMzM1uIQDMzMzMzE4BAMzMzMzMTh0BmZmZmZtZ/QM3MzMzMgINAZmZmZmYShEAAAAAAAPSDQJqZmZmZgX1AMzMzMzMXgkCamZmZmSF6QDMzMzMzL4BAMzMzMzOjhEBmZmZmZuaCQAAAAAAA5INAZmZmZmZ6h0AzMzMzM7OMQJqZmZmZcYZAMzMzMzOPgkAzMzMzM/+DQM3MzMzM6IdAAAAAAAC0gkAAAAAAACiCQJqZmZmZrYRA",
          "dtype": "f8"
         },
         "yaxis": "y"
        }
       ],
       "layout": {
        "legend": {
         "title": {
          "text": "Giant Crocodile"
         },
         "tracegroupgap": 0
        },
        "template": {
         "data": {
          "bar": [
           {
            "error_x": {
             "color": "#2a3f5f"
            },
            "error_y": {
             "color": "#2a3f5f"
            },
            "marker": {
             "line": {
              "color": "#E5ECF6",
              "width": 0.5
             },
             "pattern": {
              "fillmode": "overlay",
              "size": 10,
              "solidity": 0.2
             }
            },
            "type": "bar"
           }
          ],
          "barpolar": [
           {
            "marker": {
             "line": {
              "color": "#E5ECF6",
              "width": 0.5
             },
             "pattern": {
              "fillmode": "overlay",
              "size": 10,
              "solidity": 0.2
             }
            },
            "type": "barpolar"
           }
          ],
          "carpet": [
           {
            "aaxis": {
             "endlinecolor": "#2a3f5f",
             "gridcolor": "white",
             "linecolor": "white",
             "minorgridcolor": "white",
             "startlinecolor": "#2a3f5f"
            },
            "baxis": {
             "endlinecolor": "#2a3f5f",
             "gridcolor": "white",
             "linecolor": "white",
             "minorgridcolor": "white",
             "startlinecolor": "#2a3f5f"
            },
            "type": "carpet"
           }
          ],
          "choropleth": [
           {
            "colorbar": {
             "outlinewidth": 0,
             "ticks": ""
            },
            "type": "choropleth"
           }
          ],
          "contour": [
           {
            "colorbar": {
             "outlinewidth": 0,
             "ticks": ""
            },
            "colorscale": [
             [
              0,
              "#0d0887"
             ],
             [
              0.1111111111111111,
              "#46039f"
             ],
             [
              0.2222222222222222,
              "#7201a8"
             ],
             [
              0.3333333333333333,
              "#9c179e"
             ],
             [
              0.4444444444444444,
              "#bd3786"
             ],
             [
              0.5555555555555556,
              "#d8576b"
             ],
             [
              0.6666666666666666,
              "#ed7953"
             ],
             [
              0.7777777777777778,
              "#fb9f3a"
             ],
             [
              0.8888888888888888,
              "#fdca26"
             ],
             [
              1,
              "#f0f921"
             ]
            ],
            "type": "contour"
           }
          ],
          "contourcarpet": [
           {
            "colorbar": {
             "outlinewidth": 0,
             "ticks": ""
            },
            "type": "contourcarpet"
           }
          ],
          "heatmap": [
           {
            "colorbar": {
             "outlinewidth": 0,
             "ticks": ""
            },
            "colorscale": [
             [
              0,
              "#0d0887"
             ],
             [
              0.1111111111111111,
              "#46039f"
             ],
             [
              0.2222222222222222,
              "#7201a8"
             ],
             [
              0.3333333333333333,
              "#9c179e"
             ],
             [
              0.4444444444444444,
              "#bd3786"
             ],
             [
              0.5555555555555556,
              "#d8576b"
             ],
             [
              0.6666666666666666,
              "#ed7953"
             ],
             [
              0.7777777777777778,
              "#fb9f3a"
             ],
             [
              0.8888888888888888,
              "#fdca26"
             ],
             [
              1,
              "#f0f921"
             ]
            ],
            "type": "heatmap"
           }
          ],
          "histogram": [
           {
            "marker": {
             "pattern": {
              "fillmode": "overlay",
              "size": 10,
              "solidity": 0.2
             }
            },
            "type": "histogram"
           }
          ],
          "histogram2d": [
           {
            "colorbar": {
             "outlinewidth": 0,
             "ticks": ""
            },
            "colorscale": [
             [
              0,
              "#0d0887"
             ],
             [
              0.1111111111111111,
              "#46039f"
             ],
             [
              0.2222222222222222,
              "#7201a8"
             ],
             [
              0.3333333333333333,
              "#9c179e"
             ],
             [
              0.4444444444444444,
              "#bd3786"
             ],
             [
              0.5555555555555556,
              "#d8576b"
             ],
             [
              0.6666666666666666,
              "#ed7953"
             ],
             [
              0.7777777777777778,
              "#fb9f3a"
             ],
             [
              0.8888888888888888,
              "#fdca26"
             ],
             [
              1,
              "#f0f921"
             ]
            ],
            "type": "histogram2d"
           }
          ],
          "histogram2dcontour": [
           {
            "colorbar": {
             "outlinewidth": 0,
             "ticks": ""
            },
            "colorscale": [
             [
              0,
              "#0d0887"
             ],
             [
              0.1111111111111111,
              "#46039f"
             ],
             [
              0.2222222222222222,
              "#7201a8"
             ],
             [
              0.3333333333333333,
              "#9c179e"
             ],
             [
              0.4444444444444444,
              "#bd3786"
             ],
             [
              0.5555555555555556,
              "#d8576b"
             ],
             [
              0.6666666666666666,
              "#ed7953"
             ],
             [
              0.7777777777777778,
              "#fb9f3a"
             ],
             [
              0.8888888888888888,
              "#fdca26"
             ],
             [
              1,
              "#f0f921"
             ]
            ],
            "type": "histogram2dcontour"
           }
          ],
          "mesh3d": [
           {
            "colorbar": {
             "outlinewidth": 0,
             "ticks": ""
            },
            "type": "mesh3d"
           }
          ],
          "parcoords": [
           {
            "line": {
             "colorbar": {
              "outlinewidth": 0,
              "ticks": ""
             }
            },
            "type": "parcoords"
           }
          ],
          "pie": [
           {
            "automargin": true,
            "type": "pie"
           }
          ],
          "scatter": [
           {
            "fillpattern": {
             "fillmode": "overlay",
             "size": 10,
             "solidity": 0.2
            },
            "type": "scatter"
           }
          ],
          "scatter3d": [
           {
            "line": {
             "colorbar": {
              "outlinewidth": 0,
              "ticks": ""
             }
            },
            "marker": {
             "colorbar": {
              "outlinewidth": 0,
              "ticks": ""
             }
            },
            "type": "scatter3d"
           }
          ],
          "scattercarpet": [
           {
            "marker": {
             "colorbar": {
              "outlinewidth": 0,
              "ticks": ""
             }
            },
            "type": "scattercarpet"
           }
          ],
          "scattergeo": [
           {
            "marker": {
             "colorbar": {
              "outlinewidth": 0,
              "ticks": ""
             }
            },
            "type": "scattergeo"
           }
          ],
          "scattergl": [
           {
            "marker": {
             "colorbar": {
              "outlinewidth": 0,
              "ticks": ""
             }
            },
            "type": "scattergl"
           }
          ],
          "scattermap": [
           {
            "marker": {
             "colorbar": {
              "outlinewidth": 0,
              "ticks": ""
             }
            },
            "type": "scattermap"
           }
          ],
          "scattermapbox": [
           {
            "marker": {
             "colorbar": {
              "outlinewidth": 0,
              "ticks": ""
             }
            },
            "type": "scattermapbox"
           }
          ],
          "scatterpolar": [
           {
            "marker": {
             "colorbar": {
              "outlinewidth": 0,
              "ticks": ""
             }
            },
            "type": "scatterpolar"
           }
          ],
          "scatterpolargl": [
           {
            "marker": {
             "colorbar": {
              "outlinewidth": 0,
              "ticks": ""
             }
            },
            "type": "scatterpolargl"
           }
          ],
          "scatterternary": [
           {
            "marker": {
             "colorbar": {
              "outlinewidth": 0,
              "ticks": ""
             }
            },
            "type": "scatterternary"
           }
          ],
          "surface": [
           {
            "colorbar": {
             "outlinewidth": 0,
             "ticks": ""
            },
            "colorscale": [
             [
              0,
              "#0d0887"
             ],
             [
              0.1111111111111111,
              "#46039f"
             ],
             [
              0.2222222222222222,
              "#7201a8"
             ],
             [
              0.3333333333333333,
              "#9c179e"
             ],
             [
              0.4444444444444444,
              "#bd3786"
             ],
             [
              0.5555555555555556,
              "#d8576b"
             ],
             [
              0.6666666666666666,
              "#ed7953"
             ],
             [
              0.7777777777777778,
              "#fb9f3a"
             ],
             [
              0.8888888888888888,
              "#fdca26"
             ],
             [
              1,
              "#f0f921"
             ]
            ],
            "type": "surface"
           }
          ],
          "table": [
           {
            "cells": {
             "fill": {
              "color": "#EBF0F8"
             },
             "line": {
              "color": "white"
             }
            },
            "header": {
             "fill": {
              "color": "#C8D4E3"
             },
             "line": {
              "color": "white"
             }
            },
            "type": "table"
           }
          ]
         },
         "layout": {
          "annotationdefaults": {
           "arrowcolor": "#2a3f5f",
           "arrowhead": 0,
           "arrowwidth": 1
          },
          "autotypenumbers": "strict",
          "coloraxis": {
           "colorbar": {
            "outlinewidth": 0,
            "ticks": ""
           }
          },
          "colorscale": {
           "diverging": [
            [
             0,
             "#8e0152"
            ],
            [
             0.1,
             "#c51b7d"
            ],
            [
             0.2,
             "#de77ae"
            ],
            [
             0.3,
             "#f1b6da"
            ],
            [
             0.4,
             "#fde0ef"
            ],
            [
             0.5,
             "#f7f7f7"
            ],
            [
             0.6,
             "#e6f5d0"
            ],
            [
             0.7,
             "#b8e186"
            ],
            [
             0.8,
             "#7fbc41"
            ],
            [
             0.9,
             "#4d9221"
            ],
            [
             1,
             "#276419"
            ]
           ],
           "sequential": [
            [
             0,
             "#0d0887"
            ],
            [
             0.1111111111111111,
             "#46039f"
            ],
            [
             0.2222222222222222,
             "#7201a8"
            ],
            [
             0.3333333333333333,
             "#9c179e"
            ],
            [
             0.4444444444444444,
             "#bd3786"
            ],
            [
             0.5555555555555556,
             "#d8576b"
            ],
            [
             0.6666666666666666,
             "#ed7953"
            ],
            [
             0.7777777777777778,
             "#fb9f3a"
            ],
            [
             0.8888888888888888,
             "#fdca26"
            ],
            [
             1,
             "#f0f921"
            ]
           ],
           "sequentialminus": [
            [
             0,
             "#0d0887"
            ],
            [
             0.1111111111111111,
             "#46039f"
            ],
            [
             0.2222222222222222,
             "#7201a8"
            ],
            [
             0.3333333333333333,
             "#9c179e"
            ],
            [
             0.4444444444444444,
             "#bd3786"
            ],
            [
             0.5555555555555556,
             "#d8576b"
            ],
            [
             0.6666666666666666,
             "#ed7953"
            ],
            [
             0.7777777777777778,
             "#fb9f3a"
            ],
            [
             0.8888888888888888,
             "#fdca26"
            ],
            [
             1,
             "#f0f921"
            ]
           ]
          },
          "colorway": [
           "#636efa",
           "#EF553B",
           "#00cc96",
           "#ab63fa",
           "#FFA15A",
           "#19d3f3",
           "#FF6692",
           "#B6E880",
           "#FF97FF",
           "#FECB52"
          ],
          "font": {
           "color": "#2a3f5f"
          },
          "geo": {
           "bgcolor": "white",
           "lakecolor": "white",
           "landcolor": "#E5ECF6",
           "showlakes": true,
           "showland": true,
           "subunitcolor": "white"
          },
          "hoverlabel": {
           "align": "left"
          },
          "hovermode": "closest",
          "mapbox": {
           "style": "light"
          },
          "paper_bgcolor": "white",
          "plot_bgcolor": "#E5ECF6",
          "polar": {
           "angularaxis": {
            "gridcolor": "white",
            "linecolor": "white",
            "ticks": ""
           },
           "bgcolor": "#E5ECF6",
           "radialaxis": {
            "gridcolor": "white",
            "linecolor": "white",
            "ticks": ""
           }
          },
          "scene": {
           "xaxis": {
            "backgroundcolor": "#E5ECF6",
            "gridcolor": "white",
            "gridwidth": 2,
            "linecolor": "white",
            "showbackground": true,
            "ticks": "",
            "zerolinecolor": "white"
           },
           "yaxis": {
            "backgroundcolor": "#E5ECF6",
            "gridcolor": "white",
            "gridwidth": 2,
            "linecolor": "white",
            "showbackground": true,
            "ticks": "",
            "zerolinecolor": "white"
           },
           "zaxis": {
            "backgroundcolor": "#E5ECF6",
            "gridcolor": "white",
            "gridwidth": 2,
            "linecolor": "white",
            "showbackground": true,
            "ticks": "",
            "zerolinecolor": "white"
           }
          },
          "shapedefaults": {
           "line": {
            "color": "#2a3f5f"
           }
          },
          "ternary": {
           "aaxis": {
            "gridcolor": "white",
            "linecolor": "white",
            "ticks": ""
           },
           "baxis": {
            "gridcolor": "white",
            "linecolor": "white",
            "ticks": ""
           },
           "bgcolor": "#E5ECF6",
           "caxis": {
            "gridcolor": "white",
            "linecolor": "white",
            "ticks": ""
           }
          },
          "title": {
           "x": 0.05
          },
          "xaxis": {
           "automargin": true,
           "gridcolor": "white",
           "linecolor": "white",
           "ticks": "",
           "title": {
            "standoff": 15
           },
           "zerolinecolor": "white",
           "zerolinewidth": 2
          },
          "yaxis": {
           "automargin": true,
           "gridcolor": "white",
           "linecolor": "white",
           "ticks": "",
           "title": {
            "standoff": 15
           },
           "zerolinecolor": "white",
           "zerolinewidth": 2
          }
         }
        },
        "title": {
         "text": "Normal vs Giant Crocodiles (Length > 5m)"
        },
        "xaxis": {
         "anchor": "y",
         "domain": [
          0,
          1
         ],
         "title": {
          "text": "length_m"
         }
        },
        "yaxis": {
         "anchor": "x",
         "domain": [
          0,
          1
         ],
         "title": {
          "text": "weight_kg"
         }
        }
       }
      }
     },
     "metadata": {},
     "output_type": "display_data"
    },
    {
     "data": {
      "application/vnd.microsoft.datawrangler.viewer.v0+json": {
       "columns": [
        {
         "name": "index",
         "rawType": "int64",
         "type": "integer"
        },
        {
         "name": "observation_ID",
         "rawType": "int64",
         "type": "integer"
        },
        {
         "name": "common_name",
         "rawType": "object",
         "type": "string"
        },
        {
         "name": "scientific_name",
         "rawType": "object",
         "type": "string"
        },
        {
         "name": "genus",
         "rawType": "object",
         "type": "string"
        },
        {
         "name": "length_m",
         "rawType": "float64",
         "type": "float"
        },
        {
         "name": "weight_kg",
         "rawType": "float64",
         "type": "float"
        },
        {
         "name": "age_class",
         "rawType": "object",
         "type": "string"
        },
        {
         "name": "sex",
         "rawType": "object",
         "type": "string"
        },
        {
         "name": "observation_date",
         "rawType": "datetime64[ns]",
         "type": "datetime"
        },
        {
         "name": "country",
         "rawType": "object",
         "type": "string"
        },
        {
         "name": "habitat_type",
         "rawType": "object",
         "type": "string"
        },
        {
         "name": "conservation_status",
         "rawType": "object",
         "type": "string"
        },
        {
         "name": "observer_name",
         "rawType": "object",
         "type": "string"
        },
        {
         "name": "notes",
         "rawType": "object",
         "type": "string"
        }
       ],
       "ref": "d10d2ede-efa2-4b70-a671-c1d682617f95",
       "rows": [
        [
         "53",
         "54",
         "Saltwater Crocodile",
         "Crocodylus porosus",
         "Crocodylus",
         "5.83",
         "953.9",
         "Adult",
         "Unknown",
         "2011-05-19 00:00:00",
         "Papua New Guinea",
         "Coastal Wetlands",
         "Least Concern",
         "Gary Santiago",
         "Form really explain war spend nearly lawyer fire follow wife."
        ],
        [
         "59",
         "60",
         "Saltwater Crocodile",
         "Crocodylus porosus",
         "Crocodylus",
         "5.43",
         "818.2",
         "Adult",
         "Male",
         "2015-07-18 00:00:00",
         "Indonesia",
         "Coastal Wetlands",
         "Least Concern",
         "Brittany Hanna",
         "Maybe opportunity thank them key moment lead reveal."
        ],
        [
         "79",
         "80",
         "Saltwater Crocodile",
         "Crocodylus porosus",
         "Crocodylus",
         "5.07",
         "791.7",
         "Adult",
         "Female",
         "2018-03-05 00:00:00",
         "Malaysia",
         "Mangroves",
         "Least Concern",
         "Larry Garcia",
         "Table prepare shoulder result Democrat later direction fund."
        ],
        [
         "119",
         "120",
         "Saltwater Crocodile",
         "Crocodylus porosus",
         "Crocodylus",
         "5.22",
         "809.0",
         "Adult",
         "Male",
         "2006-09-07 00:00:00",
         "Malaysia",
         "Coastal Wetlands",
         "Least Concern",
         "Morgan Valencia",
         "Candidate have no five letter environment easy best face his past eat."
        ],
        [
         "157",
         "158",
         "Saltwater Crocodile",
         "Crocodylus porosus",
         "Crocodylus",
         "6.02",
         "1032.7",
         "Adult",
         "Male",
         "2008-02-22 00:00:00",
         "Philippines",
         "Tidal Rivers",
         "Least Concern",
         "Angela Chung",
         "North wrong difficult range summer president teach service behavior here."
        ],
        [
         "166",
         "167",
         "Saltwater Crocodile",
         "Crocodylus porosus",
         "Crocodylus",
         "5.48",
         "878.6",
         "Adult",
         "Unknown",
         "2025-06-22 00:00:00",
         "Papua New Guinea",
         "Coastal Wetlands",
         "Least Concern",
         "Heather Raymond",
         "Many pattern leader career according how success here."
        ],
        [
         "182",
         "183",
         "Saltwater Crocodile",
         "Crocodylus porosus",
         "Crocodylus",
         "5.32",
         "868.3",
         "Adult",
         "Female",
         "2008-09-24 00:00:00",
         "Malaysia",
         "Estuaries",
         "Least Concern",
         "Charles Clark",
         "South now mother others collection without fall of weight method."
        ],
        [
         "207",
         "208",
         "Saltwater Crocodile",
         "Crocodylus porosus",
         "Crocodylus",
         "5.91",
         "906.6",
         "Adult",
         "Male",
         "2016-11-06 00:00:00",
         "Australia",
         "Tidal Rivers",
         "Least Concern",
         "Sylvia Jones",
         "Cup position speak begin suggest speak business."
        ],
        [
         "209",
         "210",
         "Saltwater Crocodile",
         "Crocodylus porosus",
         "Crocodylus",
         "6.02",
         "1085.6",
         "Adult",
         "Female",
         "2020-09-28 00:00:00",
         "Papua New Guinea",
         "Estuaries",
         "Least Concern",
         "Danielle Phillips",
         "Third look because him information poor something eat yes myself affect him require look sit."
        ],
        [
         "272",
         "273",
         "Nile Crocodile",
         "Crocodylus niloticus",
         "Crocodylus",
         "5.18",
         "848.2",
         "Adult",
         "Unknown",
         "2007-02-01 00:00:00",
         "Tanzania",
         "Marshes",
         "Least Concern",
         "Lisa Haley",
         "High someone box either rich agency might side."
        ],
        [
         "386",
         "387",
         "Saltwater Crocodile",
         "Crocodylus porosus",
         "Crocodylus",
         "6.12",
         "1139.7",
         "Adult",
         "Male",
         "2011-07-14 00:00:00",
         "Papua New Guinea",
         "Coastal Wetlands",
         "Least Concern",
         "Chad Shaffer",
         "Throw receive us perhaps lawyer interest star his difficult interesting account."
        ],
        [
         "424",
         "425",
         "Saltwater Crocodile",
         "Crocodylus porosus",
         "Crocodylus",
         "5.1",
         "698.8",
         "Adult",
         "Male",
         "2011-06-08 00:00:00",
         "Papua New Guinea",
         "Estuaries",
         "Least Concern",
         "Rachel Tucker",
         "Success knowledge fight car smile commercial employee machine wife show."
        ],
        [
         "483",
         "484",
         "Nile Crocodile",
         "Crocodylus niloticus",
         "Crocodylus",
         "5.31",
         "998.3",
         "Adult",
         "Male",
         "2015-07-10 00:00:00",
         "Kenya",
         "Marshes",
         "Least Concern",
         "Ronald Keller",
         "Pick especially price forget analysis performance laugh."
        ],
        [
         "547",
         "548",
         "Saltwater Crocodile",
         "Crocodylus porosus",
         "Crocodylus",
         "5.79",
         "904.4",
         "Adult",
         "Unknown",
         "2014-11-26 00:00:00",
         "Philippines",
         "Coastal Wetlands",
         "Least Concern",
         "Danielle Mcgee",
         "Course page case talk respond myself."
        ],
        [
         "567",
         "568",
         "Saltwater Crocodile",
         "Crocodylus porosus",
         "Crocodylus",
         "5.4",
         "765.7",
         "Adult",
         "Male",
         "2006-03-01 00:00:00",
         "India",
         "Mangroves",
         "Least Concern",
         "Evelyn Reid",
         "Within project attack adult treatment large memory score me."
        ],
        [
         "672",
         "673",
         "Saltwater Crocodile",
         "Crocodylus porosus",
         "Crocodylus",
         "5.05",
         "624.1",
         "Adult",
         "Male",
         "2014-01-07 00:00:00",
         "Indonesia",
         "Estuaries",
         "Least Concern",
         "Chris Ellis",
         "Material first society purpose enjoy."
        ],
        [
         "864",
         "865",
         "Saltwater Crocodile",
         "Crocodylus porosus",
         "Crocodylus",
         "5.2",
         "751.3",
         "Adult",
         "Female",
         "2024-10-26 00:00:00",
         "India",
         "Mangroves",
         "Least Concern",
         "Erin Stewart",
         "Probably cut clear yard do turn sign agree."
        ],
        [
         "870",
         "871",
         "Saltwater Crocodile",
         "Crocodylus porosus",
         "Crocodylus",
         "5.48",
         "918.4",
         "Adult",
         "Female",
         "2018-04-21 00:00:00",
         "Australia",
         "Mangroves",
         "Least Concern",
         "Christopher Thompson",
         "Whole score special consider these body class marriage fill personal training enter fly situation former threat alone."
        ],
        [
         "909",
         "910",
         "Saltwater Crocodile",
         "Crocodylus porosus",
         "Crocodylus",
         "5.13",
         "765.1",
         "Adult",
         "Unknown",
         "2017-01-23 00:00:00",
         "Australia",
         "Estuaries",
         "Least Concern",
         "Jeffrey Miller",
         "Make focus machine home marriage skill expert range."
        ]
       ],
       "shape": {
        "columns": 14,
        "rows": 19
       }
      },
      "text/html": [
       "<div>\n",
       "<style scoped>\n",
       "    .dataframe tbody tr th:only-of-type {\n",
       "        vertical-align: middle;\n",
       "    }\n",
       "\n",
       "    .dataframe tbody tr th {\n",
       "        vertical-align: top;\n",
       "    }\n",
       "\n",
       "    .dataframe thead th {\n",
       "        text-align: right;\n",
       "    }\n",
       "</style>\n",
       "<table border=\"1\" class=\"dataframe\">\n",
       "  <thead>\n",
       "    <tr style=\"text-align: right;\">\n",
       "      <th></th>\n",
       "      <th>observation_ID</th>\n",
       "      <th>common_name</th>\n",
       "      <th>scientific_name</th>\n",
       "      <th>genus</th>\n",
       "      <th>length_m</th>\n",
       "      <th>weight_kg</th>\n",
       "      <th>age_class</th>\n",
       "      <th>sex</th>\n",
       "      <th>observation_date</th>\n",
       "      <th>country</th>\n",
       "      <th>habitat_type</th>\n",
       "      <th>conservation_status</th>\n",
       "      <th>observer_name</th>\n",
       "      <th>notes</th>\n",
       "    </tr>\n",
       "  </thead>\n",
       "  <tbody>\n",
       "    <tr>\n",
       "      <th>53</th>\n",
       "      <td>54</td>\n",
       "      <td>Saltwater Crocodile</td>\n",
       "      <td>Crocodylus porosus</td>\n",
       "      <td>Crocodylus</td>\n",
       "      <td>5.83</td>\n",
       "      <td>953.9</td>\n",
       "      <td>Adult</td>\n",
       "      <td>Unknown</td>\n",
       "      <td>2011-05-19</td>\n",
       "      <td>Papua New Guinea</td>\n",
       "      <td>Coastal Wetlands</td>\n",
       "      <td>Least Concern</td>\n",
       "      <td>Gary Santiago</td>\n",
       "      <td>Form really explain war spend nearly lawyer fi...</td>\n",
       "    </tr>\n",
       "    <tr>\n",
       "      <th>59</th>\n",
       "      <td>60</td>\n",
       "      <td>Saltwater Crocodile</td>\n",
       "      <td>Crocodylus porosus</td>\n",
       "      <td>Crocodylus</td>\n",
       "      <td>5.43</td>\n",
       "      <td>818.2</td>\n",
       "      <td>Adult</td>\n",
       "      <td>Male</td>\n",
       "      <td>2015-07-18</td>\n",
       "      <td>Indonesia</td>\n",
       "      <td>Coastal Wetlands</td>\n",
       "      <td>Least Concern</td>\n",
       "      <td>Brittany Hanna</td>\n",
       "      <td>Maybe opportunity thank them key moment lead r...</td>\n",
       "    </tr>\n",
       "    <tr>\n",
       "      <th>79</th>\n",
       "      <td>80</td>\n",
       "      <td>Saltwater Crocodile</td>\n",
       "      <td>Crocodylus porosus</td>\n",
       "      <td>Crocodylus</td>\n",
       "      <td>5.07</td>\n",
       "      <td>791.7</td>\n",
       "      <td>Adult</td>\n",
       "      <td>Female</td>\n",
       "      <td>2018-03-05</td>\n",
       "      <td>Malaysia</td>\n",
       "      <td>Mangroves</td>\n",
       "      <td>Least Concern</td>\n",
       "      <td>Larry Garcia</td>\n",
       "      <td>Table prepare shoulder result Democrat later d...</td>\n",
       "    </tr>\n",
       "    <tr>\n",
       "      <th>119</th>\n",
       "      <td>120</td>\n",
       "      <td>Saltwater Crocodile</td>\n",
       "      <td>Crocodylus porosus</td>\n",
       "      <td>Crocodylus</td>\n",
       "      <td>5.22</td>\n",
       "      <td>809.0</td>\n",
       "      <td>Adult</td>\n",
       "      <td>Male</td>\n",
       "      <td>2006-09-07</td>\n",
       "      <td>Malaysia</td>\n",
       "      <td>Coastal Wetlands</td>\n",
       "      <td>Least Concern</td>\n",
       "      <td>Morgan Valencia</td>\n",
       "      <td>Candidate have no five letter environment easy...</td>\n",
       "    </tr>\n",
       "    <tr>\n",
       "      <th>157</th>\n",
       "      <td>158</td>\n",
       "      <td>Saltwater Crocodile</td>\n",
       "      <td>Crocodylus porosus</td>\n",
       "      <td>Crocodylus</td>\n",
       "      <td>6.02</td>\n",
       "      <td>1032.7</td>\n",
       "      <td>Adult</td>\n",
       "      <td>Male</td>\n",
       "      <td>2008-02-22</td>\n",
       "      <td>Philippines</td>\n",
       "      <td>Tidal Rivers</td>\n",
       "      <td>Least Concern</td>\n",
       "      <td>Angela Chung</td>\n",
       "      <td>North wrong difficult range summer president t...</td>\n",
       "    </tr>\n",
       "    <tr>\n",
       "      <th>166</th>\n",
       "      <td>167</td>\n",
       "      <td>Saltwater Crocodile</td>\n",
       "      <td>Crocodylus porosus</td>\n",
       "      <td>Crocodylus</td>\n",
       "      <td>5.48</td>\n",
       "      <td>878.6</td>\n",
       "      <td>Adult</td>\n",
       "      <td>Unknown</td>\n",
       "      <td>2025-06-22</td>\n",
       "      <td>Papua New Guinea</td>\n",
       "      <td>Coastal Wetlands</td>\n",
       "      <td>Least Concern</td>\n",
       "      <td>Heather Raymond</td>\n",
       "      <td>Many pattern leader career according how succe...</td>\n",
       "    </tr>\n",
       "    <tr>\n",
       "      <th>182</th>\n",
       "      <td>183</td>\n",
       "      <td>Saltwater Crocodile</td>\n",
       "      <td>Crocodylus porosus</td>\n",
       "      <td>Crocodylus</td>\n",
       "      <td>5.32</td>\n",
       "      <td>868.3</td>\n",
       "      <td>Adult</td>\n",
       "      <td>Female</td>\n",
       "      <td>2008-09-24</td>\n",
       "      <td>Malaysia</td>\n",
       "      <td>Estuaries</td>\n",
       "      <td>Least Concern</td>\n",
       "      <td>Charles Clark</td>\n",
       "      <td>South now mother others collection without fal...</td>\n",
       "    </tr>\n",
       "    <tr>\n",
       "      <th>207</th>\n",
       "      <td>208</td>\n",
       "      <td>Saltwater Crocodile</td>\n",
       "      <td>Crocodylus porosus</td>\n",
       "      <td>Crocodylus</td>\n",
       "      <td>5.91</td>\n",
       "      <td>906.6</td>\n",
       "      <td>Adult</td>\n",
       "      <td>Male</td>\n",
       "      <td>2016-11-06</td>\n",
       "      <td>Australia</td>\n",
       "      <td>Tidal Rivers</td>\n",
       "      <td>Least Concern</td>\n",
       "      <td>Sylvia Jones</td>\n",
       "      <td>Cup position speak begin suggest speak business.</td>\n",
       "    </tr>\n",
       "    <tr>\n",
       "      <th>209</th>\n",
       "      <td>210</td>\n",
       "      <td>Saltwater Crocodile</td>\n",
       "      <td>Crocodylus porosus</td>\n",
       "      <td>Crocodylus</td>\n",
       "      <td>6.02</td>\n",
       "      <td>1085.6</td>\n",
       "      <td>Adult</td>\n",
       "      <td>Female</td>\n",
       "      <td>2020-09-28</td>\n",
       "      <td>Papua New Guinea</td>\n",
       "      <td>Estuaries</td>\n",
       "      <td>Least Concern</td>\n",
       "      <td>Danielle Phillips</td>\n",
       "      <td>Third look because him information poor someth...</td>\n",
       "    </tr>\n",
       "    <tr>\n",
       "      <th>272</th>\n",
       "      <td>273</td>\n",
       "      <td>Nile Crocodile</td>\n",
       "      <td>Crocodylus niloticus</td>\n",
       "      <td>Crocodylus</td>\n",
       "      <td>5.18</td>\n",
       "      <td>848.2</td>\n",
       "      <td>Adult</td>\n",
       "      <td>Unknown</td>\n",
       "      <td>2007-02-01</td>\n",
       "      <td>Tanzania</td>\n",
       "      <td>Marshes</td>\n",
       "      <td>Least Concern</td>\n",
       "      <td>Lisa Haley</td>\n",
       "      <td>High someone box either rich agency might side.</td>\n",
       "    </tr>\n",
       "    <tr>\n",
       "      <th>386</th>\n",
       "      <td>387</td>\n",
       "      <td>Saltwater Crocodile</td>\n",
       "      <td>Crocodylus porosus</td>\n",
       "      <td>Crocodylus</td>\n",
       "      <td>6.12</td>\n",
       "      <td>1139.7</td>\n",
       "      <td>Adult</td>\n",
       "      <td>Male</td>\n",
       "      <td>2011-07-14</td>\n",
       "      <td>Papua New Guinea</td>\n",
       "      <td>Coastal Wetlands</td>\n",
       "      <td>Least Concern</td>\n",
       "      <td>Chad Shaffer</td>\n",
       "      <td>Throw receive us perhaps lawyer interest star ...</td>\n",
       "    </tr>\n",
       "    <tr>\n",
       "      <th>424</th>\n",
       "      <td>425</td>\n",
       "      <td>Saltwater Crocodile</td>\n",
       "      <td>Crocodylus porosus</td>\n",
       "      <td>Crocodylus</td>\n",
       "      <td>5.10</td>\n",
       "      <td>698.8</td>\n",
       "      <td>Adult</td>\n",
       "      <td>Male</td>\n",
       "      <td>2011-06-08</td>\n",
       "      <td>Papua New Guinea</td>\n",
       "      <td>Estuaries</td>\n",
       "      <td>Least Concern</td>\n",
       "      <td>Rachel Tucker</td>\n",
       "      <td>Success knowledge fight car smile commercial e...</td>\n",
       "    </tr>\n",
       "    <tr>\n",
       "      <th>483</th>\n",
       "      <td>484</td>\n",
       "      <td>Nile Crocodile</td>\n",
       "      <td>Crocodylus niloticus</td>\n",
       "      <td>Crocodylus</td>\n",
       "      <td>5.31</td>\n",
       "      <td>998.3</td>\n",
       "      <td>Adult</td>\n",
       "      <td>Male</td>\n",
       "      <td>2015-07-10</td>\n",
       "      <td>Kenya</td>\n",
       "      <td>Marshes</td>\n",
       "      <td>Least Concern</td>\n",
       "      <td>Ronald Keller</td>\n",
       "      <td>Pick especially price forget analysis performa...</td>\n",
       "    </tr>\n",
       "    <tr>\n",
       "      <th>547</th>\n",
       "      <td>548</td>\n",
       "      <td>Saltwater Crocodile</td>\n",
       "      <td>Crocodylus porosus</td>\n",
       "      <td>Crocodylus</td>\n",
       "      <td>5.79</td>\n",
       "      <td>904.4</td>\n",
       "      <td>Adult</td>\n",
       "      <td>Unknown</td>\n",
       "      <td>2014-11-26</td>\n",
       "      <td>Philippines</td>\n",
       "      <td>Coastal Wetlands</td>\n",
       "      <td>Least Concern</td>\n",
       "      <td>Danielle Mcgee</td>\n",
       "      <td>Course page case talk respond myself.</td>\n",
       "    </tr>\n",
       "    <tr>\n",
       "      <th>567</th>\n",
       "      <td>568</td>\n",
       "      <td>Saltwater Crocodile</td>\n",
       "      <td>Crocodylus porosus</td>\n",
       "      <td>Crocodylus</td>\n",
       "      <td>5.40</td>\n",
       "      <td>765.7</td>\n",
       "      <td>Adult</td>\n",
       "      <td>Male</td>\n",
       "      <td>2006-03-01</td>\n",
       "      <td>India</td>\n",
       "      <td>Mangroves</td>\n",
       "      <td>Least Concern</td>\n",
       "      <td>Evelyn Reid</td>\n",
       "      <td>Within project attack adult treatment large me...</td>\n",
       "    </tr>\n",
       "    <tr>\n",
       "      <th>672</th>\n",
       "      <td>673</td>\n",
       "      <td>Saltwater Crocodile</td>\n",
       "      <td>Crocodylus porosus</td>\n",
       "      <td>Crocodylus</td>\n",
       "      <td>5.05</td>\n",
       "      <td>624.1</td>\n",
       "      <td>Adult</td>\n",
       "      <td>Male</td>\n",
       "      <td>2014-01-07</td>\n",
       "      <td>Indonesia</td>\n",
       "      <td>Estuaries</td>\n",
       "      <td>Least Concern</td>\n",
       "      <td>Chris Ellis</td>\n",
       "      <td>Material first society purpose enjoy.</td>\n",
       "    </tr>\n",
       "    <tr>\n",
       "      <th>864</th>\n",
       "      <td>865</td>\n",
       "      <td>Saltwater Crocodile</td>\n",
       "      <td>Crocodylus porosus</td>\n",
       "      <td>Crocodylus</td>\n",
       "      <td>5.20</td>\n",
       "      <td>751.3</td>\n",
       "      <td>Adult</td>\n",
       "      <td>Female</td>\n",
       "      <td>2024-10-26</td>\n",
       "      <td>India</td>\n",
       "      <td>Mangroves</td>\n",
       "      <td>Least Concern</td>\n",
       "      <td>Erin Stewart</td>\n",
       "      <td>Probably cut clear yard do turn sign agree.</td>\n",
       "    </tr>\n",
       "    <tr>\n",
       "      <th>870</th>\n",
       "      <td>871</td>\n",
       "      <td>Saltwater Crocodile</td>\n",
       "      <td>Crocodylus porosus</td>\n",
       "      <td>Crocodylus</td>\n",
       "      <td>5.48</td>\n",
       "      <td>918.4</td>\n",
       "      <td>Adult</td>\n",
       "      <td>Female</td>\n",
       "      <td>2018-04-21</td>\n",
       "      <td>Australia</td>\n",
       "      <td>Mangroves</td>\n",
       "      <td>Least Concern</td>\n",
       "      <td>Christopher Thompson</td>\n",
       "      <td>Whole score special consider these body class ...</td>\n",
       "    </tr>\n",
       "    <tr>\n",
       "      <th>909</th>\n",
       "      <td>910</td>\n",
       "      <td>Saltwater Crocodile</td>\n",
       "      <td>Crocodylus porosus</td>\n",
       "      <td>Crocodylus</td>\n",
       "      <td>5.13</td>\n",
       "      <td>765.1</td>\n",
       "      <td>Adult</td>\n",
       "      <td>Unknown</td>\n",
       "      <td>2017-01-23</td>\n",
       "      <td>Australia</td>\n",
       "      <td>Estuaries</td>\n",
       "      <td>Least Concern</td>\n",
       "      <td>Jeffrey Miller</td>\n",
       "      <td>Make focus machine home marriage skill expert ...</td>\n",
       "    </tr>\n",
       "  </tbody>\n",
       "</table>\n",
       "</div>"
      ],
      "text/plain": [
       "     observation_ID          common_name       scientific_name       genus  \\\n",
       "53               54  Saltwater Crocodile    Crocodylus porosus  Crocodylus   \n",
       "59               60  Saltwater Crocodile    Crocodylus porosus  Crocodylus   \n",
       "79               80  Saltwater Crocodile    Crocodylus porosus  Crocodylus   \n",
       "119             120  Saltwater Crocodile    Crocodylus porosus  Crocodylus   \n",
       "157             158  Saltwater Crocodile    Crocodylus porosus  Crocodylus   \n",
       "166             167  Saltwater Crocodile    Crocodylus porosus  Crocodylus   \n",
       "182             183  Saltwater Crocodile    Crocodylus porosus  Crocodylus   \n",
       "207             208  Saltwater Crocodile    Crocodylus porosus  Crocodylus   \n",
       "209             210  Saltwater Crocodile    Crocodylus porosus  Crocodylus   \n",
       "272             273       Nile Crocodile  Crocodylus niloticus  Crocodylus   \n",
       "386             387  Saltwater Crocodile    Crocodylus porosus  Crocodylus   \n",
       "424             425  Saltwater Crocodile    Crocodylus porosus  Crocodylus   \n",
       "483             484       Nile Crocodile  Crocodylus niloticus  Crocodylus   \n",
       "547             548  Saltwater Crocodile    Crocodylus porosus  Crocodylus   \n",
       "567             568  Saltwater Crocodile    Crocodylus porosus  Crocodylus   \n",
       "672             673  Saltwater Crocodile    Crocodylus porosus  Crocodylus   \n",
       "864             865  Saltwater Crocodile    Crocodylus porosus  Crocodylus   \n",
       "870             871  Saltwater Crocodile    Crocodylus porosus  Crocodylus   \n",
       "909             910  Saltwater Crocodile    Crocodylus porosus  Crocodylus   \n",
       "\n",
       "     length_m  weight_kg age_class      sex observation_date  \\\n",
       "53       5.83      953.9     Adult  Unknown       2011-05-19   \n",
       "59       5.43      818.2     Adult     Male       2015-07-18   \n",
       "79       5.07      791.7     Adult   Female       2018-03-05   \n",
       "119      5.22      809.0     Adult     Male       2006-09-07   \n",
       "157      6.02     1032.7     Adult     Male       2008-02-22   \n",
       "166      5.48      878.6     Adult  Unknown       2025-06-22   \n",
       "182      5.32      868.3     Adult   Female       2008-09-24   \n",
       "207      5.91      906.6     Adult     Male       2016-11-06   \n",
       "209      6.02     1085.6     Adult   Female       2020-09-28   \n",
       "272      5.18      848.2     Adult  Unknown       2007-02-01   \n",
       "386      6.12     1139.7     Adult     Male       2011-07-14   \n",
       "424      5.10      698.8     Adult     Male       2011-06-08   \n",
       "483      5.31      998.3     Adult     Male       2015-07-10   \n",
       "547      5.79      904.4     Adult  Unknown       2014-11-26   \n",
       "567      5.40      765.7     Adult     Male       2006-03-01   \n",
       "672      5.05      624.1     Adult     Male       2014-01-07   \n",
       "864      5.20      751.3     Adult   Female       2024-10-26   \n",
       "870      5.48      918.4     Adult   Female       2018-04-21   \n",
       "909      5.13      765.1     Adult  Unknown       2017-01-23   \n",
       "\n",
       "              country      habitat_type conservation_status  \\\n",
       "53   Papua New Guinea  Coastal Wetlands       Least Concern   \n",
       "59          Indonesia  Coastal Wetlands       Least Concern   \n",
       "79           Malaysia         Mangroves       Least Concern   \n",
       "119          Malaysia  Coastal Wetlands       Least Concern   \n",
       "157       Philippines      Tidal Rivers       Least Concern   \n",
       "166  Papua New Guinea  Coastal Wetlands       Least Concern   \n",
       "182          Malaysia         Estuaries       Least Concern   \n",
       "207         Australia      Tidal Rivers       Least Concern   \n",
       "209  Papua New Guinea         Estuaries       Least Concern   \n",
       "272          Tanzania           Marshes       Least Concern   \n",
       "386  Papua New Guinea  Coastal Wetlands       Least Concern   \n",
       "424  Papua New Guinea         Estuaries       Least Concern   \n",
       "483             Kenya           Marshes       Least Concern   \n",
       "547       Philippines  Coastal Wetlands       Least Concern   \n",
       "567             India         Mangroves       Least Concern   \n",
       "672         Indonesia         Estuaries       Least Concern   \n",
       "864             India         Mangroves       Least Concern   \n",
       "870         Australia         Mangroves       Least Concern   \n",
       "909         Australia         Estuaries       Least Concern   \n",
       "\n",
       "            observer_name                                              notes  \n",
       "53          Gary Santiago  Form really explain war spend nearly lawyer fi...  \n",
       "59         Brittany Hanna  Maybe opportunity thank them key moment lead r...  \n",
       "79           Larry Garcia  Table prepare shoulder result Democrat later d...  \n",
       "119       Morgan Valencia  Candidate have no five letter environment easy...  \n",
       "157          Angela Chung  North wrong difficult range summer president t...  \n",
       "166       Heather Raymond  Many pattern leader career according how succe...  \n",
       "182         Charles Clark  South now mother others collection without fal...  \n",
       "207          Sylvia Jones   Cup position speak begin suggest speak business.  \n",
       "209     Danielle Phillips  Third look because him information poor someth...  \n",
       "272            Lisa Haley    High someone box either rich agency might side.  \n",
       "386          Chad Shaffer  Throw receive us perhaps lawyer interest star ...  \n",
       "424         Rachel Tucker  Success knowledge fight car smile commercial e...  \n",
       "483         Ronald Keller  Pick especially price forget analysis performa...  \n",
       "547        Danielle Mcgee              Course page case talk respond myself.  \n",
       "567           Evelyn Reid  Within project attack adult treatment large me...  \n",
       "672           Chris Ellis              Material first society purpose enjoy.  \n",
       "864          Erin Stewart        Probably cut clear yard do turn sign agree.  \n",
       "870  Christopher Thompson  Whole score special consider these body class ...  \n",
       "909        Jeffrey Miller  Make focus machine home marriage skill expert ...  "
      ]
     },
     "metadata": {},
     "output_type": "display_data"
    }
   ],
   "source": [
    "# Filter crocodiles classified as \"giants\" (length > 5m and adults only)\n",
    "giants = df[(df[\"length_m\"] > 5) & (df[\"age_class\"] == \"Adult\")] \n",
    "\n",
    "# Create a scatter plot of length vs weight\n",
    "fig = px.scatter(\n",
    "    df,\n",
    "    x=\"length_m\",\n",
    "    y=\"weight_kg\",\n",
    "    color=df[\"length_m\"] > 4.3, # Highlight crocodiles with length > 4.3m as potential \"giants\"\n",
    "    title=\"Normal vs Giant Crocodiles (Length > 5m)\",\n",
    "    labels={\"color\": \"Giant Crocodile\"}\n",
    ")\n",
    "fig.show()\n",
    "\n",
    "display(giants)"
   ]
  },
  {
   "cell_type": "code",
   "execution_count": 14,
   "id": "09ff49d1",
   "metadata": {},
   "outputs": [
    {
     "data": {
      "application/vnd.plotly.v1+json": {
       "config": {
        "plotlyServerURL": "https://plot.ly"
       },
       "data": [
        {
         "alignmentgroup": "True",
         "box": {
          "visible": true
         },
         "hovertemplate": "habitat_type=%{x}<br>length_m=%{y}<extra></extra>",
         "legendgroup": "Swamps",
         "marker": {
          "color": "#636efa"
         },
         "name": "Swamps",
         "offsetgroup": "Swamps",
         "orientation": "v",
         "points": "all",
         "scalegroup": "True",
         "showlegend": true,
         "type": "violin",
         "x": [
          "Swamps",
          "Swamps",
          "Swamps",
          "Swamps",
          "Swamps",
          "Swamps",
          "Swamps",
          "Swamps",
          "Swamps",
          "Swamps",
          "Swamps",
          "Swamps",
          "Swamps",
          "Swamps",
          "Swamps",
          "Swamps",
          "Swamps",
          "Swamps",
          "Swamps",
          "Swamps",
          "Swamps",
          "Swamps",
          "Swamps",
          "Swamps",
          "Swamps",
          "Swamps",
          "Swamps",
          "Swamps",
          "Swamps",
          "Swamps",
          "Swamps",
          "Swamps",
          "Swamps",
          "Swamps",
          "Swamps",
          "Swamps",
          "Swamps",
          "Swamps",
          "Swamps",
          "Swamps",
          "Swamps",
          "Swamps",
          "Swamps",
          "Swamps",
          "Swamps",
          "Swamps",
          "Swamps",
          "Swamps",
          "Swamps",
          "Swamps",
          "Swamps",
          "Swamps",
          "Swamps",
          "Swamps",
          "Swamps",
          "Swamps",
          "Swamps",
          "Swamps",
          "Swamps",
          "Swamps",
          "Swamps",
          "Swamps",
          "Swamps",
          "Swamps",
          "Swamps",
          "Swamps",
          "Swamps",
          "Swamps",
          "Swamps",
          "Swamps",
          "Swamps",
          "Swamps",
          "Swamps",
          "Swamps",
          "Swamps",
          "Swamps",
          "Swamps",
          "Swamps",
          "Swamps",
          "Swamps",
          "Swamps",
          "Swamps",
          "Swamps",
          "Swamps",
          "Swamps",
          "Swamps",
          "Swamps",
          "Swamps",
          "Swamps",
          "Swamps",
          "Swamps",
          "Swamps",
          "Swamps",
          "Swamps",
          "Swamps",
          "Swamps",
          "Swamps",
          "Swamps",
          "Swamps",
          "Swamps",
          "Swamps",
          "Swamps",
          "Swamps",
          "Swamps",
          "Swamps",
          "Swamps",
          "Swamps",
          "Swamps",
          "Swamps",
          "Swamps",
          "Swamps",
          "Swamps",
          "Swamps",
          "Swamps",
          "Swamps",
          "Swamps",
          "Swamps",
          "Swamps",
          "Swamps",
          "Swamps",
          "Swamps",
          "Swamps",
          "Swamps",
          "Swamps",
          "Swamps",
          "Swamps",
          "Swamps",
          "Swamps",
          "Swamps",
          "Swamps",
          "Swamps",
          "Swamps",
          "Swamps",
          "Swamps",
          "Swamps",
          "Swamps",
          "Swamps",
          "Swamps",
          "Swamps",
          "Swamps",
          "Swamps",
          "Swamps",
          "Swamps",
          "Swamps",
          "Swamps",
          "Swamps",
          "Swamps",
          "Swamps",
          "Swamps",
          "Swamps",
          "Swamps",
          "Swamps",
          "Swamps",
          "Swamps",
          "Swamps",
          "Swamps"
         ],
         "x0": " ",
         "xaxis": "x",
         "y": {
          "bdata": "ZmZmZmZm/j+F61G4HoUDQMP1KFyPwtU/UrgehetRAEBcj8L1KFwDQFK4HoXrUeg/rkfhehSuB0CkcD0K16MCQHE9CtejcANAFK5H4XoUBEC4HoXrUbjuP9ejcD0K1wFAmpmZmZmZ/T8zMzMzMzPzPzMzMzMzMwdACtejcD0KBUAAAAAAAAD0P3sUrkfhegJASOF6FK5H6T+uR+F6FK4FQK5H4XoUrgFAcT0K16NwB0CPwvUoXI8IQBSuR+F6FAJACtejcD0KB0BSuB6F61H4PxSuR+F6FAJAAAAAAAAABEBI4XoUrkcLQM3MzMzMzABA7FG4HoXrBUAK16NwPQoBQOF6FK5H4QJASOF6FK5H/T+uR+F6FK4HQOF6FK5H4QRAPQrXo3A9+j/Xo3A9CtcBQB+F61G4HtU/MzMzMzMz8z+kcD0K16P8P4/C9ShcjwBAZmZmZmZm/j+PwvUoXI8AQB+F61G4HgdAzczMzMzMBkBcj8L1KFwFQB+F61G4HgdAMzMzMzMzCUBSuB6F61EGQOF6FK5H4QRAXI/C9ShcB0ApXI/C9Sj4P8P1KFyPwgdACtejcD0K/z97FK5H4XoGQArXo3A9CgFAuB6F61G4BEDNzMzMzMwAQLgehetRuM4/XI/C9ShcB0AfhetRuB4FQD0K16NwPQpAXI/C9Shc9z+kcD0K16MAQM3MzMzMzARAKVyPwvUoCkDNzMzMzMwEQHsUrkfhevw/pHA9Ctej8D/hehSuR+EAQEjhehSuRwFAcT0K16NwB0AUrkfhehTyP0jhehSuRwdAuB6F61G4AECamZmZmZkBQAAAAAAAAAJACtejcD0K/z8K16NwPQoFQGZmZmZmZuY/FK5H4XoUCEAAAAAAAAAIQLgehetRuAJAUrgehetRAkDsUbgehesFQDMzMzMzMwNAw/UoXI/CAUAK16NwPQoFQFyPwvUoXAVAUrgehetRBECkcD0K16PQPzMzMzMzM/8/rkfhehSuBUBcj8L1KFwBQJqZmZmZmQVAFK5H4XoUBkAK16NwPQoJQHsUrkfhegZApHA9CtejBEBxPQrXo3DdP83MzMzMzAZAmpmZmZmZ9T97FK5H4XoEQHE9CtejcAVAXI/C9ShcA0BSuB6F61ECQJqZmZmZmQdAzczMzMzM8D+kcD0K16MEQLgehetRuARAH4XrUbgeB0AzMzMzMzP7PzMzMzMzMwNAAAAAAAAABEAUrkfhehQGQHE9CtejcANAexSuR+F6BEBI4XoUrkcFQK5H4XoUrgdA16NwPQrX/z8zMzMzMzPjP65H4XoUrgdA9ihcj8L1AEAAAAAAAAAIQBSuR+F6FAZAUrgehetRBkD2KFyPwvUAQJqZmZmZmQNAexSuR+F6BEDsUbgehev9P8P1KFyPwglAzczMzMzMAkApXI/C9SgEQEjhehSuRwFAAAAAAAAAAkD2KFyPwvUEQJqZmZmZmfE/FK5H4XoUAEDXo3A9CtcHQEjhehSuR9E/PQrXo3A9/j8pXI/C9SgCQDMzMzMzMwdAPQrXo3A9BEBSuB6F61EGQB+F61G4HglArkfhehSuCUA9CtejcD0CQClcj8L1KAhArkfhehSu9z/hehSuR+H+P7gehetRuAZASOF6FK5HA0AAAAAAAAAEQLgehetRuAJA",
          "dtype": "f8"
         },
         "y0": " ",
         "yaxis": "y"
        },
        {
         "alignmentgroup": "True",
         "box": {
          "visible": true
         },
         "hovertemplate": "habitat_type=%{x}<br>length_m=%{y}<extra></extra>",
         "legendgroup": "Rivers",
         "marker": {
          "color": "#EF553B"
         },
         "name": "Rivers",
         "offsetgroup": "Rivers",
         "orientation": "v",
         "points": "all",
         "scalegroup": "True",
         "showlegend": true,
         "type": "violin",
         "x": [
          "Rivers",
          "Rivers",
          "Rivers",
          "Rivers",
          "Rivers",
          "Rivers",
          "Rivers",
          "Rivers",
          "Rivers",
          "Rivers",
          "Rivers",
          "Rivers",
          "Rivers",
          "Rivers",
          "Rivers",
          "Rivers",
          "Rivers",
          "Rivers",
          "Rivers",
          "Rivers",
          "Rivers",
          "Rivers",
          "Rivers",
          "Rivers",
          "Rivers",
          "Rivers",
          "Rivers",
          "Rivers",
          "Rivers",
          "Rivers",
          "Rivers",
          "Rivers",
          "Rivers",
          "Rivers",
          "Rivers",
          "Rivers",
          "Rivers",
          "Rivers",
          "Rivers",
          "Rivers",
          "Rivers",
          "Rivers",
          "Rivers",
          "Rivers",
          "Rivers",
          "Rivers",
          "Rivers",
          "Rivers",
          "Rivers",
          "Rivers",
          "Rivers",
          "Rivers",
          "Rivers",
          "Rivers",
          "Rivers",
          "Rivers",
          "Rivers",
          "Rivers",
          "Rivers",
          "Rivers",
          "Rivers",
          "Rivers",
          "Rivers",
          "Rivers",
          "Rivers",
          "Rivers",
          "Rivers",
          "Rivers",
          "Rivers",
          "Rivers",
          "Rivers",
          "Rivers",
          "Rivers",
          "Rivers",
          "Rivers",
          "Rivers",
          "Rivers",
          "Rivers",
          "Rivers",
          "Rivers",
          "Rivers",
          "Rivers",
          "Rivers",
          "Rivers",
          "Rivers",
          "Rivers",
          "Rivers",
          "Rivers",
          "Rivers",
          "Rivers",
          "Rivers",
          "Rivers",
          "Rivers",
          "Rivers",
          "Rivers",
          "Rivers",
          "Rivers",
          "Rivers",
          "Rivers",
          "Rivers",
          "Rivers",
          "Rivers",
          "Rivers",
          "Rivers",
          "Rivers",
          "Rivers",
          "Rivers",
          "Rivers",
          "Rivers",
          "Rivers",
          "Rivers",
          "Rivers",
          "Rivers",
          "Rivers",
          "Rivers",
          "Rivers",
          "Rivers",
          "Rivers",
          "Rivers",
          "Rivers",
          "Rivers",
          "Rivers",
          "Rivers",
          "Rivers",
          "Rivers",
          "Rivers",
          "Rivers",
          "Rivers",
          "Rivers",
          "Rivers",
          "Rivers",
          "Rivers",
          "Rivers",
          "Rivers",
          "Rivers",
          "Rivers",
          "Rivers",
          "Rivers",
          "Rivers",
          "Rivers",
          "Rivers",
          "Rivers",
          "Rivers",
          "Rivers",
          "Rivers",
          "Rivers",
          "Rivers",
          "Rivers",
          "Rivers",
          "Rivers",
          "Rivers",
          "Rivers",
          "Rivers",
          "Rivers",
          "Rivers",
          "Rivers",
          "Rivers",
          "Rivers",
          "Rivers",
          "Rivers",
          "Rivers",
          "Rivers",
          "Rivers",
          "Rivers",
          "Rivers"
         ],
         "x0": " ",
         "xaxis": "x",
         "y": {
          "bdata": "XI/C9ShcA0AAAAAAAAAOQAAAAAAAAABAH4XrUbgeC0ApXI/C9SjwPwAAAAAAAApAKVyPwvUoBEDD9Shcj8IHQDMzMzMzMwFAmpmZmZmZ8T8pXI/C9SgIQJqZmZmZmQNAXI/C9Shc8z+kcD0K16MIQBSuR+F6FAJArkfhehSuA0AzMzMzMzMHQIXrUbgehQlAj8L1KFyPAEB7FK5H4XoGQI/C9ShcjwZA4XoUrkfhCEBxPQrXo3ANQFyPwvUoXANAKVyPwvUo7D8K16NwPQoJQClcj8L1KApAexSuR+F6xD9SuB6F61EIQK5H4XoUrgFAw/UoXI/CAUDNzMzMzMwOQHsUrkfhegJAUrgehetRBkDXo3A9CtfrP3E9CtejcAFAuB6F61G4CEAUrkfhehQGQDMzMzMzMwNAPQrXo3A9BkD2KFyPwvUGQB+F61G4HglA16NwPQrXB0DXo3A9Ctf7P4XrUbgehQdAzczMzMzMAEB7FK5H4XoCQClcj8L1KPw/UrgehetRAkApXI/C9Sj4PxSuR+F6FAJA16NwPQrXBUAfhetRuB75P7gehetRuARAUrgehetRAEC4HoXrUbj2P2ZmZmZmZhBAAAAAAAAACkAfhetRuB79P4/C9Shcj/o/XI/C9ShcA0BI4XoUrkcDQPYoXI/C9QhAKVyPwvUoAEDsUbgehesHQHE9CtejcP0/uB6F61G43j+F61G4HoULQI/C9ShcjwRAexSuR+F6BkAzMzMzMzP/Pylcj8L1KARAAAAAAAAACkD2KFyPwvUEQJqZmZmZmQdASOF6FK5HAUApXI/C9SgMQHE9CtejcAtAw/UoXI/C+T/D9Shcj8LtPx+F61G4Hv0/FK5H4XoUBkDXo3A9Ctf7PwAAAAAAAAJAPQrXo3A94j+kcD0K16MRQHE9CtejcAlAzczMzMzMBkDNzMzMzMwCQD0K16NwPQZAAAAAAAAAAkDhehSuR+EEQIXrUbgehQtAw/UoXI/CBUD2KFyPwvX8P2ZmZmZmZhFA4XoUrkfhCEAUrkfhehQEQArXo3A9Cuc/XI/C9Shc3z9mZmZmZmYAQD0K16NwPQZApHA9CtejAEDNzMzMzMwEQNejcD0K1/M/ZmZmZmZmAkDsUbgehev5P9ejcD0K1wFApHA9CtejBkApXI/C9Sj8P3E9CtejcAVASOF6FK5HAUCF61G4HoX/P0jhehSuR/k/CtejcD0KC0ApXI/C9SgRQLgehetRuBBAw/UoXI/CxT8fhetRuB4FQLgehetRuP4/w/UoXI/CA0Bcj8L1KFwFQEjhehSuRw9AUrgehetRDkBI4XoUrkcLQGZmZmZmZuY/4XoUrkfhCEDNzMzMzMzkP1K4HoXrUQpAFK5H4XoUAkDsUbgehesLQB+F61G4HgVAKVyPwvUoAkBcj8L1KFwBQM3MzMzMzPg/hetRuB6FBUDD9Shcj8L9P/YoXI/C9fw/16NwPQrXCUDD9Shcj8IHQI/C9ShcjxBA16NwPQrXC0DD9Shcj8L9P65H4XoUrgFA7FG4HoXrBUDNzMzMzMwCQKRwPQrXowZAKVyPwvUo/D8AAAAAAAAGQMP1KFyPwgNAuB6F61G4BEB7FK5H4XoGQK5H4XoUrgNAzczMzMzMBECuR+F6FK7/P+F6FK5H4f4/XI/C9ShcAUApXI/C9SgIQPYoXI/C9QJAzczMzMzMAEDXo3A9Ctf/P2ZmZmZmZgJAUrgehetRBEDsUbgehesFQDMzMzMzMwtA",
          "dtype": "f8"
         },
         "y0": " ",
         "yaxis": "y"
        }
       ],
       "layout": {
        "legend": {
         "title": {
          "text": "habitat_type"
         },
         "tracegroupgap": 0
        },
        "template": {
         "data": {
          "bar": [
           {
            "error_x": {
             "color": "#2a3f5f"
            },
            "error_y": {
             "color": "#2a3f5f"
            },
            "marker": {
             "line": {
              "color": "#E5ECF6",
              "width": 0.5
             },
             "pattern": {
              "fillmode": "overlay",
              "size": 10,
              "solidity": 0.2
             }
            },
            "type": "bar"
           }
          ],
          "barpolar": [
           {
            "marker": {
             "line": {
              "color": "#E5ECF6",
              "width": 0.5
             },
             "pattern": {
              "fillmode": "overlay",
              "size": 10,
              "solidity": 0.2
             }
            },
            "type": "barpolar"
           }
          ],
          "carpet": [
           {
            "aaxis": {
             "endlinecolor": "#2a3f5f",
             "gridcolor": "white",
             "linecolor": "white",
             "minorgridcolor": "white",
             "startlinecolor": "#2a3f5f"
            },
            "baxis": {
             "endlinecolor": "#2a3f5f",
             "gridcolor": "white",
             "linecolor": "white",
             "minorgridcolor": "white",
             "startlinecolor": "#2a3f5f"
            },
            "type": "carpet"
           }
          ],
          "choropleth": [
           {
            "colorbar": {
             "outlinewidth": 0,
             "ticks": ""
            },
            "type": "choropleth"
           }
          ],
          "contour": [
           {
            "colorbar": {
             "outlinewidth": 0,
             "ticks": ""
            },
            "colorscale": [
             [
              0,
              "#0d0887"
             ],
             [
              0.1111111111111111,
              "#46039f"
             ],
             [
              0.2222222222222222,
              "#7201a8"
             ],
             [
              0.3333333333333333,
              "#9c179e"
             ],
             [
              0.4444444444444444,
              "#bd3786"
             ],
             [
              0.5555555555555556,
              "#d8576b"
             ],
             [
              0.6666666666666666,
              "#ed7953"
             ],
             [
              0.7777777777777778,
              "#fb9f3a"
             ],
             [
              0.8888888888888888,
              "#fdca26"
             ],
             [
              1,
              "#f0f921"
             ]
            ],
            "type": "contour"
           }
          ],
          "contourcarpet": [
           {
            "colorbar": {
             "outlinewidth": 0,
             "ticks": ""
            },
            "type": "contourcarpet"
           }
          ],
          "heatmap": [
           {
            "colorbar": {
             "outlinewidth": 0,
             "ticks": ""
            },
            "colorscale": [
             [
              0,
              "#0d0887"
             ],
             [
              0.1111111111111111,
              "#46039f"
             ],
             [
              0.2222222222222222,
              "#7201a8"
             ],
             [
              0.3333333333333333,
              "#9c179e"
             ],
             [
              0.4444444444444444,
              "#bd3786"
             ],
             [
              0.5555555555555556,
              "#d8576b"
             ],
             [
              0.6666666666666666,
              "#ed7953"
             ],
             [
              0.7777777777777778,
              "#fb9f3a"
             ],
             [
              0.8888888888888888,
              "#fdca26"
             ],
             [
              1,
              "#f0f921"
             ]
            ],
            "type": "heatmap"
           }
          ],
          "histogram": [
           {
            "marker": {
             "pattern": {
              "fillmode": "overlay",
              "size": 10,
              "solidity": 0.2
             }
            },
            "type": "histogram"
           }
          ],
          "histogram2d": [
           {
            "colorbar": {
             "outlinewidth": 0,
             "ticks": ""
            },
            "colorscale": [
             [
              0,
              "#0d0887"
             ],
             [
              0.1111111111111111,
              "#46039f"
             ],
             [
              0.2222222222222222,
              "#7201a8"
             ],
             [
              0.3333333333333333,
              "#9c179e"
             ],
             [
              0.4444444444444444,
              "#bd3786"
             ],
             [
              0.5555555555555556,
              "#d8576b"
             ],
             [
              0.6666666666666666,
              "#ed7953"
             ],
             [
              0.7777777777777778,
              "#fb9f3a"
             ],
             [
              0.8888888888888888,
              "#fdca26"
             ],
             [
              1,
              "#f0f921"
             ]
            ],
            "type": "histogram2d"
           }
          ],
          "histogram2dcontour": [
           {
            "colorbar": {
             "outlinewidth": 0,
             "ticks": ""
            },
            "colorscale": [
             [
              0,
              "#0d0887"
             ],
             [
              0.1111111111111111,
              "#46039f"
             ],
             [
              0.2222222222222222,
              "#7201a8"
             ],
             [
              0.3333333333333333,
              "#9c179e"
             ],
             [
              0.4444444444444444,
              "#bd3786"
             ],
             [
              0.5555555555555556,
              "#d8576b"
             ],
             [
              0.6666666666666666,
              "#ed7953"
             ],
             [
              0.7777777777777778,
              "#fb9f3a"
             ],
             [
              0.8888888888888888,
              "#fdca26"
             ],
             [
              1,
              "#f0f921"
             ]
            ],
            "type": "histogram2dcontour"
           }
          ],
          "mesh3d": [
           {
            "colorbar": {
             "outlinewidth": 0,
             "ticks": ""
            },
            "type": "mesh3d"
           }
          ],
          "parcoords": [
           {
            "line": {
             "colorbar": {
              "outlinewidth": 0,
              "ticks": ""
             }
            },
            "type": "parcoords"
           }
          ],
          "pie": [
           {
            "automargin": true,
            "type": "pie"
           }
          ],
          "scatter": [
           {
            "fillpattern": {
             "fillmode": "overlay",
             "size": 10,
             "solidity": 0.2
            },
            "type": "scatter"
           }
          ],
          "scatter3d": [
           {
            "line": {
             "colorbar": {
              "outlinewidth": 0,
              "ticks": ""
             }
            },
            "marker": {
             "colorbar": {
              "outlinewidth": 0,
              "ticks": ""
             }
            },
            "type": "scatter3d"
           }
          ],
          "scattercarpet": [
           {
            "marker": {
             "colorbar": {
              "outlinewidth": 0,
              "ticks": ""
             }
            },
            "type": "scattercarpet"
           }
          ],
          "scattergeo": [
           {
            "marker": {
             "colorbar": {
              "outlinewidth": 0,
              "ticks": ""
             }
            },
            "type": "scattergeo"
           }
          ],
          "scattergl": [
           {
            "marker": {
             "colorbar": {
              "outlinewidth": 0,
              "ticks": ""
             }
            },
            "type": "scattergl"
           }
          ],
          "scattermap": [
           {
            "marker": {
             "colorbar": {
              "outlinewidth": 0,
              "ticks": ""
             }
            },
            "type": "scattermap"
           }
          ],
          "scattermapbox": [
           {
            "marker": {
             "colorbar": {
              "outlinewidth": 0,
              "ticks": ""
             }
            },
            "type": "scattermapbox"
           }
          ],
          "scatterpolar": [
           {
            "marker": {
             "colorbar": {
              "outlinewidth": 0,
              "ticks": ""
             }
            },
            "type": "scatterpolar"
           }
          ],
          "scatterpolargl": [
           {
            "marker": {
             "colorbar": {
              "outlinewidth": 0,
              "ticks": ""
             }
            },
            "type": "scatterpolargl"
           }
          ],
          "scatterternary": [
           {
            "marker": {
             "colorbar": {
              "outlinewidth": 0,
              "ticks": ""
             }
            },
            "type": "scatterternary"
           }
          ],
          "surface": [
           {
            "colorbar": {
             "outlinewidth": 0,
             "ticks": ""
            },
            "colorscale": [
             [
              0,
              "#0d0887"
             ],
             [
              0.1111111111111111,
              "#46039f"
             ],
             [
              0.2222222222222222,
              "#7201a8"
             ],
             [
              0.3333333333333333,
              "#9c179e"
             ],
             [
              0.4444444444444444,
              "#bd3786"
             ],
             [
              0.5555555555555556,
              "#d8576b"
             ],
             [
              0.6666666666666666,
              "#ed7953"
             ],
             [
              0.7777777777777778,
              "#fb9f3a"
             ],
             [
              0.8888888888888888,
              "#fdca26"
             ],
             [
              1,
              "#f0f921"
             ]
            ],
            "type": "surface"
           }
          ],
          "table": [
           {
            "cells": {
             "fill": {
              "color": "#EBF0F8"
             },
             "line": {
              "color": "white"
             }
            },
            "header": {
             "fill": {
              "color": "#C8D4E3"
             },
             "line": {
              "color": "white"
             }
            },
            "type": "table"
           }
          ]
         },
         "layout": {
          "annotationdefaults": {
           "arrowcolor": "#2a3f5f",
           "arrowhead": 0,
           "arrowwidth": 1
          },
          "autotypenumbers": "strict",
          "coloraxis": {
           "colorbar": {
            "outlinewidth": 0,
            "ticks": ""
           }
          },
          "colorscale": {
           "diverging": [
            [
             0,
             "#8e0152"
            ],
            [
             0.1,
             "#c51b7d"
            ],
            [
             0.2,
             "#de77ae"
            ],
            [
             0.3,
             "#f1b6da"
            ],
            [
             0.4,
             "#fde0ef"
            ],
            [
             0.5,
             "#f7f7f7"
            ],
            [
             0.6,
             "#e6f5d0"
            ],
            [
             0.7,
             "#b8e186"
            ],
            [
             0.8,
             "#7fbc41"
            ],
            [
             0.9,
             "#4d9221"
            ],
            [
             1,
             "#276419"
            ]
           ],
           "sequential": [
            [
             0,
             "#0d0887"
            ],
            [
             0.1111111111111111,
             "#46039f"
            ],
            [
             0.2222222222222222,
             "#7201a8"
            ],
            [
             0.3333333333333333,
             "#9c179e"
            ],
            [
             0.4444444444444444,
             "#bd3786"
            ],
            [
             0.5555555555555556,
             "#d8576b"
            ],
            [
             0.6666666666666666,
             "#ed7953"
            ],
            [
             0.7777777777777778,
             "#fb9f3a"
            ],
            [
             0.8888888888888888,
             "#fdca26"
            ],
            [
             1,
             "#f0f921"
            ]
           ],
           "sequentialminus": [
            [
             0,
             "#0d0887"
            ],
            [
             0.1111111111111111,
             "#46039f"
            ],
            [
             0.2222222222222222,
             "#7201a8"
            ],
            [
             0.3333333333333333,
             "#9c179e"
            ],
            [
             0.4444444444444444,
             "#bd3786"
            ],
            [
             0.5555555555555556,
             "#d8576b"
            ],
            [
             0.6666666666666666,
             "#ed7953"
            ],
            [
             0.7777777777777778,
             "#fb9f3a"
            ],
            [
             0.8888888888888888,
             "#fdca26"
            ],
            [
             1,
             "#f0f921"
            ]
           ]
          },
          "colorway": [
           "#636efa",
           "#EF553B",
           "#00cc96",
           "#ab63fa",
           "#FFA15A",
           "#19d3f3",
           "#FF6692",
           "#B6E880",
           "#FF97FF",
           "#FECB52"
          ],
          "font": {
           "color": "#2a3f5f"
          },
          "geo": {
           "bgcolor": "white",
           "lakecolor": "white",
           "landcolor": "#E5ECF6",
           "showlakes": true,
           "showland": true,
           "subunitcolor": "white"
          },
          "hoverlabel": {
           "align": "left"
          },
          "hovermode": "closest",
          "mapbox": {
           "style": "light"
          },
          "paper_bgcolor": "white",
          "plot_bgcolor": "#E5ECF6",
          "polar": {
           "angularaxis": {
            "gridcolor": "white",
            "linecolor": "white",
            "ticks": ""
           },
           "bgcolor": "#E5ECF6",
           "radialaxis": {
            "gridcolor": "white",
            "linecolor": "white",
            "ticks": ""
           }
          },
          "scene": {
           "xaxis": {
            "backgroundcolor": "#E5ECF6",
            "gridcolor": "white",
            "gridwidth": 2,
            "linecolor": "white",
            "showbackground": true,
            "ticks": "",
            "zerolinecolor": "white"
           },
           "yaxis": {
            "backgroundcolor": "#E5ECF6",
            "gridcolor": "white",
            "gridwidth": 2,
            "linecolor": "white",
            "showbackground": true,
            "ticks": "",
            "zerolinecolor": "white"
           },
           "zaxis": {
            "backgroundcolor": "#E5ECF6",
            "gridcolor": "white",
            "gridwidth": 2,
            "linecolor": "white",
            "showbackground": true,
            "ticks": "",
            "zerolinecolor": "white"
           }
          },
          "shapedefaults": {
           "line": {
            "color": "#2a3f5f"
           }
          },
          "ternary": {
           "aaxis": {
            "gridcolor": "white",
            "linecolor": "white",
            "ticks": ""
           },
           "baxis": {
            "gridcolor": "white",
            "linecolor": "white",
            "ticks": ""
           },
           "bgcolor": "#E5ECF6",
           "caxis": {
            "gridcolor": "white",
            "linecolor": "white",
            "ticks": ""
           }
          },
          "title": {
           "x": 0.05
          },
          "xaxis": {
           "automargin": true,
           "gridcolor": "white",
           "linecolor": "white",
           "ticks": "",
           "title": {
            "standoff": 15
           },
           "zerolinecolor": "white",
           "zerolinewidth": 2
          },
          "yaxis": {
           "automargin": true,
           "gridcolor": "white",
           "linecolor": "white",
           "ticks": "",
           "title": {
            "standoff": 15
           },
           "zerolinecolor": "white",
           "zerolinewidth": 2
          }
         }
        },
        "title": {
         "text": "Crocodile Length Distributions in Rivers vs Swamps"
        },
        "violinmode": "overlay",
        "xaxis": {
         "anchor": "y",
         "categoryarray": [
          "Swamps",
          "Rivers"
         ],
         "categoryorder": "array",
         "domain": [
          0,
          1
         ],
         "title": {
          "text": "habitat_type"
         }
        },
        "yaxis": {
         "anchor": "x",
         "domain": [
          0,
          1
         ],
         "title": {
          "text": "length_m"
         }
        }
       }
      }
     },
     "metadata": {},
     "output_type": "display_data"
    }
   ],
   "source": [
    "# Slice dataset to only include crocodiles observed in \"Rivers\" or \"Swamps\"\n",
    "habitat_slice = df.loc[\n",
    "    df[\"habitat_type\"].isin([\"Rivers\", \"Swamps\"]),\n",
    "    [\"common_name\",\"length_m\",\"weight_kg\",\"age_class\",\"sex\",\"country\",\"habitat_type\"]\n",
    "]\n",
    "\n",
    "# Violin plot to compare length by habitat type (rivers vs swamps)\n",
    "fig = px.violin(\n",
    "    habitat_slice,\n",
    "    x=\"habitat_type\", y=\"length_m\",\n",
    "    color=\"habitat_type\",\n",
    "    box=True,\n",
    "    points=\"all\",\n",
    "    title=\"Crocodile Length Distributions in Rivers vs Swamps\"\n",
    ")\n",
    "fig.show()"
   ]
  },
  {
   "cell_type": "code",
   "execution_count": 22,
   "id": "bf2afe4f",
   "metadata": {},
   "outputs": [
    {
     "data": {
      "application/vnd.plotly.v1+json": {
       "config": {
        "plotlyServerURL": "https://plot.ly"
       },
       "data": [
        {
         "hovertemplate": "<b>%{hovertext}</b><br><br>common_name=American Crocodile<br>length_m=%{x}<br>weight_kg=%{marker.size}<extra></extra>",
         "hovertext": [
          "American Crocodile"
         ],
         "legendgroup": "American Crocodile",
         "marker": {
          "color": "#636efa",
          "size": {
           "bdata": "AAAAAACgZ0A=",
           "dtype": "f8"
          },
          "sizemode": "area",
          "sizeref": 1.5866120689655174,
          "symbol": "circle"
         },
         "mode": "markers",
         "name": "American Crocodile",
         "orientation": "v",
         "showlegend": true,
         "type": "scatter",
         "x": {
          "bdata": "CCh3gHIHB0A=",
          "dtype": "f8"
         },
         "xaxis": "x",
         "y": {
          "bdata": "AAAAAACgZ0A=",
          "dtype": "f8"
         },
         "yaxis": "y"
        },
        {
         "hovertemplate": "<b>%{hovertext}</b><br><br>common_name=Borneo Crocodile (disputed)<br>length_m=%{x}<br>weight_kg=%{marker.size}<extra></extra>",
         "hovertext": [
          "Borneo Crocodile (disputed)"
         ],
         "legendgroup": "Borneo Crocodile (disputed)",
         "marker": {
          "color": "#EF553B",
          "size": {
           "bdata": "ueNKAvN+XUA=",
           "dtype": "f8"
          },
          "sizemode": "area",
          "sizeref": 1.5866120689655174,
          "symbol": "circle"
         },
         "mode": "markers",
         "name": "Borneo Crocodile (disputed)",
         "orientation": "v",
         "showlegend": true,
         "type": "scatter",
         "x": {
          "bdata": "P8+cuhEkBEA=",
          "dtype": "f8"
         },
         "xaxis": "x",
         "y": {
          "bdata": "ueNKAvN+XUA=",
          "dtype": "f8"
         },
         "yaxis": "y"
        },
        {
         "hovertemplate": "<b>%{hovertext}</b><br><br>common_name=Central African Slender-snouted Crocodile<br>length_m=%{x}<br>weight_kg=%{marker.size}<extra></extra>",
         "hovertext": [
          "Central African Slender-snouted Crocodile"
         ],
         "legendgroup": "Central African Slender-snouted Crocodile",
         "marker": {
          "color": "#00cc96",
          "size": {
           "bdata": "t23btm0HV0A=",
           "dtype": "f8"
          },
          "sizemode": "area",
          "sizeref": 1.5866120689655174,
          "symbol": "circle"
         },
         "mode": "markers",
         "name": "Central African Slender-snouted Crocodile",
         "orientation": "v",
         "showlegend": true,
         "type": "scatter",
         "x": {
          "bdata": "Jvo7WS3v/z8=",
          "dtype": "f8"
         },
         "xaxis": "x",
         "y": {
          "bdata": "t23btm0HV0A=",
          "dtype": "f8"
         },
         "yaxis": "y"
        },
        {
         "hovertemplate": "<b>%{hovertext}</b><br><br>common_name=Congo Dwarf Crocodile<br>length_m=%{x}<br>weight_kg=%{marker.size}<extra></extra>",
         "hovertext": [
          "Congo Dwarf Crocodile"
         ],
         "legendgroup": "Congo Dwarf Crocodile",
         "marker": {
          "color": "#ab63fa",
          "size": {
           "bdata": "d3d3d3fHM0A=",
           "dtype": "f8"
          },
          "sizemode": "area",
          "sizeref": 1.5866120689655174,
          "symbol": "circle"
         },
         "mode": "markers",
         "name": "Congo Dwarf Crocodile",
         "orientation": "v",
         "showlegend": true,
         "type": "scatter",
         "x": {
          "bdata": "KVyPwvWo8z8=",
          "dtype": "f8"
         },
         "xaxis": "x",
         "y": {
          "bdata": "d3d3d3fHM0A=",
          "dtype": "f8"
         },
         "yaxis": "y"
        },
        {
         "hovertemplate": "<b>%{hovertext}</b><br><br>common_name=Cuban Crocodile<br>length_m=%{x}<br>weight_kg=%{marker.size}<extra></extra>",
         "hovertext": [
          "Cuban Crocodile"
         ],
         "legendgroup": "Cuban Crocodile",
         "marker": {
          "color": "#FFA15A",
          "size": {
           "bdata": "Jgy+0xTYWEA=",
           "dtype": "f8"
          },
          "sizemode": "area",
          "sizeref": 1.5866120689655174,
          "symbol": "circle"
         },
         "mode": "markers",
         "name": "Cuban Crocodile",
         "orientation": "v",
         "showlegend": true,
         "type": "scatter",
         "x": {
          "bdata": "UiHAzzGLAkA=",
          "dtype": "f8"
         },
         "xaxis": "x",
         "y": {
          "bdata": "Jgy+0xTYWEA=",
          "dtype": "f8"
         },
         "yaxis": "y"
        },
        {
         "hovertemplate": "<b>%{hovertext}</b><br><br>common_name=Freshwater Crocodile (Johnstone's)<br>length_m=%{x}<br>weight_kg=%{marker.size}<extra></extra>",
         "hovertext": [
          "Freshwater Crocodile (Johnstone's)"
         ],
         "legendgroup": "Freshwater Crocodile (Johnstone's)",
         "marker": {
          "color": "#19d3f3",
          "size": {
           "bdata": "LtiCLdhCS0A=",
           "dtype": "f8"
          },
          "sizemode": "area",
          "sizeref": 1.5866120689655174,
          "symbol": "circle"
         },
         "mode": "markers",
         "name": "Freshwater Crocodile (Johnstone's)",
         "orientation": "v",
         "showlegend": true,
         "type": "scatter",
         "x": {
          "bdata": "KKO3Za2O/T8=",
          "dtype": "f8"
         },
         "xaxis": "x",
         "y": {
          "bdata": "LtiCLdhCS0A=",
          "dtype": "f8"
         },
         "yaxis": "y"
        },
        {
         "hovertemplate": "<b>%{hovertext}</b><br><br>common_name=Hall's New Guinea Crocodile<br>length_m=%{x}<br>weight_kg=%{marker.size}<extra></extra>",
         "hovertext": [
          "Hall's New Guinea Crocodile"
         ],
         "legendgroup": "Hall's New Guinea Crocodile",
         "marker": {
          "color": "#FF6692",
          "size": {
           "bdata": "mFPwcgoeWEA=",
           "dtype": "f8"
          },
          "sizemode": "area",
          "sizeref": 1.5866120689655174,
          "symbol": "circle"
         },
         "mode": "markers",
         "name": "Hall's New Guinea Crocodile",
         "orientation": "v",
         "showlegend": true,
         "type": "scatter",
         "x": {
          "bdata": "uTovLos2A0A=",
          "dtype": "f8"
         },
         "xaxis": "x",
         "y": {
          "bdata": "mFPwcgoeWEA=",
          "dtype": "f8"
         },
         "yaxis": "y"
        },
        {
         "hovertemplate": "<b>%{hovertext}</b><br><br>common_name=Morelet's Crocodile<br>length_m=%{x}<br>weight_kg=%{marker.size}<extra></extra>",
         "hovertext": [
          "Morelet's Crocodile"
         ],
         "legendgroup": "Morelet's Crocodile",
         "marker": {
          "color": "#B6E880",
          "size": {
           "bdata": "AAAAAAA/VUA=",
           "dtype": "f8"
          },
          "sizemode": "area",
          "sizeref": 1.5866120689655174,
          "symbol": "circle"
         },
         "mode": "markers",
         "name": "Morelet's Crocodile",
         "orientation": "v",
         "showlegend": true,
         "type": "scatter",
         "x": {
          "bdata": "PQrXo3A1AUA=",
          "dtype": "f8"
         },
         "xaxis": "x",
         "y": {
          "bdata": "AAAAAAA/VUA=",
          "dtype": "f8"
         },
         "yaxis": "y"
        },
        {
         "hovertemplate": "<b>%{hovertext}</b><br><br>common_name=Mugger Crocodile (Marsh Crocodile)<br>length_m=%{x}<br>weight_kg=%{marker.size}<extra></extra>",
         "hovertext": [
          "Mugger Crocodile (Marsh Crocodile)"
         ],
         "legendgroup": "Mugger Crocodile (Marsh Crocodile)",
         "marker": {
          "color": "#FF97FF",
          "size": {
           "bdata": "lx/p/sInZEA=",
           "dtype": "f8"
          },
          "sizemode": "area",
          "sizeref": 1.5866120689655174,
          "symbol": "circle"
         },
         "mode": "markers",
         "name": "Mugger Crocodile (Marsh Crocodile)",
         "orientation": "v",
         "showlegend": true,
         "type": "scatter",
         "x": {
          "bdata": "j8L1KFyPBkA=",
          "dtype": "f8"
         },
         "xaxis": "x",
         "y": {
          "bdata": "lx/p/sInZEA=",
          "dtype": "f8"
         },
         "yaxis": "y"
        },
        {
         "hovertemplate": "<b>%{hovertext}</b><br><br>common_name=New Guinea Crocodile<br>length_m=%{x}<br>weight_kg=%{marker.size}<extra></extra>",
         "hovertext": [
          "New Guinea Crocodile"
         ],
         "legendgroup": "New Guinea Crocodile",
         "marker": {
          "color": "#FECB52",
          "size": {
           "bdata": "ioqKiooaVEA=",
           "dtype": "f8"
          },
          "sizemode": "area",
          "sizeref": 1.5866120689655174,
          "symbol": "circle"
         },
         "mode": "markers",
         "name": "New Guinea Crocodile",
         "orientation": "v",
         "showlegend": true,
         "type": "scatter",
         "x": {
          "bdata": "qXZDEN0pAUA=",
          "dtype": "f8"
         },
         "xaxis": "x",
         "y": {
          "bdata": "ioqKiooaVEA=",
          "dtype": "f8"
         },
         "yaxis": "y"
        },
        {
         "hovertemplate": "<b>%{hovertext}</b><br><br>common_name=Nile Crocodile<br>length_m=%{x}<br>weight_kg=%{marker.size}<extra></extra>",
         "hovertext": [
          "Nile Crocodile"
         ],
         "legendgroup": "Nile Crocodile",
         "marker": {
          "color": "#636efa",
          "size": {
           "bdata": "3d3d3V1/fEA=",
           "dtype": "f8"
          },
          "sizemode": "area",
          "sizeref": 1.5866120689655174,
          "symbol": "circle"
         },
         "mode": "markers",
         "name": "Nile Crocodile",
         "orientation": "v",
         "showlegend": true,
         "type": "scatter",
         "x": {
          "bdata": "VVVVVVVVDUA=",
          "dtype": "f8"
         },
         "xaxis": "x",
         "y": {
          "bdata": "3d3d3V1/fEA=",
          "dtype": "f8"
         },
         "yaxis": "y"
        },
        {
         "hovertemplate": "<b>%{hovertext}</b><br><br>common_name=Orinoco Crocodile<br>length_m=%{x}<br>weight_kg=%{marker.size}<extra></extra>",
         "hovertext": [
          "Orinoco Crocodile"
         ],
         "legendgroup": "Orinoco Crocodile",
         "marker": {
          "color": "#EF553B",
          "size": {
           "bdata": "jz8c8Ph7ckA=",
           "dtype": "f8"
          },
          "sizemode": "area",
          "sizeref": 1.5866120689655174,
          "symbol": "circle"
         },
         "mode": "markers",
         "name": "Orinoco Crocodile",
         "orientation": "v",
         "showlegend": true,
         "type": "scatter",
         "x": {
          "bdata": "HGdsGdgsCEA=",
          "dtype": "f8"
         },
         "xaxis": "x",
         "y": {
          "bdata": "jz8c8Ph7ckA=",
          "dtype": "f8"
         },
         "yaxis": "y"
        },
        {
         "hovertemplate": "<b>%{hovertext}</b><br><br>common_name=Philippine Crocodile<br>length_m=%{x}<br>weight_kg=%{marker.size}<extra></extra>",
         "hovertext": [
          "Philippine Crocodile"
         ],
         "legendgroup": "Philippine Crocodile",
         "marker": {
          "color": "#00cc96",
          "size": {
           "bdata": "IZ23GNJZTUA=",
           "dtype": "f8"
          },
          "sizemode": "area",
          "sizeref": 1.5866120689655174,
          "symbol": "circle"
         },
         "mode": "markers",
         "name": "Philippine Crocodile",
         "orientation": "v",
         "showlegend": true,
         "type": "scatter",
         "x": {
          "bdata": "iQnR8P52/T8=",
          "dtype": "f8"
         },
         "xaxis": "x",
         "y": {
          "bdata": "IZ23GNJZTUA=",
          "dtype": "f8"
         },
         "yaxis": "y"
        },
        {
         "hovertemplate": "<b>%{hovertext}</b><br><br>common_name=Saltwater Crocodile<br>length_m=%{x}<br>weight_kg=%{marker.size}<extra></extra>",
         "hovertext": [
          "Saltwater Crocodile"
         ],
         "legendgroup": "Saltwater Crocodile",
         "marker": {
          "color": "#ab63fa",
          "size": {
           "bdata": "ipJdmyjVg0A=",
           "dtype": "f8"
          },
          "sizemode": "area",
          "sizeref": 1.5866120689655174,
          "symbol": "circle"
         },
         "mode": "markers",
         "name": "Saltwater Crocodile",
         "orientation": "v",
         "showlegend": true,
         "type": "scatter",
         "x": {
          "bdata": "uBjSeYuhEUA=",
          "dtype": "f8"
         },
         "xaxis": "x",
         "y": {
          "bdata": "ipJdmyjVg0A=",
          "dtype": "f8"
         },
         "yaxis": "y"
        },
        {
         "hovertemplate": "<b>%{hovertext}</b><br><br>common_name=Siamese Crocodile<br>length_m=%{x}<br>weight_kg=%{marker.size}<extra></extra>",
         "hovertext": [
          "Siamese Crocodile"
         ],
         "legendgroup": "Siamese Crocodile",
         "marker": {
          "color": "#FFA15A",
          "size": {
           "bdata": "qcvtDzIUWkA=",
           "dtype": "f8"
          },
          "sizemode": "area",
          "sizeref": 1.5866120689655174,
          "symbol": "circle"
         },
         "mode": "markers",
         "name": "Siamese Crocodile",
         "orientation": "v",
         "showlegend": true,
         "type": "scatter",
         "x": {
          "bdata": "/Dzk8WVAAUA=",
          "dtype": "f8"
         },
         "xaxis": "x",
         "y": {
          "bdata": "qcvtDzIUWkA=",
          "dtype": "f8"
         },
         "yaxis": "y"
        },
        {
         "hovertemplate": "<b>%{hovertext}</b><br><br>common_name=West African Crocodile<br>length_m=%{x}<br>weight_kg=%{marker.size}<extra></extra>",
         "hovertext": [
          "West African Crocodile"
         ],
         "legendgroup": "West African Crocodile",
         "marker": {
          "color": "#19d3f3",
          "size": {
           "bdata": "BD/wAz8oXEA=",
           "dtype": "f8"
          },
          "sizemode": "area",
          "sizeref": 1.5866120689655174,
          "symbol": "circle"
         },
         "mode": "markers",
         "name": "West African Crocodile",
         "orientation": "v",
         "showlegend": true,
         "type": "scatter",
         "x": {
          "bdata": "9EIv9EKvAkA=",
          "dtype": "f8"
         },
         "xaxis": "x",
         "y": {
          "bdata": "BD/wAz8oXEA=",
          "dtype": "f8"
         },
         "yaxis": "y"
        },
        {
         "hovertemplate": "<b>%{hovertext}</b><br><br>common_name=West African Dwarf Crocodile<br>length_m=%{x}<br>weight_kg=%{marker.size}<extra></extra>",
         "hovertext": [
          "West African Dwarf Crocodile"
         ],
         "legendgroup": "West African Dwarf Crocodile",
         "marker": {
          "color": "#FF6692",
          "size": {
           "bdata": "uvCEXK0LLEA=",
           "dtype": "f8"
          },
          "sizemode": "area",
          "sizeref": 1.5866120689655174,
          "symbol": "circle"
         },
         "mode": "markers",
         "name": "West African Dwarf Crocodile",
         "orientation": "v",
         "showlegend": true,
         "type": "scatter",
         "x": {
          "bdata": "nGuZCvXs8T8=",
          "dtype": "f8"
         },
         "xaxis": "x",
         "y": {
          "bdata": "uvCEXK0LLEA=",
          "dtype": "f8"
         },
         "yaxis": "y"
        },
        {
         "hovertemplate": "<b>%{hovertext}</b><br><br>common_name=West African Slender-snouted Crocodile<br>length_m=%{x}<br>weight_kg=%{marker.size}<extra></extra>",
         "hovertext": [
          "West African Slender-snouted Crocodile"
         ],
         "legendgroup": "West African Slender-snouted Crocodile",
         "marker": {
          "color": "#B6E880",
          "size": {
           "bdata": "QZ4S5ClBYEA=",
           "dtype": "f8"
          },
          "sizemode": "area",
          "sizeref": 1.5866120689655174,
          "symbol": "circle"
         },
         "mode": "markers",
         "name": "West African Slender-snouted Crocodile",
         "orientation": "v",
         "showlegend": true,
         "type": "scatter",
         "x": {
          "bdata": "X2ErSenFA0A=",
          "dtype": "f8"
         },
         "xaxis": "x",
         "y": {
          "bdata": "QZ4S5ClBYEA=",
          "dtype": "f8"
         },
         "yaxis": "y"
        }
       ],
       "layout": {
        "legend": {
         "itemsizing": "constant",
         "title": {
          "text": "common_name"
         },
         "tracegroupgap": 0
        },
        "template": {
         "data": {
          "bar": [
           {
            "error_x": {
             "color": "#2a3f5f"
            },
            "error_y": {
             "color": "#2a3f5f"
            },
            "marker": {
             "line": {
              "color": "#E5ECF6",
              "width": 0.5
             },
             "pattern": {
              "fillmode": "overlay",
              "size": 10,
              "solidity": 0.2
             }
            },
            "type": "bar"
           }
          ],
          "barpolar": [
           {
            "marker": {
             "line": {
              "color": "#E5ECF6",
              "width": 0.5
             },
             "pattern": {
              "fillmode": "overlay",
              "size": 10,
              "solidity": 0.2
             }
            },
            "type": "barpolar"
           }
          ],
          "carpet": [
           {
            "aaxis": {
             "endlinecolor": "#2a3f5f",
             "gridcolor": "white",
             "linecolor": "white",
             "minorgridcolor": "white",
             "startlinecolor": "#2a3f5f"
            },
            "baxis": {
             "endlinecolor": "#2a3f5f",
             "gridcolor": "white",
             "linecolor": "white",
             "minorgridcolor": "white",
             "startlinecolor": "#2a3f5f"
            },
            "type": "carpet"
           }
          ],
          "choropleth": [
           {
            "colorbar": {
             "outlinewidth": 0,
             "ticks": ""
            },
            "type": "choropleth"
           }
          ],
          "contour": [
           {
            "colorbar": {
             "outlinewidth": 0,
             "ticks": ""
            },
            "colorscale": [
             [
              0,
              "#0d0887"
             ],
             [
              0.1111111111111111,
              "#46039f"
             ],
             [
              0.2222222222222222,
              "#7201a8"
             ],
             [
              0.3333333333333333,
              "#9c179e"
             ],
             [
              0.4444444444444444,
              "#bd3786"
             ],
             [
              0.5555555555555556,
              "#d8576b"
             ],
             [
              0.6666666666666666,
              "#ed7953"
             ],
             [
              0.7777777777777778,
              "#fb9f3a"
             ],
             [
              0.8888888888888888,
              "#fdca26"
             ],
             [
              1,
              "#f0f921"
             ]
            ],
            "type": "contour"
           }
          ],
          "contourcarpet": [
           {
            "colorbar": {
             "outlinewidth": 0,
             "ticks": ""
            },
            "type": "contourcarpet"
           }
          ],
          "heatmap": [
           {
            "colorbar": {
             "outlinewidth": 0,
             "ticks": ""
            },
            "colorscale": [
             [
              0,
              "#0d0887"
             ],
             [
              0.1111111111111111,
              "#46039f"
             ],
             [
              0.2222222222222222,
              "#7201a8"
             ],
             [
              0.3333333333333333,
              "#9c179e"
             ],
             [
              0.4444444444444444,
              "#bd3786"
             ],
             [
              0.5555555555555556,
              "#d8576b"
             ],
             [
              0.6666666666666666,
              "#ed7953"
             ],
             [
              0.7777777777777778,
              "#fb9f3a"
             ],
             [
              0.8888888888888888,
              "#fdca26"
             ],
             [
              1,
              "#f0f921"
             ]
            ],
            "type": "heatmap"
           }
          ],
          "histogram": [
           {
            "marker": {
             "pattern": {
              "fillmode": "overlay",
              "size": 10,
              "solidity": 0.2
             }
            },
            "type": "histogram"
           }
          ],
          "histogram2d": [
           {
            "colorbar": {
             "outlinewidth": 0,
             "ticks": ""
            },
            "colorscale": [
             [
              0,
              "#0d0887"
             ],
             [
              0.1111111111111111,
              "#46039f"
             ],
             [
              0.2222222222222222,
              "#7201a8"
             ],
             [
              0.3333333333333333,
              "#9c179e"
             ],
             [
              0.4444444444444444,
              "#bd3786"
             ],
             [
              0.5555555555555556,
              "#d8576b"
             ],
             [
              0.6666666666666666,
              "#ed7953"
             ],
             [
              0.7777777777777778,
              "#fb9f3a"
             ],
             [
              0.8888888888888888,
              "#fdca26"
             ],
             [
              1,
              "#f0f921"
             ]
            ],
            "type": "histogram2d"
           }
          ],
          "histogram2dcontour": [
           {
            "colorbar": {
             "outlinewidth": 0,
             "ticks": ""
            },
            "colorscale": [
             [
              0,
              "#0d0887"
             ],
             [
              0.1111111111111111,
              "#46039f"
             ],
             [
              0.2222222222222222,
              "#7201a8"
             ],
             [
              0.3333333333333333,
              "#9c179e"
             ],
             [
              0.4444444444444444,
              "#bd3786"
             ],
             [
              0.5555555555555556,
              "#d8576b"
             ],
             [
              0.6666666666666666,
              "#ed7953"
             ],
             [
              0.7777777777777778,
              "#fb9f3a"
             ],
             [
              0.8888888888888888,
              "#fdca26"
             ],
             [
              1,
              "#f0f921"
             ]
            ],
            "type": "histogram2dcontour"
           }
          ],
          "mesh3d": [
           {
            "colorbar": {
             "outlinewidth": 0,
             "ticks": ""
            },
            "type": "mesh3d"
           }
          ],
          "parcoords": [
           {
            "line": {
             "colorbar": {
              "outlinewidth": 0,
              "ticks": ""
             }
            },
            "type": "parcoords"
           }
          ],
          "pie": [
           {
            "automargin": true,
            "type": "pie"
           }
          ],
          "scatter": [
           {
            "fillpattern": {
             "fillmode": "overlay",
             "size": 10,
             "solidity": 0.2
            },
            "type": "scatter"
           }
          ],
          "scatter3d": [
           {
            "line": {
             "colorbar": {
              "outlinewidth": 0,
              "ticks": ""
             }
            },
            "marker": {
             "colorbar": {
              "outlinewidth": 0,
              "ticks": ""
             }
            },
            "type": "scatter3d"
           }
          ],
          "scattercarpet": [
           {
            "marker": {
             "colorbar": {
              "outlinewidth": 0,
              "ticks": ""
             }
            },
            "type": "scattercarpet"
           }
          ],
          "scattergeo": [
           {
            "marker": {
             "colorbar": {
              "outlinewidth": 0,
              "ticks": ""
             }
            },
            "type": "scattergeo"
           }
          ],
          "scattergl": [
           {
            "marker": {
             "colorbar": {
              "outlinewidth": 0,
              "ticks": ""
             }
            },
            "type": "scattergl"
           }
          ],
          "scattermap": [
           {
            "marker": {
             "colorbar": {
              "outlinewidth": 0,
              "ticks": ""
             }
            },
            "type": "scattermap"
           }
          ],
          "scattermapbox": [
           {
            "marker": {
             "colorbar": {
              "outlinewidth": 0,
              "ticks": ""
             }
            },
            "type": "scattermapbox"
           }
          ],
          "scatterpolar": [
           {
            "marker": {
             "colorbar": {
              "outlinewidth": 0,
              "ticks": ""
             }
            },
            "type": "scatterpolar"
           }
          ],
          "scatterpolargl": [
           {
            "marker": {
             "colorbar": {
              "outlinewidth": 0,
              "ticks": ""
             }
            },
            "type": "scatterpolargl"
           }
          ],
          "scatterternary": [
           {
            "marker": {
             "colorbar": {
              "outlinewidth": 0,
              "ticks": ""
             }
            },
            "type": "scatterternary"
           }
          ],
          "surface": [
           {
            "colorbar": {
             "outlinewidth": 0,
             "ticks": ""
            },
            "colorscale": [
             [
              0,
              "#0d0887"
             ],
             [
              0.1111111111111111,
              "#46039f"
             ],
             [
              0.2222222222222222,
              "#7201a8"
             ],
             [
              0.3333333333333333,
              "#9c179e"
             ],
             [
              0.4444444444444444,
              "#bd3786"
             ],
             [
              0.5555555555555556,
              "#d8576b"
             ],
             [
              0.6666666666666666,
              "#ed7953"
             ],
             [
              0.7777777777777778,
              "#fb9f3a"
             ],
             [
              0.8888888888888888,
              "#fdca26"
             ],
             [
              1,
              "#f0f921"
             ]
            ],
            "type": "surface"
           }
          ],
          "table": [
           {
            "cells": {
             "fill": {
              "color": "#EBF0F8"
             },
             "line": {
              "color": "white"
             }
            },
            "header": {
             "fill": {
              "color": "#C8D4E3"
             },
             "line": {
              "color": "white"
             }
            },
            "type": "table"
           }
          ]
         },
         "layout": {
          "annotationdefaults": {
           "arrowcolor": "#2a3f5f",
           "arrowhead": 0,
           "arrowwidth": 1
          },
          "autotypenumbers": "strict",
          "coloraxis": {
           "colorbar": {
            "outlinewidth": 0,
            "ticks": ""
           }
          },
          "colorscale": {
           "diverging": [
            [
             0,
             "#8e0152"
            ],
            [
             0.1,
             "#c51b7d"
            ],
            [
             0.2,
             "#de77ae"
            ],
            [
             0.3,
             "#f1b6da"
            ],
            [
             0.4,
             "#fde0ef"
            ],
            [
             0.5,
             "#f7f7f7"
            ],
            [
             0.6,
             "#e6f5d0"
            ],
            [
             0.7,
             "#b8e186"
            ],
            [
             0.8,
             "#7fbc41"
            ],
            [
             0.9,
             "#4d9221"
            ],
            [
             1,
             "#276419"
            ]
           ],
           "sequential": [
            [
             0,
             "#0d0887"
            ],
            [
             0.1111111111111111,
             "#46039f"
            ],
            [
             0.2222222222222222,
             "#7201a8"
            ],
            [
             0.3333333333333333,
             "#9c179e"
            ],
            [
             0.4444444444444444,
             "#bd3786"
            ],
            [
             0.5555555555555556,
             "#d8576b"
            ],
            [
             0.6666666666666666,
             "#ed7953"
            ],
            [
             0.7777777777777778,
             "#fb9f3a"
            ],
            [
             0.8888888888888888,
             "#fdca26"
            ],
            [
             1,
             "#f0f921"
            ]
           ],
           "sequentialminus": [
            [
             0,
             "#0d0887"
            ],
            [
             0.1111111111111111,
             "#46039f"
            ],
            [
             0.2222222222222222,
             "#7201a8"
            ],
            [
             0.3333333333333333,
             "#9c179e"
            ],
            [
             0.4444444444444444,
             "#bd3786"
            ],
            [
             0.5555555555555556,
             "#d8576b"
            ],
            [
             0.6666666666666666,
             "#ed7953"
            ],
            [
             0.7777777777777778,
             "#fb9f3a"
            ],
            [
             0.8888888888888888,
             "#fdca26"
            ],
            [
             1,
             "#f0f921"
            ]
           ]
          },
          "colorway": [
           "#636efa",
           "#EF553B",
           "#00cc96",
           "#ab63fa",
           "#FFA15A",
           "#19d3f3",
           "#FF6692",
           "#B6E880",
           "#FF97FF",
           "#FECB52"
          ],
          "font": {
           "color": "#2a3f5f"
          },
          "geo": {
           "bgcolor": "white",
           "lakecolor": "white",
           "landcolor": "#E5ECF6",
           "showlakes": true,
           "showland": true,
           "subunitcolor": "white"
          },
          "hoverlabel": {
           "align": "left"
          },
          "hovermode": "closest",
          "mapbox": {
           "style": "light"
          },
          "paper_bgcolor": "white",
          "plot_bgcolor": "#E5ECF6",
          "polar": {
           "angularaxis": {
            "gridcolor": "white",
            "linecolor": "white",
            "ticks": ""
           },
           "bgcolor": "#E5ECF6",
           "radialaxis": {
            "gridcolor": "white",
            "linecolor": "white",
            "ticks": ""
           }
          },
          "scene": {
           "xaxis": {
            "backgroundcolor": "#E5ECF6",
            "gridcolor": "white",
            "gridwidth": 2,
            "linecolor": "white",
            "showbackground": true,
            "ticks": "",
            "zerolinecolor": "white"
           },
           "yaxis": {
            "backgroundcolor": "#E5ECF6",
            "gridcolor": "white",
            "gridwidth": 2,
            "linecolor": "white",
            "showbackground": true,
            "ticks": "",
            "zerolinecolor": "white"
           },
           "zaxis": {
            "backgroundcolor": "#E5ECF6",
            "gridcolor": "white",
            "gridwidth": 2,
            "linecolor": "white",
            "showbackground": true,
            "ticks": "",
            "zerolinecolor": "white"
           }
          },
          "shapedefaults": {
           "line": {
            "color": "#2a3f5f"
           }
          },
          "ternary": {
           "aaxis": {
            "gridcolor": "white",
            "linecolor": "white",
            "ticks": ""
           },
           "baxis": {
            "gridcolor": "white",
            "linecolor": "white",
            "ticks": ""
           },
           "bgcolor": "#E5ECF6",
           "caxis": {
            "gridcolor": "white",
            "linecolor": "white",
            "ticks": ""
           }
          },
          "title": {
           "x": 0.05
          },
          "xaxis": {
           "automargin": true,
           "gridcolor": "white",
           "linecolor": "white",
           "ticks": "",
           "title": {
            "standoff": 15
           },
           "zerolinecolor": "white",
           "zerolinewidth": 2
          },
          "yaxis": {
           "automargin": true,
           "gridcolor": "white",
           "linecolor": "white",
           "ticks": "",
           "title": {
            "standoff": 15
           },
           "zerolinecolor": "white",
           "zerolinewidth": 2
          }
         }
        },
        "title": {
         "text": "Average Length vs. Weight by Species"
        },
        "xaxis": {
         "anchor": "y",
         "domain": [
          0,
          1
         ],
         "title": {
          "text": "length_m"
         }
        },
        "yaxis": {
         "anchor": "x",
         "domain": [
          0,
          1
         ],
         "title": {
          "text": "weight_kg"
         }
        }
       }
      }
     },
     "metadata": {},
     "output_type": "display_data"
    }
   ],
   "source": [
    "# Group by species and group by average length and weight\n",
    "species_agg = df.groupby(\"common_name\", as_index=False)[[\"length_m\", \"weight_kg\"]].agg(\"mean\").reset_index()\n",
    "\n",
    "# Scatter plot of average length vs. weight for each species\n",
    "fig = px.scatter(\n",
    "    species_agg,\n",
    "    x=\"length_m\",\n",
    "    y=\"weight_kg\",\n",
    "    title=\"Average Length vs. Weight by Species\",\n",
    "    size=\"weight_kg\",\n",
    "    hover_name=\"common_name\",\n",
    "    color=\"common_name\"\n",
    ")\n",
    "\n",
    "fig.show()"
   ]
  },
  {
   "cell_type": "code",
   "execution_count": null,
   "id": "e9d37fbf",
   "metadata": {},
   "outputs": [
    {
     "data": {
      "application/vnd.microsoft.datawrangler.viewer.v0+json": {
       "columns": [
        {
         "name": "index",
         "rawType": "int64",
         "type": "integer"
        },
        {
         "name": "observation_ID",
         "rawType": "int64",
         "type": "integer"
        },
        {
         "name": "common_name",
         "rawType": "object",
         "type": "string"
        },
        {
         "name": "scientific_name",
         "rawType": "object",
         "type": "string"
        },
        {
         "name": "genus",
         "rawType": "object",
         "type": "string"
        },
        {
         "name": "length_m",
         "rawType": "float64",
         "type": "float"
        },
        {
         "name": "weight_kg",
         "rawType": "float64",
         "type": "float"
        },
        {
         "name": "age_class",
         "rawType": "object",
         "type": "string"
        },
        {
         "name": "sex",
         "rawType": "object",
         "type": "string"
        },
        {
         "name": "observation_date",
         "rawType": "datetime64[ns]",
         "type": "datetime"
        },
        {
         "name": "country",
         "rawType": "object",
         "type": "string"
        },
        {
         "name": "habitat_type",
         "rawType": "object",
         "type": "string"
        },
        {
         "name": "conservation_status",
         "rawType": "object",
         "type": "string"
        },
        {
         "name": "observer_name",
         "rawType": "object",
         "type": "string"
        },
        {
         "name": "notes",
         "rawType": "object",
         "type": "string"
        },
        {
         "name": "Weight_diff",
         "rawType": "float64",
         "type": "float"
        }
       ],
       "ref": "6d61ecb9-21f2-4aa3-b0a1-1b57bc62998a",
       "rows": [
        [
         "0",
         "1",
         "Morelet's Crocodile",
         "Crocodylus moreletii",
         "Crocodylus",
         "1.9",
         "62.0",
         "Adult",
         "Male",
         "2018-03-31 00:00:00",
         "Belize",
         "Swamps",
         "Least Concern",
         "Allison Hill",
         "Cause bill scientist nation opportunity.",
         "-22.984375"
        ],
        [
         "1",
         "2",
         "American Crocodile",
         "Crocodylus acutus",
         "Crocodylus",
         "4.09",
         "334.5",
         "Adult",
         "Male",
         "2015-01-28 00:00:00",
         "Venezuela",
         "Mangroves",
         "Vulnerable",
         "Brandon Hall",
         "Ago current practice nation determine operation speak according.",
         "145.5"
        ],
        [
         "2",
         "3",
         "Orinoco Crocodile",
         "Crocodylus intermedius",
         "Crocodylus",
         "1.08",
         "118.2",
         "Juvenile",
         "Unknown",
         "2010-12-07 00:00:00",
         "Venezuela",
         "Flooded Savannas",
         "Critically Endangered",
         "Melissa Peterson",
         "Democratic shake bill here grow gas enough analysis least by two.",
         "-177.54827586206898"
        ],
        [
         "3",
         "4",
         "Morelet's Crocodile",
         "Crocodylus moreletii",
         "Crocodylus",
         "2.42",
         "90.4",
         "Adult",
         "Male",
         "2019-11-01 00:00:00",
         "Mexico",
         "Rivers",
         "Least Concern",
         "Edward Fuller",
         "Officer relate animal direction eye bag do.",
         "5.415625000000006"
        ],
        [
         "4",
         "5",
         "Mugger Crocodile (Marsh Crocodile)",
         "Crocodylus palustris",
         "Crocodylus",
         "3.75",
         "269.4",
         "Adult",
         "Unknown",
         "2019-07-15 00:00:00",
         "India",
         "Rivers",
         "Vulnerable",
         "Donald Reid",
         "Class great prove reduce raise author play move each left establish understand read detail.",
         "108.15744680851063"
        ]
       ],
       "shape": {
        "columns": 15,
        "rows": 5
       }
      },
      "text/html": [
       "<div>\n",
       "<style scoped>\n",
       "    .dataframe tbody tr th:only-of-type {\n",
       "        vertical-align: middle;\n",
       "    }\n",
       "\n",
       "    .dataframe tbody tr th {\n",
       "        vertical-align: top;\n",
       "    }\n",
       "\n",
       "    .dataframe thead th {\n",
       "        text-align: right;\n",
       "    }\n",
       "</style>\n",
       "<table border=\"1\" class=\"dataframe\">\n",
       "  <thead>\n",
       "    <tr style=\"text-align: right;\">\n",
       "      <th></th>\n",
       "      <th>observation_ID</th>\n",
       "      <th>common_name</th>\n",
       "      <th>scientific_name</th>\n",
       "      <th>genus</th>\n",
       "      <th>length_m</th>\n",
       "      <th>weight_kg</th>\n",
       "      <th>age_class</th>\n",
       "      <th>sex</th>\n",
       "      <th>observation_date</th>\n",
       "      <th>country</th>\n",
       "      <th>habitat_type</th>\n",
       "      <th>conservation_status</th>\n",
       "      <th>observer_name</th>\n",
       "      <th>notes</th>\n",
       "      <th>Weight_diff</th>\n",
       "    </tr>\n",
       "  </thead>\n",
       "  <tbody>\n",
       "    <tr>\n",
       "      <th>0</th>\n",
       "      <td>1</td>\n",
       "      <td>Morelet's Crocodile</td>\n",
       "      <td>Crocodylus moreletii</td>\n",
       "      <td>Crocodylus</td>\n",
       "      <td>1.90</td>\n",
       "      <td>62.0</td>\n",
       "      <td>Adult</td>\n",
       "      <td>Male</td>\n",
       "      <td>2018-03-31</td>\n",
       "      <td>Belize</td>\n",
       "      <td>Swamps</td>\n",
       "      <td>Least Concern</td>\n",
       "      <td>Allison Hill</td>\n",
       "      <td>Cause bill scientist nation opportunity.</td>\n",
       "      <td>-22.984375</td>\n",
       "    </tr>\n",
       "    <tr>\n",
       "      <th>1</th>\n",
       "      <td>2</td>\n",
       "      <td>American Crocodile</td>\n",
       "      <td>Crocodylus acutus</td>\n",
       "      <td>Crocodylus</td>\n",
       "      <td>4.09</td>\n",
       "      <td>334.5</td>\n",
       "      <td>Adult</td>\n",
       "      <td>Male</td>\n",
       "      <td>2015-01-28</td>\n",
       "      <td>Venezuela</td>\n",
       "      <td>Mangroves</td>\n",
       "      <td>Vulnerable</td>\n",
       "      <td>Brandon Hall</td>\n",
       "      <td>Ago current practice nation determine operatio...</td>\n",
       "      <td>145.500000</td>\n",
       "    </tr>\n",
       "    <tr>\n",
       "      <th>2</th>\n",
       "      <td>3</td>\n",
       "      <td>Orinoco Crocodile</td>\n",
       "      <td>Crocodylus intermedius</td>\n",
       "      <td>Crocodylus</td>\n",
       "      <td>1.08</td>\n",
       "      <td>118.2</td>\n",
       "      <td>Juvenile</td>\n",
       "      <td>Unknown</td>\n",
       "      <td>2010-12-07</td>\n",
       "      <td>Venezuela</td>\n",
       "      <td>Flooded Savannas</td>\n",
       "      <td>Critically Endangered</td>\n",
       "      <td>Melissa Peterson</td>\n",
       "      <td>Democratic shake bill here grow gas enough ana...</td>\n",
       "      <td>-177.548276</td>\n",
       "    </tr>\n",
       "    <tr>\n",
       "      <th>3</th>\n",
       "      <td>4</td>\n",
       "      <td>Morelet's Crocodile</td>\n",
       "      <td>Crocodylus moreletii</td>\n",
       "      <td>Crocodylus</td>\n",
       "      <td>2.42</td>\n",
       "      <td>90.4</td>\n",
       "      <td>Adult</td>\n",
       "      <td>Male</td>\n",
       "      <td>2019-11-01</td>\n",
       "      <td>Mexico</td>\n",
       "      <td>Rivers</td>\n",
       "      <td>Least Concern</td>\n",
       "      <td>Edward Fuller</td>\n",
       "      <td>Officer relate animal direction eye bag do.</td>\n",
       "      <td>5.415625</td>\n",
       "    </tr>\n",
       "    <tr>\n",
       "      <th>4</th>\n",
       "      <td>5</td>\n",
       "      <td>Mugger Crocodile (Marsh Crocodile)</td>\n",
       "      <td>Crocodylus palustris</td>\n",
       "      <td>Crocodylus</td>\n",
       "      <td>3.75</td>\n",
       "      <td>269.4</td>\n",
       "      <td>Adult</td>\n",
       "      <td>Unknown</td>\n",
       "      <td>2019-07-15</td>\n",
       "      <td>India</td>\n",
       "      <td>Rivers</td>\n",
       "      <td>Vulnerable</td>\n",
       "      <td>Donald Reid</td>\n",
       "      <td>Class great prove reduce raise author play mov...</td>\n",
       "      <td>108.157447</td>\n",
       "    </tr>\n",
       "  </tbody>\n",
       "</table>\n",
       "</div>"
      ],
      "text/plain": [
       "   observation_ID                         common_name         scientific_name  \\\n",
       "0               1                 Morelet's Crocodile    Crocodylus moreletii   \n",
       "1               2                  American Crocodile       Crocodylus acutus   \n",
       "2               3                   Orinoco Crocodile  Crocodylus intermedius   \n",
       "3               4                 Morelet's Crocodile    Crocodylus moreletii   \n",
       "4               5  Mugger Crocodile (Marsh Crocodile)    Crocodylus palustris   \n",
       "\n",
       "        genus  length_m  weight_kg age_class      sex observation_date  \\\n",
       "0  Crocodylus      1.90       62.0     Adult     Male       2018-03-31   \n",
       "1  Crocodylus      4.09      334.5     Adult     Male       2015-01-28   \n",
       "2  Crocodylus      1.08      118.2  Juvenile  Unknown       2010-12-07   \n",
       "3  Crocodylus      2.42       90.4     Adult     Male       2019-11-01   \n",
       "4  Crocodylus      3.75      269.4     Adult  Unknown       2019-07-15   \n",
       "\n",
       "     country      habitat_type    conservation_status     observer_name  \\\n",
       "0     Belize            Swamps          Least Concern      Allison Hill   \n",
       "1  Venezuela         Mangroves             Vulnerable      Brandon Hall   \n",
       "2  Venezuela  Flooded Savannas  Critically Endangered  Melissa Peterson   \n",
       "3     Mexico            Rivers          Least Concern     Edward Fuller   \n",
       "4      India            Rivers             Vulnerable       Donald Reid   \n",
       "\n",
       "                                               notes  Weight_diff  \n",
       "0           Cause bill scientist nation opportunity.   -22.984375  \n",
       "1  Ago current practice nation determine operatio...   145.500000  \n",
       "2  Democratic shake bill here grow gas enough ana...  -177.548276  \n",
       "3        Officer relate animal direction eye bag do.     5.415625  \n",
       "4  Class great prove reduce raise author play mov...   108.157447  "
      ]
     },
     "metadata": {},
     "output_type": "display_data"
    }
   ],
   "source": [
    "# Create a new column that calculates the difference between each crocodile's weight and the average weight of its species\n",
    "df[\"Weight_diff\"] = (\n",
    "    df[\"weight_kg\"] - df.groupby(\"common_name\")[\"weight_kg\"].transform(\"mean\")\n",
    ")\n",
    "\n",
    "display(df.head())"
   ]
  },
  {
   "cell_type": "code",
   "execution_count": null,
   "id": "0cd21eb6",
   "metadata": {},
   "outputs": [
    {
     "name": "stderr",
     "output_type": "stream",
     "text": [
      "/var/folders/8d/cbtkm7jj6zx2f7tj9clxr4w00000gn/T/ipykernel_7963/1759007886.py:7: FutureWarning:\n",
      "\n",
      "DataFrameGroupBy.apply operated on the grouping columns. This behavior is deprecated, and in a future version of pandas the grouping columns will be excluded from the operation. Either pass `include_groups=False` to exclude the groupings or explicitly select the grouping columns after groupby to silence this warning.\n",
      "\n"
     ]
    },
    {
     "data": {
      "application/vnd.microsoft.datawrangler.viewer.v0+json": {
       "columns": [
        {
         "name": "index",
         "rawType": "int64",
         "type": "integer"
        },
        {
         "name": "common_name",
         "rawType": "object",
         "type": "string"
        },
        {
         "name": "primary_habitat",
         "rawType": "object",
         "type": "string"
        }
       ],
       "ref": "0bf93491-6c38-4570-9ed2-fefec31b99bf",
       "rows": [
        [
         "0",
         "American Crocodile",
         "Mangroves"
        ],
        [
         "1",
         "Borneo Crocodile (disputed)",
         "Estuarine Systems"
        ],
        [
         "2",
         "Central African Slender-snouted Crocodile",
         "Forest Rivers"
        ],
        [
         "3",
         "Congo Dwarf Crocodile",
         "Forest Swamps"
        ],
        [
         "4",
         "Cuban Crocodile",
         "Swamps"
        ],
        [
         "5",
         "Freshwater Crocodile (Johnstone's)",
         "Billabongs"
        ],
        [
         "6",
         "Hall's New Guinea Crocodile",
         "Freshwater Wetlands"
        ],
        [
         "7",
         "Morelet's Crocodile",
         "Rivers"
        ],
        [
         "8",
         "Mugger Crocodile (Marsh Crocodile)",
         "Reservoirs"
        ],
        [
         "9",
         "New Guinea Crocodile",
         "Swamps"
        ],
        [
         "10",
         "Nile Crocodile",
         "Marshes"
        ],
        [
         "11",
         "Orinoco Crocodile",
         "Flooded Savannas"
        ],
        [
         "12",
         "Philippine Crocodile",
         "Freshwater Marshes"
        ],
        [
         "13",
         "Saltwater Crocodile",
         "Estuaries"
        ],
        [
         "14",
         "Siamese Crocodile",
         "Swamps"
        ],
        [
         "15",
         "West African Crocodile",
         "Lakes"
        ],
        [
         "16",
         "West African Dwarf Crocodile",
         "Forest Swamps"
        ],
        [
         "17",
         "West African Slender-snouted Crocodile",
         "Shaded Forest Rivers"
        ]
       ],
       "shape": {
        "columns": 2,
        "rows": 18
       }
      },
      "text/html": [
       "<div>\n",
       "<style scoped>\n",
       "    .dataframe tbody tr th:only-of-type {\n",
       "        vertical-align: middle;\n",
       "    }\n",
       "\n",
       "    .dataframe tbody tr th {\n",
       "        vertical-align: top;\n",
       "    }\n",
       "\n",
       "    .dataframe thead th {\n",
       "        text-align: right;\n",
       "    }\n",
       "</style>\n",
       "<table border=\"1\" class=\"dataframe\">\n",
       "  <thead>\n",
       "    <tr style=\"text-align: right;\">\n",
       "      <th></th>\n",
       "      <th>common_name</th>\n",
       "      <th>primary_habitat</th>\n",
       "    </tr>\n",
       "  </thead>\n",
       "  <tbody>\n",
       "    <tr>\n",
       "      <th>0</th>\n",
       "      <td>American Crocodile</td>\n",
       "      <td>Mangroves</td>\n",
       "    </tr>\n",
       "    <tr>\n",
       "      <th>1</th>\n",
       "      <td>Borneo Crocodile (disputed)</td>\n",
       "      <td>Estuarine Systems</td>\n",
       "    </tr>\n",
       "    <tr>\n",
       "      <th>2</th>\n",
       "      <td>Central African Slender-snouted Crocodile</td>\n",
       "      <td>Forest Rivers</td>\n",
       "    </tr>\n",
       "    <tr>\n",
       "      <th>3</th>\n",
       "      <td>Congo Dwarf Crocodile</td>\n",
       "      <td>Forest Swamps</td>\n",
       "    </tr>\n",
       "    <tr>\n",
       "      <th>4</th>\n",
       "      <td>Cuban Crocodile</td>\n",
       "      <td>Swamps</td>\n",
       "    </tr>\n",
       "    <tr>\n",
       "      <th>5</th>\n",
       "      <td>Freshwater Crocodile (Johnstone's)</td>\n",
       "      <td>Billabongs</td>\n",
       "    </tr>\n",
       "    <tr>\n",
       "      <th>6</th>\n",
       "      <td>Hall's New Guinea Crocodile</td>\n",
       "      <td>Freshwater Wetlands</td>\n",
       "    </tr>\n",
       "    <tr>\n",
       "      <th>7</th>\n",
       "      <td>Morelet's Crocodile</td>\n",
       "      <td>Rivers</td>\n",
       "    </tr>\n",
       "    <tr>\n",
       "      <th>8</th>\n",
       "      <td>Mugger Crocodile (Marsh Crocodile)</td>\n",
       "      <td>Reservoirs</td>\n",
       "    </tr>\n",
       "    <tr>\n",
       "      <th>9</th>\n",
       "      <td>New Guinea Crocodile</td>\n",
       "      <td>Swamps</td>\n",
       "    </tr>\n",
       "    <tr>\n",
       "      <th>10</th>\n",
       "      <td>Nile Crocodile</td>\n",
       "      <td>Marshes</td>\n",
       "    </tr>\n",
       "    <tr>\n",
       "      <th>11</th>\n",
       "      <td>Orinoco Crocodile</td>\n",
       "      <td>Flooded Savannas</td>\n",
       "    </tr>\n",
       "    <tr>\n",
       "      <th>12</th>\n",
       "      <td>Philippine Crocodile</td>\n",
       "      <td>Freshwater Marshes</td>\n",
       "    </tr>\n",
       "    <tr>\n",
       "      <th>13</th>\n",
       "      <td>Saltwater Crocodile</td>\n",
       "      <td>Estuaries</td>\n",
       "    </tr>\n",
       "    <tr>\n",
       "      <th>14</th>\n",
       "      <td>Siamese Crocodile</td>\n",
       "      <td>Swamps</td>\n",
       "    </tr>\n",
       "    <tr>\n",
       "      <th>15</th>\n",
       "      <td>West African Crocodile</td>\n",
       "      <td>Lakes</td>\n",
       "    </tr>\n",
       "    <tr>\n",
       "      <th>16</th>\n",
       "      <td>West African Dwarf Crocodile</td>\n",
       "      <td>Forest Swamps</td>\n",
       "    </tr>\n",
       "    <tr>\n",
       "      <th>17</th>\n",
       "      <td>West African Slender-snouted Crocodile</td>\n",
       "      <td>Shaded Forest Rivers</td>\n",
       "    </tr>\n",
       "  </tbody>\n",
       "</table>\n",
       "</div>"
      ],
      "text/plain": [
       "                                  common_name       primary_habitat\n",
       "0                          American Crocodile             Mangroves\n",
       "1                 Borneo Crocodile (disputed)     Estuarine Systems\n",
       "2   Central African Slender-snouted Crocodile         Forest Rivers\n",
       "3                       Congo Dwarf Crocodile         Forest Swamps\n",
       "4                             Cuban Crocodile                Swamps\n",
       "5          Freshwater Crocodile (Johnstone's)            Billabongs\n",
       "6                 Hall's New Guinea Crocodile   Freshwater Wetlands\n",
       "7                         Morelet's Crocodile                Rivers\n",
       "8          Mugger Crocodile (Marsh Crocodile)            Reservoirs\n",
       "9                        New Guinea Crocodile                Swamps\n",
       "10                             Nile Crocodile               Marshes\n",
       "11                          Orinoco Crocodile      Flooded Savannas\n",
       "12                       Philippine Crocodile    Freshwater Marshes\n",
       "13                        Saltwater Crocodile             Estuaries\n",
       "14                          Siamese Crocodile                Swamps\n",
       "15                     West African Crocodile                 Lakes\n",
       "16               West African Dwarf Crocodile         Forest Swamps\n",
       "17     West African Slender-snouted Crocodile  Shaded Forest Rivers"
      ]
     },
     "execution_count": 17,
     "metadata": {},
     "output_type": "execute_result"
    }
   ],
   "source": [
    "# function to extract the mode for each species\n",
    "def top_habitat(group):\n",
    "    m = group[\"habitat_type\"].mode(dropna=True)\n",
    "    return m.iloc[0]\n",
    "\n",
    "species_habitat = (\n",
    "    df.groupby(\"common_name\")\n",
    "      .apply(top_habitat)\n",
    "      .reset_index(name=\"primary_habitat\")\n",
    ")\n",
    "\n",
    "species_habitat"
   ]
  },
  {
   "cell_type": "code",
   "execution_count": null,
   "id": "39a28aee",
   "metadata": {},
   "outputs": [
    {
     "data": {
      "application/vnd.microsoft.datawrangler.viewer.v0+json": {
       "columns": [
        {
         "name": "index",
         "rawType": "int64",
         "type": "integer"
        },
        {
         "name": "year",
         "rawType": "int32",
         "type": "integer"
        },
        {
         "name": "count",
         "rawType": "int64",
         "type": "integer"
        }
       ],
       "ref": "525a371a-587b-404a-b7c6-398ad194f84c",
       "rows": [
        [
         "0",
         "2005",
         "42"
        ],
        [
         "1",
         "2006",
         "40"
        ],
        [
         "2",
         "2007",
         "52"
        ],
        [
         "3",
         "2008",
         "50"
        ],
        [
         "4",
         "2009",
         "42"
        ],
        [
         "5",
         "2010",
         "47"
        ],
        [
         "6",
         "2011",
         "52"
        ],
        [
         "7",
         "2012",
         "56"
        ],
        [
         "8",
         "2013",
         "49"
        ],
        [
         "9",
         "2014",
         "44"
        ],
        [
         "10",
         "2015",
         "45"
        ],
        [
         "11",
         "2016",
         "40"
        ],
        [
         "12",
         "2017",
         "55"
        ],
        [
         "13",
         "2018",
         "51"
        ],
        [
         "14",
         "2019",
         "53"
        ],
        [
         "15",
         "2020",
         "60"
        ],
        [
         "16",
         "2021",
         "48"
        ],
        [
         "17",
         "2022",
         "48"
        ],
        [
         "18",
         "2023",
         "45"
        ],
        [
         "19",
         "2024",
         "37"
        ],
        [
         "20",
         "2025",
         "44"
        ]
       ],
       "shape": {
        "columns": 2,
        "rows": 21
       }
      },
      "text/html": [
       "<div>\n",
       "<style scoped>\n",
       "    .dataframe tbody tr th:only-of-type {\n",
       "        vertical-align: middle;\n",
       "    }\n",
       "\n",
       "    .dataframe tbody tr th {\n",
       "        vertical-align: top;\n",
       "    }\n",
       "\n",
       "    .dataframe thead th {\n",
       "        text-align: right;\n",
       "    }\n",
       "</style>\n",
       "<table border=\"1\" class=\"dataframe\">\n",
       "  <thead>\n",
       "    <tr style=\"text-align: right;\">\n",
       "      <th></th>\n",
       "      <th>year</th>\n",
       "      <th>count</th>\n",
       "    </tr>\n",
       "  </thead>\n",
       "  <tbody>\n",
       "    <tr>\n",
       "      <th>0</th>\n",
       "      <td>2005</td>\n",
       "      <td>42</td>\n",
       "    </tr>\n",
       "    <tr>\n",
       "      <th>1</th>\n",
       "      <td>2006</td>\n",
       "      <td>40</td>\n",
       "    </tr>\n",
       "    <tr>\n",
       "      <th>2</th>\n",
       "      <td>2007</td>\n",
       "      <td>52</td>\n",
       "    </tr>\n",
       "    <tr>\n",
       "      <th>3</th>\n",
       "      <td>2008</td>\n",
       "      <td>50</td>\n",
       "    </tr>\n",
       "    <tr>\n",
       "      <th>4</th>\n",
       "      <td>2009</td>\n",
       "      <td>42</td>\n",
       "    </tr>\n",
       "    <tr>\n",
       "      <th>5</th>\n",
       "      <td>2010</td>\n",
       "      <td>47</td>\n",
       "    </tr>\n",
       "    <tr>\n",
       "      <th>6</th>\n",
       "      <td>2011</td>\n",
       "      <td>52</td>\n",
       "    </tr>\n",
       "    <tr>\n",
       "      <th>7</th>\n",
       "      <td>2012</td>\n",
       "      <td>56</td>\n",
       "    </tr>\n",
       "    <tr>\n",
       "      <th>8</th>\n",
       "      <td>2013</td>\n",
       "      <td>49</td>\n",
       "    </tr>\n",
       "    <tr>\n",
       "      <th>9</th>\n",
       "      <td>2014</td>\n",
       "      <td>44</td>\n",
       "    </tr>\n",
       "    <tr>\n",
       "      <th>10</th>\n",
       "      <td>2015</td>\n",
       "      <td>45</td>\n",
       "    </tr>\n",
       "    <tr>\n",
       "      <th>11</th>\n",
       "      <td>2016</td>\n",
       "      <td>40</td>\n",
       "    </tr>\n",
       "    <tr>\n",
       "      <th>12</th>\n",
       "      <td>2017</td>\n",
       "      <td>55</td>\n",
       "    </tr>\n",
       "    <tr>\n",
       "      <th>13</th>\n",
       "      <td>2018</td>\n",
       "      <td>51</td>\n",
       "    </tr>\n",
       "    <tr>\n",
       "      <th>14</th>\n",
       "      <td>2019</td>\n",
       "      <td>53</td>\n",
       "    </tr>\n",
       "    <tr>\n",
       "      <th>15</th>\n",
       "      <td>2020</td>\n",
       "      <td>60</td>\n",
       "    </tr>\n",
       "    <tr>\n",
       "      <th>16</th>\n",
       "      <td>2021</td>\n",
       "      <td>48</td>\n",
       "    </tr>\n",
       "    <tr>\n",
       "      <th>17</th>\n",
       "      <td>2022</td>\n",
       "      <td>48</td>\n",
       "    </tr>\n",
       "    <tr>\n",
       "      <th>18</th>\n",
       "      <td>2023</td>\n",
       "      <td>45</td>\n",
       "    </tr>\n",
       "    <tr>\n",
       "      <th>19</th>\n",
       "      <td>2024</td>\n",
       "      <td>37</td>\n",
       "    </tr>\n",
       "    <tr>\n",
       "      <th>20</th>\n",
       "      <td>2025</td>\n",
       "      <td>44</td>\n",
       "    </tr>\n",
       "  </tbody>\n",
       "</table>\n",
       "</div>"
      ],
      "text/plain": [
       "    year  count\n",
       "0   2005     42\n",
       "1   2006     40\n",
       "2   2007     52\n",
       "3   2008     50\n",
       "4   2009     42\n",
       "5   2010     47\n",
       "6   2011     52\n",
       "7   2012     56\n",
       "8   2013     49\n",
       "9   2014     44\n",
       "10  2015     45\n",
       "11  2016     40\n",
       "12  2017     55\n",
       "13  2018     51\n",
       "14  2019     53\n",
       "15  2020     60\n",
       "16  2021     48\n",
       "17  2022     48\n",
       "18  2023     45\n",
       "19  2024     37\n",
       "20  2025     44"
      ]
     },
     "metadata": {},
     "output_type": "display_data"
    }
   ],
   "source": [
    "df[\"year\"] = df[\"observation_date\"].dt.year # Extract year from observation_date and create a new column\n",
    "\n",
    "obs_per_year = df.groupby(\"year\").size().reset_index(name=\"count\") # Count number of observations per year\n",
    "\n",
    "display(obs_per_year)"
   ]
  },
  {
   "cell_type": "code",
   "execution_count": null,
   "id": "e17af052",
   "metadata": {},
   "outputs": [
    {
     "data": {
      "application/vnd.plotly.v1+json": {
       "config": {
        "plotlyServerURL": "https://plot.ly"
       },
       "data": [
        {
         "hovertemplate": "year=%{x}<br>count=%{y}<extra></extra>",
         "legendgroup": "",
         "line": {
          "color": "#636efa",
          "dash": "solid"
         },
         "marker": {
          "symbol": "circle"
         },
         "mode": "lines+markers",
         "name": "",
         "orientation": "v",
         "showlegend": false,
         "type": "scatter",
         "x": {
          "bdata": "1QcAANYHAADXBwAA2AcAANkHAADaBwAA2wcAANwHAADdBwAA3gcAAN8HAADgBwAA4QcAAOIHAADjBwAA5AcAAOUHAADmBwAA5wcAAOgHAADpBwAA",
          "dtype": "i4"
         },
         "xaxis": "x",
         "y": {
          "bdata": "Kig0MiovNDgxLC0oNzM1PDAwLSUs",
          "dtype": "i1"
         },
         "yaxis": "y"
        }
       ],
       "layout": {
        "legend": {
         "tracegroupgap": 0
        },
        "template": {
         "data": {
          "bar": [
           {
            "error_x": {
             "color": "#2a3f5f"
            },
            "error_y": {
             "color": "#2a3f5f"
            },
            "marker": {
             "line": {
              "color": "#E5ECF6",
              "width": 0.5
             },
             "pattern": {
              "fillmode": "overlay",
              "size": 10,
              "solidity": 0.2
             }
            },
            "type": "bar"
           }
          ],
          "barpolar": [
           {
            "marker": {
             "line": {
              "color": "#E5ECF6",
              "width": 0.5
             },
             "pattern": {
              "fillmode": "overlay",
              "size": 10,
              "solidity": 0.2
             }
            },
            "type": "barpolar"
           }
          ],
          "carpet": [
           {
            "aaxis": {
             "endlinecolor": "#2a3f5f",
             "gridcolor": "white",
             "linecolor": "white",
             "minorgridcolor": "white",
             "startlinecolor": "#2a3f5f"
            },
            "baxis": {
             "endlinecolor": "#2a3f5f",
             "gridcolor": "white",
             "linecolor": "white",
             "minorgridcolor": "white",
             "startlinecolor": "#2a3f5f"
            },
            "type": "carpet"
           }
          ],
          "choropleth": [
           {
            "colorbar": {
             "outlinewidth": 0,
             "ticks": ""
            },
            "type": "choropleth"
           }
          ],
          "contour": [
           {
            "colorbar": {
             "outlinewidth": 0,
             "ticks": ""
            },
            "colorscale": [
             [
              0,
              "#0d0887"
             ],
             [
              0.1111111111111111,
              "#46039f"
             ],
             [
              0.2222222222222222,
              "#7201a8"
             ],
             [
              0.3333333333333333,
              "#9c179e"
             ],
             [
              0.4444444444444444,
              "#bd3786"
             ],
             [
              0.5555555555555556,
              "#d8576b"
             ],
             [
              0.6666666666666666,
              "#ed7953"
             ],
             [
              0.7777777777777778,
              "#fb9f3a"
             ],
             [
              0.8888888888888888,
              "#fdca26"
             ],
             [
              1,
              "#f0f921"
             ]
            ],
            "type": "contour"
           }
          ],
          "contourcarpet": [
           {
            "colorbar": {
             "outlinewidth": 0,
             "ticks": ""
            },
            "type": "contourcarpet"
           }
          ],
          "heatmap": [
           {
            "colorbar": {
             "outlinewidth": 0,
             "ticks": ""
            },
            "colorscale": [
             [
              0,
              "#0d0887"
             ],
             [
              0.1111111111111111,
              "#46039f"
             ],
             [
              0.2222222222222222,
              "#7201a8"
             ],
             [
              0.3333333333333333,
              "#9c179e"
             ],
             [
              0.4444444444444444,
              "#bd3786"
             ],
             [
              0.5555555555555556,
              "#d8576b"
             ],
             [
              0.6666666666666666,
              "#ed7953"
             ],
             [
              0.7777777777777778,
              "#fb9f3a"
             ],
             [
              0.8888888888888888,
              "#fdca26"
             ],
             [
              1,
              "#f0f921"
             ]
            ],
            "type": "heatmap"
           }
          ],
          "histogram": [
           {
            "marker": {
             "pattern": {
              "fillmode": "overlay",
              "size": 10,
              "solidity": 0.2
             }
            },
            "type": "histogram"
           }
          ],
          "histogram2d": [
           {
            "colorbar": {
             "outlinewidth": 0,
             "ticks": ""
            },
            "colorscale": [
             [
              0,
              "#0d0887"
             ],
             [
              0.1111111111111111,
              "#46039f"
             ],
             [
              0.2222222222222222,
              "#7201a8"
             ],
             [
              0.3333333333333333,
              "#9c179e"
             ],
             [
              0.4444444444444444,
              "#bd3786"
             ],
             [
              0.5555555555555556,
              "#d8576b"
             ],
             [
              0.6666666666666666,
              "#ed7953"
             ],
             [
              0.7777777777777778,
              "#fb9f3a"
             ],
             [
              0.8888888888888888,
              "#fdca26"
             ],
             [
              1,
              "#f0f921"
             ]
            ],
            "type": "histogram2d"
           }
          ],
          "histogram2dcontour": [
           {
            "colorbar": {
             "outlinewidth": 0,
             "ticks": ""
            },
            "colorscale": [
             [
              0,
              "#0d0887"
             ],
             [
              0.1111111111111111,
              "#46039f"
             ],
             [
              0.2222222222222222,
              "#7201a8"
             ],
             [
              0.3333333333333333,
              "#9c179e"
             ],
             [
              0.4444444444444444,
              "#bd3786"
             ],
             [
              0.5555555555555556,
              "#d8576b"
             ],
             [
              0.6666666666666666,
              "#ed7953"
             ],
             [
              0.7777777777777778,
              "#fb9f3a"
             ],
             [
              0.8888888888888888,
              "#fdca26"
             ],
             [
              1,
              "#f0f921"
             ]
            ],
            "type": "histogram2dcontour"
           }
          ],
          "mesh3d": [
           {
            "colorbar": {
             "outlinewidth": 0,
             "ticks": ""
            },
            "type": "mesh3d"
           }
          ],
          "parcoords": [
           {
            "line": {
             "colorbar": {
              "outlinewidth": 0,
              "ticks": ""
             }
            },
            "type": "parcoords"
           }
          ],
          "pie": [
           {
            "automargin": true,
            "type": "pie"
           }
          ],
          "scatter": [
           {
            "fillpattern": {
             "fillmode": "overlay",
             "size": 10,
             "solidity": 0.2
            },
            "type": "scatter"
           }
          ],
          "scatter3d": [
           {
            "line": {
             "colorbar": {
              "outlinewidth": 0,
              "ticks": ""
             }
            },
            "marker": {
             "colorbar": {
              "outlinewidth": 0,
              "ticks": ""
             }
            },
            "type": "scatter3d"
           }
          ],
          "scattercarpet": [
           {
            "marker": {
             "colorbar": {
              "outlinewidth": 0,
              "ticks": ""
             }
            },
            "type": "scattercarpet"
           }
          ],
          "scattergeo": [
           {
            "marker": {
             "colorbar": {
              "outlinewidth": 0,
              "ticks": ""
             }
            },
            "type": "scattergeo"
           }
          ],
          "scattergl": [
           {
            "marker": {
             "colorbar": {
              "outlinewidth": 0,
              "ticks": ""
             }
            },
            "type": "scattergl"
           }
          ],
          "scattermap": [
           {
            "marker": {
             "colorbar": {
              "outlinewidth": 0,
              "ticks": ""
             }
            },
            "type": "scattermap"
           }
          ],
          "scattermapbox": [
           {
            "marker": {
             "colorbar": {
              "outlinewidth": 0,
              "ticks": ""
             }
            },
            "type": "scattermapbox"
           }
          ],
          "scatterpolar": [
           {
            "marker": {
             "colorbar": {
              "outlinewidth": 0,
              "ticks": ""
             }
            },
            "type": "scatterpolar"
           }
          ],
          "scatterpolargl": [
           {
            "marker": {
             "colorbar": {
              "outlinewidth": 0,
              "ticks": ""
             }
            },
            "type": "scatterpolargl"
           }
          ],
          "scatterternary": [
           {
            "marker": {
             "colorbar": {
              "outlinewidth": 0,
              "ticks": ""
             }
            },
            "type": "scatterternary"
           }
          ],
          "surface": [
           {
            "colorbar": {
             "outlinewidth": 0,
             "ticks": ""
            },
            "colorscale": [
             [
              0,
              "#0d0887"
             ],
             [
              0.1111111111111111,
              "#46039f"
             ],
             [
              0.2222222222222222,
              "#7201a8"
             ],
             [
              0.3333333333333333,
              "#9c179e"
             ],
             [
              0.4444444444444444,
              "#bd3786"
             ],
             [
              0.5555555555555556,
              "#d8576b"
             ],
             [
              0.6666666666666666,
              "#ed7953"
             ],
             [
              0.7777777777777778,
              "#fb9f3a"
             ],
             [
              0.8888888888888888,
              "#fdca26"
             ],
             [
              1,
              "#f0f921"
             ]
            ],
            "type": "surface"
           }
          ],
          "table": [
           {
            "cells": {
             "fill": {
              "color": "#EBF0F8"
             },
             "line": {
              "color": "white"
             }
            },
            "header": {
             "fill": {
              "color": "#C8D4E3"
             },
             "line": {
              "color": "white"
             }
            },
            "type": "table"
           }
          ]
         },
         "layout": {
          "annotationdefaults": {
           "arrowcolor": "#2a3f5f",
           "arrowhead": 0,
           "arrowwidth": 1
          },
          "autotypenumbers": "strict",
          "coloraxis": {
           "colorbar": {
            "outlinewidth": 0,
            "ticks": ""
           }
          },
          "colorscale": {
           "diverging": [
            [
             0,
             "#8e0152"
            ],
            [
             0.1,
             "#c51b7d"
            ],
            [
             0.2,
             "#de77ae"
            ],
            [
             0.3,
             "#f1b6da"
            ],
            [
             0.4,
             "#fde0ef"
            ],
            [
             0.5,
             "#f7f7f7"
            ],
            [
             0.6,
             "#e6f5d0"
            ],
            [
             0.7,
             "#b8e186"
            ],
            [
             0.8,
             "#7fbc41"
            ],
            [
             0.9,
             "#4d9221"
            ],
            [
             1,
             "#276419"
            ]
           ],
           "sequential": [
            [
             0,
             "#0d0887"
            ],
            [
             0.1111111111111111,
             "#46039f"
            ],
            [
             0.2222222222222222,
             "#7201a8"
            ],
            [
             0.3333333333333333,
             "#9c179e"
            ],
            [
             0.4444444444444444,
             "#bd3786"
            ],
            [
             0.5555555555555556,
             "#d8576b"
            ],
            [
             0.6666666666666666,
             "#ed7953"
            ],
            [
             0.7777777777777778,
             "#fb9f3a"
            ],
            [
             0.8888888888888888,
             "#fdca26"
            ],
            [
             1,
             "#f0f921"
            ]
           ],
           "sequentialminus": [
            [
             0,
             "#0d0887"
            ],
            [
             0.1111111111111111,
             "#46039f"
            ],
            [
             0.2222222222222222,
             "#7201a8"
            ],
            [
             0.3333333333333333,
             "#9c179e"
            ],
            [
             0.4444444444444444,
             "#bd3786"
            ],
            [
             0.5555555555555556,
             "#d8576b"
            ],
            [
             0.6666666666666666,
             "#ed7953"
            ],
            [
             0.7777777777777778,
             "#fb9f3a"
            ],
            [
             0.8888888888888888,
             "#fdca26"
            ],
            [
             1,
             "#f0f921"
            ]
           ]
          },
          "colorway": [
           "#636efa",
           "#EF553B",
           "#00cc96",
           "#ab63fa",
           "#FFA15A",
           "#19d3f3",
           "#FF6692",
           "#B6E880",
           "#FF97FF",
           "#FECB52"
          ],
          "font": {
           "color": "#2a3f5f"
          },
          "geo": {
           "bgcolor": "white",
           "lakecolor": "white",
           "landcolor": "#E5ECF6",
           "showlakes": true,
           "showland": true,
           "subunitcolor": "white"
          },
          "hoverlabel": {
           "align": "left"
          },
          "hovermode": "closest",
          "mapbox": {
           "style": "light"
          },
          "paper_bgcolor": "white",
          "plot_bgcolor": "#E5ECF6",
          "polar": {
           "angularaxis": {
            "gridcolor": "white",
            "linecolor": "white",
            "ticks": ""
           },
           "bgcolor": "#E5ECF6",
           "radialaxis": {
            "gridcolor": "white",
            "linecolor": "white",
            "ticks": ""
           }
          },
          "scene": {
           "xaxis": {
            "backgroundcolor": "#E5ECF6",
            "gridcolor": "white",
            "gridwidth": 2,
            "linecolor": "white",
            "showbackground": true,
            "ticks": "",
            "zerolinecolor": "white"
           },
           "yaxis": {
            "backgroundcolor": "#E5ECF6",
            "gridcolor": "white",
            "gridwidth": 2,
            "linecolor": "white",
            "showbackground": true,
            "ticks": "",
            "zerolinecolor": "white"
           },
           "zaxis": {
            "backgroundcolor": "#E5ECF6",
            "gridcolor": "white",
            "gridwidth": 2,
            "linecolor": "white",
            "showbackground": true,
            "ticks": "",
            "zerolinecolor": "white"
           }
          },
          "shapedefaults": {
           "line": {
            "color": "#2a3f5f"
           }
          },
          "ternary": {
           "aaxis": {
            "gridcolor": "white",
            "linecolor": "white",
            "ticks": ""
           },
           "baxis": {
            "gridcolor": "white",
            "linecolor": "white",
            "ticks": ""
           },
           "bgcolor": "#E5ECF6",
           "caxis": {
            "gridcolor": "white",
            "linecolor": "white",
            "ticks": ""
           }
          },
          "title": {
           "x": 0.05
          },
          "xaxis": {
           "automargin": true,
           "gridcolor": "white",
           "linecolor": "white",
           "ticks": "",
           "title": {
            "standoff": 15
           },
           "zerolinecolor": "white",
           "zerolinewidth": 2
          },
          "yaxis": {
           "automargin": true,
           "gridcolor": "white",
           "linecolor": "white",
           "ticks": "",
           "title": {
            "standoff": 15
           },
           "zerolinecolor": "white",
           "zerolinewidth": 2
          }
         }
        },
        "title": {
         "text": "Number of Crocodile Observations per Year"
        },
        "xaxis": {
         "anchor": "y",
         "domain": [
          0,
          1
         ],
         "title": {
          "text": "year"
         }
        },
        "yaxis": {
         "anchor": "x",
         "domain": [
          0,
          1
         ],
         "title": {
          "text": "count"
         }
        }
       }
      }
     },
     "metadata": {},
     "output_type": "display_data"
    }
   ],
   "source": [
    "# Line chart of number of crocodile observations per year\n",
    "fig = px.line(\n",
    "    obs_per_year,\n",
    "    x=\"year\", y=\"count\",\n",
    "    title=\"Number of Crocodile Observations per Year\",\n",
    "    markers=True\n",
    ")\n",
    "fig.show()"
   ]
  },
  {
   "cell_type": "code",
   "execution_count": null,
   "id": "ac14eee4",
   "metadata": {},
   "outputs": [
    {
     "data": {
      "application/vnd.microsoft.datawrangler.viewer.v0+json": {
       "columns": [
        {
         "name": "index",
         "rawType": "int64",
         "type": "integer"
        },
        {
         "name": "observation_ID",
         "rawType": "int64",
         "type": "integer"
        },
        {
         "name": "common_name",
         "rawType": "object",
         "type": "string"
        },
        {
         "name": "scientific_name",
         "rawType": "object",
         "type": "string"
        },
        {
         "name": "genus",
         "rawType": "object",
         "type": "string"
        },
        {
         "name": "length_m",
         "rawType": "float64",
         "type": "float"
        },
        {
         "name": "weight_kg",
         "rawType": "float64",
         "type": "float"
        },
        {
         "name": "age_class",
         "rawType": "object",
         "type": "string"
        },
        {
         "name": "sex",
         "rawType": "object",
         "type": "string"
        },
        {
         "name": "observation_date",
         "rawType": "datetime64[ns]",
         "type": "datetime"
        },
        {
         "name": "country",
         "rawType": "object",
         "type": "string"
        },
        {
         "name": "habitat_type",
         "rawType": "object",
         "type": "string"
        },
        {
         "name": "conservation_status",
         "rawType": "object",
         "type": "string"
        },
        {
         "name": "observer_name",
         "rawType": "object",
         "type": "string"
        },
        {
         "name": "notes",
         "rawType": "object",
         "type": "string"
        },
        {
         "name": "Weight_diff",
         "rawType": "float64",
         "type": "float"
        },
        {
         "name": "year",
         "rawType": "int32",
         "type": "integer"
        }
       ],
       "ref": "d3ade587-d41a-4f5a-848c-b63b1045fe65",
       "rows": [
        [
         "14",
         "15",
         "West African Dwarf Crocodile",
         "Osteolaemus tetraspis",
         "Osteolaemus",
         "1.32",
         "19.2",
         "Adult",
         "Female",
         "2010-06-14 00:00:00",
         "Côte d'Ivoire",
         "Small Streams",
         "Vulnerable",
         "Matthew Lucas",
         "I fund technology eat couple large.",
         "5.177192982456141",
         "2010"
        ],
        [
         "17",
         "18",
         "Nile Crocodile",
         "Crocodylus niloticus",
         "Crocodylus",
         "4.37",
         "565.0",
         "Adult",
         "Female",
         "2025-10-13 00:00:00",
         "Sudan",
         "Reservoirs",
         "Least Concern",
         "Amy Edwards",
         "Once me system church whether bag.",
         "109.03958333333338",
         "2025"
        ],
        [
         "26",
         "27",
         "Mugger Crocodile (Marsh Crocodile)",
         "Crocodylus palustris",
         "Crocodylus",
         "3.39",
         "174.9",
         "Adult",
         "Female",
         "2022-07-20 00:00:00",
         "Pakistan",
         "Rivers",
         "Vulnerable",
         "Donald Jones",
         "Go meeting quickly such former agree theory end oil.",
         "13.657446808510656",
         "2022"
        ],
        [
         "29",
         "30",
         "Orinoco Crocodile",
         "Crocodylus intermedius",
         "Crocodylus",
         "4.71",
         "576.6",
         "Adult",
         "Female",
         "2018-08-07 00:00:00",
         "Venezuela",
         "Flooded Savannas",
         "Critically Endangered",
         "Jamie Adkins",
         "Past feeling nature a expert involve oil.",
         "280.85172413793106",
         "2018"
        ],
        [
         "31",
         "32",
         "American Crocodile",
         "Crocodylus acutus",
         "Crocodylus",
         "4.11",
         "324.4",
         "Adult",
         "Female",
         "2014-01-10 00:00:00",
         "USA (Florida)",
         "Mangroves",
         "Vulnerable",
         "Eric Drake",
         "Agency each little sure authority increase picture create recent manager.",
         "135.39999999999998",
         "2014"
        ],
        [
         "32",
         "33",
         "Cuban Crocodile",
         "Crocodylus rhombifer",
         "Crocodylus",
         "2.42",
         "85.6",
         "Adult",
         "Female",
         "2017-04-16 00:00:00",
         "Cuba",
         "Swamps",
         "Critically Endangered",
         "Matthew Smith",
         "Sing despite sound receive let newspaper true.",
         "-13.776271186440681",
         "2017"
        ],
        [
         "36",
         "37",
         "West African Dwarf Crocodile",
         "Osteolaemus tetraspis",
         "Osteolaemus",
         "1.48",
         "21.9",
         "Adult",
         "Female",
         "2021-12-10 00:00:00",
         "Côte d'Ivoire",
         "Small Streams",
         "Vulnerable",
         "Morgan Marsh",
         "Major event magazine home protect something right subject try wonder move trade.",
         "7.87719298245614",
         "2021"
        ],
        [
         "50",
         "51",
         "American Crocodile",
         "Crocodylus acutus",
         "Crocodylus",
         "3.57",
         "229.3",
         "Adult",
         "Female",
         "2014-07-18 00:00:00",
         "USA (Florida)",
         "Mangroves",
         "Vulnerable",
         "Dennis Moody",
         "Product value interesting name positive training step author coach film see notice eye buy.",
         "40.30000000000001",
         "2014"
        ],
        [
         "62",
         "63",
         "West African Dwarf Crocodile",
         "Osteolaemus tetraspis",
         "Osteolaemus",
         "1.18",
         "12.5",
         "Adult",
         "Female",
         "2014-10-30 00:00:00",
         "Cameroon",
         "Small Streams",
         "Vulnerable",
         "Amber Flynn",
         "Grow issue each include radio conference.",
         "-1.5228070175438582",
         "2014"
        ],
        [
         "64",
         "65",
         "Freshwater Crocodile (Johnstone's)",
         "Crocodylus johnstoni",
         "Crocodylus",
         "1.93",
         "46.7",
         "Adult",
         "Female",
         "2009-04-11 00:00:00",
         "Australia",
         "Freshwater Rivers",
         "Least Concern",
         "Victoria Evans",
         "Real lead few yourself table blood high grow fast recognize against.",
         "-7.822222222222223",
         "2009"
        ],
        [
         "67",
         "68",
         "Cuban Crocodile",
         "Crocodylus rhombifer",
         "Crocodylus",
         "2.23",
         "81.8",
         "Adult",
         "Female",
         "2005-05-06 00:00:00",
         "Cuba",
         "Swamps",
         "Critically Endangered",
         "Kevin Oconnor",
         "Travel force indeed customer skill.",
         "-17.576271186440678",
         "2005"
        ],
        [
         "72",
         "73",
         "West African Slender-snouted Crocodile",
         "Mecistops cataphractus",
         "Mecistops",
         "2.9",
         "165.4",
         "Adult",
         "Female",
         "2005-06-29 00:00:00",
         "Nigeria",
         "Swamps",
         "Critically Endangered",
         "Michael Paul",
         "Industry score choice increase between majority impact week allow have kitchen wear.",
         "35.363636363636374",
         "2005"
        ],
        [
         "76",
         "77",
         "Morelet's Crocodile",
         "Crocodylus moreletii",
         "Crocodylus",
         "2.15",
         "75.1",
         "Adult",
         "Female",
         "2023-12-21 00:00:00",
         "Guatemala",
         "Rivers",
         "Least Concern",
         "Brian Brown",
         "Sing message board mean war analysis situation term.",
         "-9.884375000000006",
         "2023"
        ],
        [
         "79",
         "80",
         "Saltwater Crocodile",
         "Crocodylus porosus",
         "Crocodylus",
         "5.07",
         "791.7",
         "Adult",
         "Female",
         "2018-03-05 00:00:00",
         "Malaysia",
         "Mangroves",
         "Least Concern",
         "Larry Garcia",
         "Table prepare shoulder result Democrat later direction fund.",
         "157.05517241379312",
         "2018"
        ],
        [
         "84",
         "85",
         "Morelet's Crocodile",
         "Crocodylus moreletii",
         "Crocodylus",
         "2.31",
         "90.9",
         "Adult",
         "Female",
         "2015-04-11 00:00:00",
         "Guatemala",
         "Swamps",
         "Least Concern",
         "Jacob Griffith",
         "Other third choose senior anyone bank kitchen.",
         "5.915625000000006",
         "2015"
        ],
        [
         "96",
         "97",
         "West African Crocodile",
         "Crocodylus suchus",
         "Crocodylus",
         "3.08",
         "188.3",
         "Adult",
         "Female",
         "2006-12-23 00:00:00",
         "Chad",
         "Rivers",
         "Least Concern",
         "Susan Davis DDS",
         "Gun guy Congress degree way main difficult case baby such big.",
         "75.67115384615386",
         "2006"
        ],
        [
         "102",
         "103",
         "West African Slender-snouted Crocodile",
         "Mecistops cataphractus",
         "Mecistops",
         "2.58",
         "109.7",
         "Adult",
         "Female",
         "2006-06-24 00:00:00",
         "Liberia",
         "Shaded Forest Rivers",
         "Critically Endangered",
         "Ronald Blake",
         "Large accept bad eight strong nature road month book explain feeling answer information soldier lead book.",
         "-20.33636363636363",
         "2006"
        ],
        [
         "108",
         "109",
         "Freshwater Crocodile (Johnstone's)",
         "Crocodylus johnstoni",
         "Crocodylus",
         "2.57",
         "82.1",
         "Adult",
         "Female",
         "2006-03-04 00:00:00",
         "Australia",
         "Billabongs",
         "Least Concern",
         "Bobby Guerrero",
         "Knowledge response coach know language risk treatment past itself police social arm provide.",
         "27.57777777777777",
         "2006"
        ],
        [
         "118",
         "119",
         "Orinoco Crocodile",
         "Crocodylus intermedius",
         "Crocodylus",
         "4.55",
         "524.1",
         "Adult",
         "Female",
         "2008-09-27 00:00:00",
         "Colombia",
         "Flooded Savannas",
         "Critically Endangered",
         "Deborah Clark",
         "Indicate police marriage phone face what lot source rate father authority art keep machine daughter parent fine.",
         "228.35172413793106",
         "2008"
        ],
        [
         "122",
         "123",
         "West African Dwarf Crocodile",
         "Osteolaemus tetraspis",
         "Osteolaemus",
         "1.37",
         "18.1",
         "Adult",
         "Female",
         "2020-07-26 00:00:00",
         "Côte d'Ivoire",
         "Forest Swamps",
         "Vulnerable",
         "Diana Hays",
         "Budget window hour some fund voice sense current meeting.",
         "4.077192982456143",
         "2020"
        ],
        [
         "124",
         "125",
         "Mugger Crocodile (Marsh Crocodile)",
         "Crocodylus palustris",
         "Crocodylus",
         "3.19",
         "153.6",
         "Adult",
         "Female",
         "2015-06-26 00:00:00",
         "Iran (historic)",
         "Rivers",
         "Vulnerable",
         "Karen Smith",
         "Purpose woman on someone rise read ago.",
         "-7.642553191489355",
         "2015"
        ],
        [
         "129",
         "130",
         "Siamese Crocodile",
         "Crocodylus siamensis",
         "Crocodylus",
         "2.88",
         "154.9",
         "Adult",
         "Female",
         "2019-05-26 00:00:00",
         "Laos",
         "Swamps",
         "Critically Endangered",
         "Hannah Ramos",
         "Section degree still even no even body scientist.",
         "50.58444444444446",
         "2019"
        ],
        [
         "145",
         "146",
         "Borneo Crocodile (disputed)",
         "Crocodylus raninus",
         "Crocodylus",
         "3.68",
         "273.7",
         "Adult",
         "Female",
         "2024-08-31 00:00:00",
         "Indonesia (Borneo)",
         "Rivers",
         "Data Deficient",
         "Patricia Cardenas",
         "Few century produce determine feel article we they treatment.",
         "155.71641791044777",
         "2024"
        ],
        [
         "146",
         "147",
         "Morelet's Crocodile",
         "Crocodylus moreletii",
         "Crocodylus",
         "2.42",
         "78.6",
         "Adult",
         "Female",
         "2009-04-29 00:00:00",
         "Mexico",
         "Rivers",
         "Least Concern",
         "Jessica Simpson",
         "Walk provide skill five indicate chance heavy senior.",
         "-6.384375000000006",
         "2009"
        ],
        [
         "150",
         "151",
         "Freshwater Crocodile (Johnstone's)",
         "Crocodylus johnstoni",
         "Crocodylus",
         "2.17",
         "60.6",
         "Adult",
         "Female",
         "2021-12-27 00:00:00",
         "Australia",
         "Freshwater Rivers",
         "Least Concern",
         "Christine Herman",
         "Focus executive letter possible final growth third letter sort.",
         "6.077777777777776",
         "2021"
        ],
        [
         "171",
         "172",
         "New Guinea Crocodile",
         "Crocodylus novaeguineae",
         "Crocodylus",
         "2.31",
         "88.7",
         "Adult",
         "Female",
         "2008-08-23 00:00:00",
         "Papua New Guinea",
         "Rivers",
         "Least Concern",
         "Tracie Jordan",
         "Better develop section newspaper reach determine hear.",
         "8.28529411764707",
         "2008"
        ],
        [
         "172",
         "173",
         "Congo Dwarf Crocodile",
         "Osteolaemus osborni",
         "Osteolaemus",
         "1.49",
         "26.9",
         "Adult",
         "Female",
         "2006-03-16 00:00:00",
         "Congo (DRC)",
         "Slow Streams",
         "Data Deficient",
         "Michael Vaughn",
         "General agency bit indeed which break wait.",
         "7.120833333333334",
         "2006"
        ],
        [
         "180",
         "181",
         "Orinoco Crocodile",
         "Crocodylus intermedius",
         "Crocodylus",
         "3.7",
         "328.6",
         "Adult",
         "Female",
         "2020-02-05 00:00:00",
         "Colombia",
         "Large Rivers",
         "Critically Endangered",
         "Reginald Morrow",
         "My series service kid despite interesting save president easy themselves.",
         "32.85172413793106",
         "2020"
        ],
        [
         "182",
         "183",
         "Saltwater Crocodile",
         "Crocodylus porosus",
         "Crocodylus",
         "5.32",
         "868.3",
         "Adult",
         "Female",
         "2008-09-24 00:00:00",
         "Malaysia",
         "Estuaries",
         "Least Concern",
         "Charles Clark",
         "South now mother others collection without fall of weight method.",
         "233.65517241379303",
         "2008"
        ],
        [
         "183",
         "184",
         "New Guinea Crocodile",
         "Crocodylus novaeguineae",
         "Crocodylus",
         "2.1",
         "70.3",
         "Adult",
         "Female",
         "2013-05-23 00:00:00",
         "Indonesia (Papua)",
         "Swamps",
         "Least Concern",
         "Robin Taylor",
         "Try yeah term camera tend economic represent stock seven put majority officer environmental increase later.",
         "-10.114705882352936",
         "2013"
        ],
        [
         "206",
         "207",
         "Congo Dwarf Crocodile",
         "Osteolaemus osborni",
         "Osteolaemus",
         "1.51",
         "22.3",
         "Adult",
         "Female",
         "2009-08-11 00:00:00",
         "Congo (DRC)",
         "Slow Streams",
         "Data Deficient",
         "Paul Wright",
         "Big soldier building article sit develop cup hundred rather visit base.",
         "2.5208333333333357",
         "2009"
        ],
        [
         "209",
         "210",
         "Saltwater Crocodile",
         "Crocodylus porosus",
         "Crocodylus",
         "6.02",
         "1085.6",
         "Adult",
         "Female",
         "2020-09-28 00:00:00",
         "Papua New Guinea",
         "Estuaries",
         "Least Concern",
         "Danielle Phillips",
         "Third look because him information poor something eat yes myself affect him require look sit.",
         "450.955172413793",
         "2020"
        ],
        [
         "221",
         "222",
         "American Crocodile",
         "Crocodylus acutus",
         "Crocodylus",
         "2.77",
         "130.0",
         "Adult",
         "Female",
         "2008-04-30 00:00:00",
         "Mexico",
         "Estuaries",
         "Vulnerable",
         "Jessica Valdez",
         "Threat church big day couple recent reveal role enter example down anyone occur style child.",
         "-59.0",
         "2008"
        ],
        [
         "233",
         "234",
         "West African Crocodile",
         "Crocodylus suchus",
         "Crocodylus",
         "2.98",
         "190.6",
         "Adult",
         "Female",
         "2024-01-31 00:00:00",
         "Sudan",
         "Rivers",
         "Least Concern",
         "Scott Chan",
         "Tax positive question especially important after.",
         "77.97115384615384",
         "2024"
        ],
        [
         "238",
         "239",
         "Borneo Crocodile (disputed)",
         "Crocodylus raninus",
         "Crocodylus",
         "2.79",
         "133.3",
         "Adult",
         "Female",
         "2019-10-26 00:00:00",
         "Malaysia (Borneo)",
         "Estuarine Systems",
         "Data Deficient",
         "Nicholas Walker",
         "Point little wait grow feel color price next family likely scientist.",
         "15.316417910447782",
         "2019"
        ],
        [
         "252",
         "253",
         "Central African Slender-snouted Crocodile",
         "Mecistops leptorhynchus",
         "Mecistops",
         "2.86",
         "164.1",
         "Adult",
         "Female",
         "2005-08-13 00:00:00",
         "Gabon",
         "Forest Rivers",
         "Endangered",
         "Marco Johns",
         "Head garden box hundred lead.",
         "71.98392857142856",
         "2005"
        ],
        [
         "254",
         "255",
         "Nile Crocodile",
         "Crocodylus niloticus",
         "Crocodylus",
         "3.56",
         "437.1",
         "Adult",
         "Female",
         "2010-08-27 00:00:00",
         "Uganda",
         "Reservoirs",
         "Least Concern",
         "Meghan White",
         "Single particularly television they road through low maintain thought key.",
         "-18.860416666666595",
         "2010"
        ],
        [
         "268",
         "269",
         "Siamese Crocodile",
         "Crocodylus siamensis",
         "Crocodylus",
         "2.85",
         "151.8",
         "Adult",
         "Female",
         "2007-07-23 00:00:00",
         "Cambodia",
         "Swamps",
         "Critically Endangered",
         "Jerry Lucero",
         "Cost community message help investment news.",
         "47.48444444444446",
         "2007"
        ],
        [
         "271",
         "272",
         "West African Slender-snouted Crocodile",
         "Mecistops cataphractus",
         "Mecistops",
         "2.08",
         "82.8",
         "Adult",
         "Female",
         "2021-07-26 00:00:00",
         "Guinea",
         "Shaded Forest Rivers",
         "Critically Endangered",
         "Edward Clements",
         "Most you statement wonder across protect knowledge toward.",
         "-47.236363636363635",
         "2021"
        ],
        [
         "274",
         "275",
         "Saltwater Crocodile",
         "Crocodylus porosus",
         "Crocodylus",
         "4.19",
         "541.7",
         "Adult",
         "Female",
         "2018-09-18 00:00:00",
         "Australia",
         "Mangroves",
         "Least Concern",
         "Austin Santiago",
         "Ten interest billion Mrs reflect wish simple position vote section child.",
         "-92.94482758620688",
         "2018"
        ],
        [
         "279",
         "280",
         "Congo Dwarf Crocodile",
         "Osteolaemus osborni",
         "Osteolaemus",
         "1.51",
         "23.7",
         "Adult",
         "Female",
         "2013-02-24 00:00:00",
         "Congo (DRC)",
         "Forest Swamps",
         "Data Deficient",
         "Jennifer Kelley",
         "Fight security tough gas include position mention claim determine.",
         "3.9208333333333343",
         "2013"
        ],
        [
         "296",
         "297",
         "Philippine Crocodile",
         "Crocodylus mindorensis",
         "Crocodylus",
         "2.48",
         "104.1",
         "Adult",
         "Female",
         "2019-07-03 00:00:00",
         "Philippines",
         "Ponds",
         "Critically Endangered",
         "Jennifer Harris DDS",
         "Lot have never effect fill general relationship save talk process.",
         "45.398275862068964",
         "2019"
        ],
        [
         "318",
         "319",
         "Borneo Crocodile (disputed)",
         "Crocodylus raninus",
         "Crocodylus",
         "2.81",
         "138.5",
         "Adult",
         "Female",
         "2012-11-11 00:00:00",
         "Indonesia (Borneo)",
         "Estuarine Systems",
         "Data Deficient",
         "Rebecca Kelley",
         "In night house clear say hope.",
         "20.51641791044777",
         "2012"
        ],
        [
         "327",
         "328",
         "Borneo Crocodile (disputed)",
         "Crocodylus raninus",
         "Crocodylus",
         "3.0",
         "130.3",
         "Adult",
         "Female",
         "2024-08-26 00:00:00",
         "Malaysia (Borneo)",
         "Estuarine Systems",
         "Data Deficient",
         "Luke Galvan",
         "Art green child movie blue maintain first next popular girl through run again help right economy.",
         "12.316417910447782",
         "2024"
        ],
        [
         "337",
         "338",
         "Siamese Crocodile",
         "Crocodylus siamensis",
         "Crocodylus",
         "2.81",
         "127.1",
         "Adult",
         "Female",
         "2023-10-26 00:00:00",
         "Cambodia",
         "Swamps",
         "Critically Endangered",
         "Samantha Ellison",
         "News unit choice also green catch happen old do specific begin hundred truth.",
         "22.784444444444446",
         "2023"
        ],
        [
         "340",
         "341",
         "American Crocodile",
         "Crocodylus acutus",
         "Crocodylus",
         "3.05",
         "188.0",
         "Adult",
         "Female",
         "2011-02-01 00:00:00",
         "Colombia",
         "Mangroves",
         "Vulnerable",
         "Connie Williams",
         "Wife send offer bed it skill challenge from live seat nature energy huge its recently.",
         "-1.0",
         "2011"
        ],
        [
         "342",
         "343",
         "West African Crocodile",
         "Crocodylus suchus",
         "Crocodylus",
         "2.28",
         "97.8",
         "Adult",
         "Female",
         "2010-02-22 00:00:00",
         "Mauritania",
         "Oases",
         "Least Concern",
         "Ann Powers",
         "Half couple general pretty show college glass start sort perhaps key.",
         "-14.828846153846158",
         "2010"
        ],
        [
         "348",
         "349",
         "Siamese Crocodile",
         "Crocodylus siamensis",
         "Crocodylus",
         "2.92",
         "166.7",
         "Adult",
         "Female",
         "2020-09-17 00:00:00",
         "Vietnam",
         "Slow Rivers",
         "Critically Endangered",
         "Wesley Browning",
         "Last capital present ok range dark catch read together travel involve.",
         "62.38444444444444",
         "2020"
        ],
        [
         "356",
         "357",
         "Central African Slender-snouted Crocodile",
         "Mecistops leptorhynchus",
         "Mecistops",
         "2.64",
         "129.9",
         "Adult",
         "Female",
         "2021-06-05 00:00:00",
         "Gabon",
         "Swamps",
         "Endangered",
         "Louis Brown",
         "Tough less position bed may conference one thus national hotel food agent law to time think bed.",
         "37.783928571428575",
         "2021"
        ],
        [
         "360",
         "361",
         "West African Slender-snouted Crocodile",
         "Mecistops cataphractus",
         "Mecistops",
         "2.87",
         "168.0",
         "Adult",
         "Female",
         "2016-11-12 00:00:00",
         "Guinea",
         "Shaded Forest Rivers",
         "Critically Endangered",
         "Marcus King",
         "Marriage material space part management describe process law kind over according.",
         "37.96363636363637",
         "2016"
        ]
       ],
       "shape": {
        "columns": 16,
        "rows": 159
       }
      },
      "text/html": [
       "<div>\n",
       "<style scoped>\n",
       "    .dataframe tbody tr th:only-of-type {\n",
       "        vertical-align: middle;\n",
       "    }\n",
       "\n",
       "    .dataframe tbody tr th {\n",
       "        vertical-align: top;\n",
       "    }\n",
       "\n",
       "    .dataframe thead th {\n",
       "        text-align: right;\n",
       "    }\n",
       "</style>\n",
       "<table border=\"1\" class=\"dataframe\">\n",
       "  <thead>\n",
       "    <tr style=\"text-align: right;\">\n",
       "      <th></th>\n",
       "      <th>observation_ID</th>\n",
       "      <th>common_name</th>\n",
       "      <th>scientific_name</th>\n",
       "      <th>genus</th>\n",
       "      <th>length_m</th>\n",
       "      <th>weight_kg</th>\n",
       "      <th>age_class</th>\n",
       "      <th>sex</th>\n",
       "      <th>observation_date</th>\n",
       "      <th>country</th>\n",
       "      <th>habitat_type</th>\n",
       "      <th>conservation_status</th>\n",
       "      <th>observer_name</th>\n",
       "      <th>notes</th>\n",
       "      <th>Weight_diff</th>\n",
       "      <th>year</th>\n",
       "    </tr>\n",
       "  </thead>\n",
       "  <tbody>\n",
       "    <tr>\n",
       "      <th>14</th>\n",
       "      <td>15</td>\n",
       "      <td>West African Dwarf Crocodile</td>\n",
       "      <td>Osteolaemus tetraspis</td>\n",
       "      <td>Osteolaemus</td>\n",
       "      <td>1.32</td>\n",
       "      <td>19.2</td>\n",
       "      <td>Adult</td>\n",
       "      <td>Female</td>\n",
       "      <td>2010-06-14</td>\n",
       "      <td>Côte d'Ivoire</td>\n",
       "      <td>Small Streams</td>\n",
       "      <td>Vulnerable</td>\n",
       "      <td>Matthew Lucas</td>\n",
       "      <td>I fund technology eat couple large.</td>\n",
       "      <td>5.177193</td>\n",
       "      <td>2010</td>\n",
       "    </tr>\n",
       "    <tr>\n",
       "      <th>17</th>\n",
       "      <td>18</td>\n",
       "      <td>Nile Crocodile</td>\n",
       "      <td>Crocodylus niloticus</td>\n",
       "      <td>Crocodylus</td>\n",
       "      <td>4.37</td>\n",
       "      <td>565.0</td>\n",
       "      <td>Adult</td>\n",
       "      <td>Female</td>\n",
       "      <td>2025-10-13</td>\n",
       "      <td>Sudan</td>\n",
       "      <td>Reservoirs</td>\n",
       "      <td>Least Concern</td>\n",
       "      <td>Amy Edwards</td>\n",
       "      <td>Once me system church whether bag.</td>\n",
       "      <td>109.039583</td>\n",
       "      <td>2025</td>\n",
       "    </tr>\n",
       "    <tr>\n",
       "      <th>26</th>\n",
       "      <td>27</td>\n",
       "      <td>Mugger Crocodile (Marsh Crocodile)</td>\n",
       "      <td>Crocodylus palustris</td>\n",
       "      <td>Crocodylus</td>\n",
       "      <td>3.39</td>\n",
       "      <td>174.9</td>\n",
       "      <td>Adult</td>\n",
       "      <td>Female</td>\n",
       "      <td>2022-07-20</td>\n",
       "      <td>Pakistan</td>\n",
       "      <td>Rivers</td>\n",
       "      <td>Vulnerable</td>\n",
       "      <td>Donald Jones</td>\n",
       "      <td>Go meeting quickly such former agree theory en...</td>\n",
       "      <td>13.657447</td>\n",
       "      <td>2022</td>\n",
       "    </tr>\n",
       "    <tr>\n",
       "      <th>29</th>\n",
       "      <td>30</td>\n",
       "      <td>Orinoco Crocodile</td>\n",
       "      <td>Crocodylus intermedius</td>\n",
       "      <td>Crocodylus</td>\n",
       "      <td>4.71</td>\n",
       "      <td>576.6</td>\n",
       "      <td>Adult</td>\n",
       "      <td>Female</td>\n",
       "      <td>2018-08-07</td>\n",
       "      <td>Venezuela</td>\n",
       "      <td>Flooded Savannas</td>\n",
       "      <td>Critically Endangered</td>\n",
       "      <td>Jamie Adkins</td>\n",
       "      <td>Past feeling nature a expert involve oil.</td>\n",
       "      <td>280.851724</td>\n",
       "      <td>2018</td>\n",
       "    </tr>\n",
       "    <tr>\n",
       "      <th>31</th>\n",
       "      <td>32</td>\n",
       "      <td>American Crocodile</td>\n",
       "      <td>Crocodylus acutus</td>\n",
       "      <td>Crocodylus</td>\n",
       "      <td>4.11</td>\n",
       "      <td>324.4</td>\n",
       "      <td>Adult</td>\n",
       "      <td>Female</td>\n",
       "      <td>2014-01-10</td>\n",
       "      <td>USA (Florida)</td>\n",
       "      <td>Mangroves</td>\n",
       "      <td>Vulnerable</td>\n",
       "      <td>Eric Drake</td>\n",
       "      <td>Agency each little sure authority increase pic...</td>\n",
       "      <td>135.400000</td>\n",
       "      <td>2014</td>\n",
       "    </tr>\n",
       "    <tr>\n",
       "      <th>...</th>\n",
       "      <td>...</td>\n",
       "      <td>...</td>\n",
       "      <td>...</td>\n",
       "      <td>...</td>\n",
       "      <td>...</td>\n",
       "      <td>...</td>\n",
       "      <td>...</td>\n",
       "      <td>...</td>\n",
       "      <td>...</td>\n",
       "      <td>...</td>\n",
       "      <td>...</td>\n",
       "      <td>...</td>\n",
       "      <td>...</td>\n",
       "      <td>...</td>\n",
       "      <td>...</td>\n",
       "      <td>...</td>\n",
       "    </tr>\n",
       "    <tr>\n",
       "      <th>980</th>\n",
       "      <td>981</td>\n",
       "      <td>West African Dwarf Crocodile</td>\n",
       "      <td>Osteolaemus tetraspis</td>\n",
       "      <td>Osteolaemus</td>\n",
       "      <td>1.01</td>\n",
       "      <td>11.3</td>\n",
       "      <td>Adult</td>\n",
       "      <td>Female</td>\n",
       "      <td>2012-03-09</td>\n",
       "      <td>Sierra Leone</td>\n",
       "      <td>Small Streams</td>\n",
       "      <td>Vulnerable</td>\n",
       "      <td>David Tapia</td>\n",
       "      <td>War product action our gas heart field people ...</td>\n",
       "      <td>-2.722807</td>\n",
       "      <td>2012</td>\n",
       "    </tr>\n",
       "    <tr>\n",
       "      <th>981</th>\n",
       "      <td>982</td>\n",
       "      <td>Freshwater Crocodile (Johnstone's)</td>\n",
       "      <td>Crocodylus johnstoni</td>\n",
       "      <td>Crocodylus</td>\n",
       "      <td>2.14</td>\n",
       "      <td>57.7</td>\n",
       "      <td>Adult</td>\n",
       "      <td>Female</td>\n",
       "      <td>2022-04-16</td>\n",
       "      <td>Australia</td>\n",
       "      <td>Gorges</td>\n",
       "      <td>Least Concern</td>\n",
       "      <td>Meghan Rowland</td>\n",
       "      <td>Floor all red technology himself much better.</td>\n",
       "      <td>3.177778</td>\n",
       "      <td>2022</td>\n",
       "    </tr>\n",
       "    <tr>\n",
       "      <th>988</th>\n",
       "      <td>989</td>\n",
       "      <td>Siamese Crocodile</td>\n",
       "      <td>Crocodylus siamensis</td>\n",
       "      <td>Crocodylus</td>\n",
       "      <td>3.04</td>\n",
       "      <td>163.6</td>\n",
       "      <td>Adult</td>\n",
       "      <td>Female</td>\n",
       "      <td>2023-06-17</td>\n",
       "      <td>Thailand</td>\n",
       "      <td>Slow Rivers</td>\n",
       "      <td>Critically Endangered</td>\n",
       "      <td>Robert Jordan DDS</td>\n",
       "      <td>Play blood list everything newspaper instituti...</td>\n",
       "      <td>59.284444</td>\n",
       "      <td>2023</td>\n",
       "    </tr>\n",
       "    <tr>\n",
       "      <th>994</th>\n",
       "      <td>995</td>\n",
       "      <td>Morelet's Crocodile</td>\n",
       "      <td>Crocodylus moreletii</td>\n",
       "      <td>Crocodylus</td>\n",
       "      <td>3.40</td>\n",
       "      <td>159.5</td>\n",
       "      <td>Adult</td>\n",
       "      <td>Female</td>\n",
       "      <td>2017-10-26</td>\n",
       "      <td>Guatemala</td>\n",
       "      <td>Rivers</td>\n",
       "      <td>Least Concern</td>\n",
       "      <td>Seth Norman</td>\n",
       "      <td>Cover risk health last student different.</td>\n",
       "      <td>74.515625</td>\n",
       "      <td>2017</td>\n",
       "    </tr>\n",
       "    <tr>\n",
       "      <th>995</th>\n",
       "      <td>996</td>\n",
       "      <td>West African Crocodile</td>\n",
       "      <td>Crocodylus suchus</td>\n",
       "      <td>Crocodylus</td>\n",
       "      <td>2.55</td>\n",
       "      <td>112.3</td>\n",
       "      <td>Adult</td>\n",
       "      <td>Female</td>\n",
       "      <td>2015-10-01</td>\n",
       "      <td>Mauritania</td>\n",
       "      <td>Lakes</td>\n",
       "      <td>Least Concern</td>\n",
       "      <td>Karen Avery</td>\n",
       "      <td>Thousand position sense church out explain sig...</td>\n",
       "      <td>-0.328846</td>\n",
       "      <td>2015</td>\n",
       "    </tr>\n",
       "  </tbody>\n",
       "</table>\n",
       "<p>159 rows × 16 columns</p>\n",
       "</div>"
      ],
      "text/plain": [
       "     observation_ID                         common_name  \\\n",
       "14               15        West African Dwarf Crocodile   \n",
       "17               18                      Nile Crocodile   \n",
       "26               27  Mugger Crocodile (Marsh Crocodile)   \n",
       "29               30                   Orinoco Crocodile   \n",
       "31               32                  American Crocodile   \n",
       "..              ...                                 ...   \n",
       "980             981        West African Dwarf Crocodile   \n",
       "981             982  Freshwater Crocodile (Johnstone's)   \n",
       "988             989                   Siamese Crocodile   \n",
       "994             995                 Morelet's Crocodile   \n",
       "995             996              West African Crocodile   \n",
       "\n",
       "            scientific_name        genus  length_m  weight_kg age_class  \\\n",
       "14    Osteolaemus tetraspis  Osteolaemus      1.32       19.2     Adult   \n",
       "17     Crocodylus niloticus   Crocodylus      4.37      565.0     Adult   \n",
       "26     Crocodylus palustris   Crocodylus      3.39      174.9     Adult   \n",
       "29   Crocodylus intermedius   Crocodylus      4.71      576.6     Adult   \n",
       "31        Crocodylus acutus   Crocodylus      4.11      324.4     Adult   \n",
       "..                      ...          ...       ...        ...       ...   \n",
       "980   Osteolaemus tetraspis  Osteolaemus      1.01       11.3     Adult   \n",
       "981    Crocodylus johnstoni   Crocodylus      2.14       57.7     Adult   \n",
       "988    Crocodylus siamensis   Crocodylus      3.04      163.6     Adult   \n",
       "994    Crocodylus moreletii   Crocodylus      3.40      159.5     Adult   \n",
       "995       Crocodylus suchus   Crocodylus      2.55      112.3     Adult   \n",
       "\n",
       "        sex observation_date        country      habitat_type  \\\n",
       "14   Female       2010-06-14  Côte d'Ivoire     Small Streams   \n",
       "17   Female       2025-10-13          Sudan        Reservoirs   \n",
       "26   Female       2022-07-20       Pakistan            Rivers   \n",
       "29   Female       2018-08-07      Venezuela  Flooded Savannas   \n",
       "31   Female       2014-01-10  USA (Florida)         Mangroves   \n",
       "..      ...              ...            ...               ...   \n",
       "980  Female       2012-03-09   Sierra Leone     Small Streams   \n",
       "981  Female       2022-04-16      Australia            Gorges   \n",
       "988  Female       2023-06-17       Thailand       Slow Rivers   \n",
       "994  Female       2017-10-26      Guatemala            Rivers   \n",
       "995  Female       2015-10-01     Mauritania             Lakes   \n",
       "\n",
       "       conservation_status      observer_name  \\\n",
       "14              Vulnerable      Matthew Lucas   \n",
       "17           Least Concern        Amy Edwards   \n",
       "26              Vulnerable       Donald Jones   \n",
       "29   Critically Endangered       Jamie Adkins   \n",
       "31              Vulnerable         Eric Drake   \n",
       "..                     ...                ...   \n",
       "980             Vulnerable        David Tapia   \n",
       "981          Least Concern     Meghan Rowland   \n",
       "988  Critically Endangered  Robert Jordan DDS   \n",
       "994          Least Concern        Seth Norman   \n",
       "995          Least Concern        Karen Avery   \n",
       "\n",
       "                                                 notes  Weight_diff  year  \n",
       "14                 I fund technology eat couple large.     5.177193  2010  \n",
       "17                  Once me system church whether bag.   109.039583  2025  \n",
       "26   Go meeting quickly such former agree theory en...    13.657447  2022  \n",
       "29           Past feeling nature a expert involve oil.   280.851724  2018  \n",
       "31   Agency each little sure authority increase pic...   135.400000  2014  \n",
       "..                                                 ...          ...   ...  \n",
       "980  War product action our gas heart field people ...    -2.722807  2012  \n",
       "981      Floor all red technology himself much better.     3.177778  2022  \n",
       "988  Play blood list everything newspaper instituti...    59.284444  2023  \n",
       "994          Cover risk health last student different.    74.515625  2017  \n",
       "995  Thousand position sense church out explain sig...    -0.328846  2015  \n",
       "\n",
       "[159 rows x 16 columns]"
      ]
     },
     "metadata": {},
     "output_type": "display_data"
    }
   ],
   "source": [
    "# Filter dataset for adult female crocodiles and display the result\n",
    "display(df.query(\"sex == 'Female' and age_class == 'Adult'\"))"
   ]
  }
 ],
 "metadata": {
  "kernelspec": {
   "display_name": "Python 3",
   "language": "python",
   "name": "python3"
  },
  "language_info": {
   "codemirror_mode": {
    "name": "ipython",
    "version": 3
   },
   "file_extension": ".py",
   "mimetype": "text/x-python",
   "name": "python",
   "nbconvert_exporter": "python",
   "pygments_lexer": "ipython3",
   "version": "3.13.7"
  }
 },
 "nbformat": 4,
 "nbformat_minor": 5
}
